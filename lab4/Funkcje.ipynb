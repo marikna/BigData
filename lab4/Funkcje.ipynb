{
 "cells": [
  {
   "cell_type": "markdown",
   "metadata": {
    "application/vnd.databricks.v1+cell": {
     "cellMetadata": {
      "byteLimit": 2048000,
      "rowLimit": 10000
     },
     "inputWidgets": {},
     "nuid": "96816ed7-b08a-4ca3-abb9-f99880c3535d",
     "showTitle": false,
     "tableResultSettingsMap": {},
     "title": ""
    }
   },
   "source": [
    "\n",
    "## Overview\n",
    "\n",
    "This notebook will show you how to create and query a table or DataFrame that you uploaded to DBFS. [DBFS](https://docs.databricks.com/user-guide/dbfs-databricks-file-system.html) is a Databricks File System that allows you to store data for querying inside of Databricks. This notebook assumes that you have a file already inside of DBFS that you would like to read from.\n",
    "\n",
    "This notebook is written in **Python** so the default cell type is Python. However, you can use different languages by using the `%LANGUAGE` syntax. Python, Scala, SQL, and R are all supported."
   ]
  },
  {
   "cell_type": "code",
   "execution_count": 0,
   "metadata": {
    "application/vnd.databricks.v1+cell": {
     "cellMetadata": {
      "byteLimit": 2048000,
      "rowLimit": 10000
     },
     "inputWidgets": {},
     "nuid": "6482be4c-f067-47c9-b0ac-35c938b94601",
     "showTitle": false,
     "tableResultSettingsMap": {},
     "title": ""
    }
   },
   "outputs": [
    {
     "output_type": "display_data",
     "data": {
      "text/html": [
       "<style scoped>\n",
       "  .table-result-container {\n",
       "    max-height: 300px;\n",
       "    overflow: auto;\n",
       "  }\n",
       "  table, th, td {\n",
       "    border: 1px solid black;\n",
       "    border-collapse: collapse;\n",
       "  }\n",
       "  th, td {\n",
       "    padding: 5px;\n",
       "  }\n",
       "  th {\n",
       "    text-align: left;\n",
       "  }\n",
       "</style><div class='table-result-container'><table class='table-result'><thead style='background-color: white'><tr><th>station_id</th><th>name</th><th>lat</th><th>long</th><th>dockcount</th><th>landmark</th><th>installation</th></tr></thead><tbody><tr><td>2</td><td>San Jose Diridon Caltrain Station</td><td>37.329732</td><td>-121.901782</td><td>27</td><td>San Jose</td><td>8/6/2013</td></tr><tr><td>3</td><td>San Jose Civic Center</td><td>37.330698</td><td>-121.888979</td><td>15</td><td>San Jose</td><td>8/5/2013</td></tr><tr><td>4</td><td>Santa Clara at Almaden</td><td>37.333988</td><td>-121.894902</td><td>11</td><td>San Jose</td><td>8/6/2013</td></tr><tr><td>5</td><td>Adobe on Almaden</td><td>37.331415</td><td>-121.8932</td><td>19</td><td>San Jose</td><td>8/5/2013</td></tr><tr><td>6</td><td>San Pedro Square</td><td>37.336721</td><td>-121.894074</td><td>15</td><td>San Jose</td><td>8/7/2013</td></tr><tr><td>7</td><td>Paseo de San Antonio</td><td>37.333798</td><td>-121.886943</td><td>15</td><td>San Jose</td><td>8/7/2013</td></tr><tr><td>8</td><td>San Salvador at 1st</td><td>37.330165</td><td>-121.885831</td><td>15</td><td>San Jose</td><td>8/5/2013</td></tr><tr><td>9</td><td>Japantown</td><td>37.348742</td><td>-121.894715</td><td>15</td><td>San Jose</td><td>8/5/2013</td></tr><tr><td>10</td><td>San Jose City Hall</td><td>37.337391</td><td>-121.886995</td><td>15</td><td>San Jose</td><td>8/6/2013</td></tr><tr><td>11</td><td>MLK Library</td><td>37.335885</td><td>-121.88566</td><td>19</td><td>San Jose</td><td>8/6/2013</td></tr><tr><td>12</td><td>SJSU 4th at San Carlos</td><td>37.332808</td><td>-121.883891</td><td>19</td><td>San Jose</td><td>8/7/2013</td></tr><tr><td>13</td><td>St James Park</td><td>37.339301</td><td>-121.889937</td><td>15</td><td>San Jose</td><td>8/6/2013</td></tr><tr><td>14</td><td>Arena Green / SAP Center</td><td>37.332692</td><td>-121.900084</td><td>19</td><td>San Jose</td><td>8/5/2013</td></tr><tr><td>16</td><td>SJSU - San Salvador at 9th</td><td>37.333955</td><td>-121.877349</td><td>15</td><td>San Jose</td><td>8/7/2013</td></tr><tr><td>21</td><td>Franklin at Maple</td><td>37.481758</td><td>-122.226904</td><td>15</td><td>Redwood City</td><td>8/12/2013</td></tr><tr><td>22</td><td>Redwood City Caltrain Station</td><td>37.486078</td><td>-122.232089</td><td>25</td><td>Redwood City</td><td>8/15/2013</td></tr><tr><td>23</td><td>San Mateo County Center</td><td>37.487616</td><td>-122.229951</td><td>15</td><td>Redwood City</td><td>8/15/2013</td></tr><tr><td>24</td><td>Redwood City Public Library</td><td>37.484219</td><td>-122.227424</td><td>15</td><td>Redwood City</td><td>8/12/2013</td></tr><tr><td>25</td><td>Stanford in Redwood City</td><td>37.48537</td><td>-122.203288</td><td>15</td><td>Redwood City</td><td>8/12/2013</td></tr><tr><td>26</td><td>Redwood City Medical Center</td><td>37.487682</td><td>-122.223492</td><td>15</td><td>Redwood City</td><td>8/12/2013</td></tr><tr><td>27</td><td>Mountain View City Hall</td><td>37.389218</td><td>-122.081896</td><td>15</td><td>Mountain View</td><td>8/16/2013</td></tr><tr><td>28</td><td>Mountain View Caltrain Station</td><td>37.394358</td><td>-122.076713</td><td>23</td><td>Mountain View</td><td>8/15/2013</td></tr><tr><td>29</td><td>San Antonio Caltrain Station</td><td>37.40694</td><td>-122.106758</td><td>23</td><td>Mountain View</td><td>8/15/2013</td></tr><tr><td>30</td><td>Evelyn Park and Ride</td><td>37.390277</td><td>-122.066553</td><td>15</td><td>Mountain View</td><td>8/16/2013</td></tr><tr><td>31</td><td>San Antonio Shopping Center</td><td>37.400443</td><td>-122.108338</td><td>15</td><td>Mountain View</td><td>12/31/2013</td></tr><tr><td>32</td><td>Castro Street and El Camino Real</td><td>37.385956</td><td>-122.083678</td><td>11</td><td>Mountain View</td><td>12/31/2013</td></tr><tr><td>33</td><td>Rengstorff Avenue / California Street</td><td>37.400241</td><td>-122.099076</td><td>15</td><td>Mountain View</td><td>8/16/2013</td></tr><tr><td>34</td><td>Palo Alto Caltrain Station</td><td>37.443988</td><td>-122.164759</td><td>23</td><td>Palo Alto</td><td>8/14/2013</td></tr><tr><td>35</td><td>University and Emerson</td><td>37.444521</td><td>-122.163093</td><td>11</td><td>Palo Alto</td><td>8/15/2013</td></tr><tr><td>36</td><td>California Ave Caltrain Station</td><td>37.429082</td><td>-122.142805</td><td>15</td><td>Palo Alto</td><td>8/14/2013</td></tr><tr><td>37</td><td>Cowper at University</td><td>37.448598</td><td>-122.159504</td><td>11</td><td>Palo Alto</td><td>8/14/2013</td></tr><tr><td>38</td><td>Park at Olive</td><td>37.4256839</td><td>-122.1377775</td><td>15</td><td>Palo Alto</td><td>8/14/2013</td></tr><tr><td>41</td><td>Clay at Battery</td><td>37.795001</td><td>-122.39997</td><td>15</td><td>San Francisco</td><td>8/19/2013</td></tr><tr><td>42</td><td>Davis at Jackson</td><td>37.79728</td><td>-122.398436</td><td>15</td><td>San Francisco</td><td>8/19/2013</td></tr><tr><td>45</td><td>Commercial at Montgomery</td><td>37.794231</td><td>-122.402923</td><td>15</td><td>San Francisco</td><td>8/19/2013</td></tr><tr><td>46</td><td>Washington at Kearney</td><td>37.795425</td><td>-122.404767</td><td>15</td><td>San Francisco</td><td>8/19/2013</td></tr><tr><td>47</td><td>Post at Kearney</td><td>37.788975</td><td>-122.403452</td><td>19</td><td>San Francisco</td><td>8/19/2013</td></tr><tr><td>48</td><td>Embarcadero at Vallejo</td><td>37.799953</td><td>-122.398525</td><td>15</td><td>San Francisco</td><td>8/19/2013</td></tr><tr><td>49</td><td>Spear at Folsom</td><td>37.790302</td><td>-122.390637</td><td>19</td><td>San Francisco</td><td>8/20/2013</td></tr><tr><td>50</td><td>Harry Bridges Plaza (Ferry Building)</td><td>37.795392</td><td>-122.394203</td><td>23</td><td>San Francisco</td><td>8/20/2013</td></tr><tr><td>51</td><td>Embarcadero at Folsom</td><td>37.791464</td><td>-122.391034</td><td>19</td><td>San Francisco</td><td>8/20/2013</td></tr><tr><td>39</td><td>Powell Street BART</td><td>37.783871</td><td>-122.408433</td><td>19</td><td>San Francisco</td><td>8/25/2013</td></tr><tr><td>54</td><td>Embarcadero at Bryant</td><td>37.787152</td><td>-122.388013</td><td>15</td><td>San Francisco</td><td>8/20/2013</td></tr><tr><td>55</td><td>Temporary Transbay Terminal (Howard at Beale)</td><td>37.789756</td><td>-122.394643</td><td>23</td><td>San Francisco</td><td>8/20/2013</td></tr><tr><td>56</td><td>Beale at Market</td><td>37.792251</td><td>-122.397086</td><td>19</td><td>San Francisco</td><td>8/20/2013</td></tr><tr><td>57</td><td>5th at Howard</td><td>37.781752</td><td>-122.405127</td><td>15</td><td>San Francisco</td><td>8/21/2013</td></tr><tr><td>58</td><td>San Francisco City Hall</td><td>37.77865</td><td>-122.418235</td><td>19</td><td>San Francisco</td><td>8/21/2013</td></tr><tr><td>59</td><td>Golden Gate at Polk</td><td>37.781332</td><td>-122.418603</td><td>23</td><td>San Francisco</td><td>8/21/2013</td></tr><tr><td>60</td><td>Embarcadero at Sansome</td><td>37.80477</td><td>-122.403234</td><td>15</td><td>San Francisco</td><td>8/21/2013</td></tr><tr><td>61</td><td>2nd at Townsend</td><td>37.780526</td><td>-122.390288</td><td>27</td><td>San Francisco</td><td>8/22/2013</td></tr><tr><td>62</td><td>2nd at Folsom</td><td>37.785299</td><td>-122.396236</td><td>19</td><td>San Francisco</td><td>8/22/2013</td></tr><tr><td>63</td><td>Howard at 2nd</td><td>37.786978</td><td>-122.398108</td><td>19</td><td>San Francisco</td><td>8/22/2013</td></tr><tr><td>64</td><td>2nd at South Park</td><td>37.782259</td><td>-122.392738</td><td>15</td><td>San Francisco</td><td>8/22/2013</td></tr><tr><td>65</td><td>Townsend at 7th</td><td>37.771058</td><td>-122.402717</td><td>15</td><td>San Francisco</td><td>8/22/2013</td></tr><tr><td>66</td><td>South Van Ness at Market</td><td>37.774814</td><td>-122.418954</td><td>19</td><td>San Francisco</td><td>8/23/2013</td></tr><tr><td>67</td><td>Market at 10th</td><td>37.776619</td><td>-122.417385</td><td>27</td><td>San Francisco</td><td>8/23/2013</td></tr><tr><td>68</td><td>Yerba Buena Center of the Arts (3rd @ Howard)</td><td>37.784878</td><td>-122.401014</td><td>19</td><td>San Francisco</td><td>8/23/2013</td></tr><tr><td>69</td><td>San Francisco Caltrain 2 (330 Townsend)</td><td>37.7766</td><td>-122.39547</td><td>23</td><td>San Francisco</td><td>8/23/2013</td></tr><tr><td>70</td><td>San Francisco Caltrain (Townsend at 4th)</td><td>37.776617</td><td>-122.39526</td><td>19</td><td>San Francisco</td><td>8/23/2013</td></tr><tr><td>71</td><td>Powell at Post (Union Square)</td><td>37.788446</td><td>-122.408499</td><td>19</td><td>San Francisco</td><td>8/23/2013</td></tr><tr><td>72</td><td>Civic Center BART (7th at Market)</td><td>37.781039</td><td>-122.411748</td><td>23</td><td>San Francisco</td><td>8/23/2013</td></tr><tr><td>73</td><td>Grant Avenue at Columbus Avenue</td><td>37.798522</td><td>-122.407245</td><td>15</td><td>San Francisco</td><td>8/21/2013</td></tr><tr><td>74</td><td>Steuart at Market</td><td>37.794139</td><td>-122.394434</td><td>23</td><td>San Francisco</td><td>8/25/2013</td></tr><tr><td>75</td><td>Mechanics Plaza (Market at Battery)</td><td>37.7913</td><td>-122.399051</td><td>19</td><td>San Francisco</td><td>8/25/2013</td></tr><tr><td>76</td><td>Market at 4th</td><td>37.786305</td><td>-122.404966</td><td>19</td><td>San Francisco</td><td>8/25/2013</td></tr><tr><td>77</td><td>Market at Sansome</td><td>37.789625</td><td>-122.400811</td><td>27</td><td>San Francisco</td><td>8/25/2013</td></tr><tr><td>80</td><td>Santa Clara County Civic Center</td><td>37.352601</td><td>-121.905733</td><td>15</td><td>San Jose</td><td>12/31/2013</td></tr><tr><td>82</td><td>Broadway St at Battery St</td><td>37.798541</td><td>-122.400862</td><td>15</td><td>San Francisco</td><td>1/22/2014</td></tr><tr><td>83</td><td>Mezes Park</td><td>37.491269</td><td>-122.236234</td><td>15</td><td>Redwood City</td><td>2/20/2014</td></tr><tr><td>84</td><td>Ryland Park</td><td>37.342725</td><td>-121.895617</td><td>15</td><td>San Jose</td><td>4/9/2014</td></tr></tbody></table></div>"
      ]
     },
     "metadata": {
      "application/vnd.databricks.v1+output": {
       "addedWidgets": {},
       "aggData": [],
       "aggError": "",
       "aggOverflow": false,
       "aggSchema": [],
       "aggSeriesLimitReached": false,
       "aggType": "",
       "arguments": {},
       "columnCustomDisplayInfos": {},
       "data": [
        [
         "2",
         "San Jose Diridon Caltrain Station",
         "37.329732",
         "-121.901782",
         "27",
         "San Jose",
         "8/6/2013"
        ],
        [
         "3",
         "San Jose Civic Center",
         "37.330698",
         "-121.888979",
         "15",
         "San Jose",
         "8/5/2013"
        ],
        [
         "4",
         "Santa Clara at Almaden",
         "37.333988",
         "-121.894902",
         "11",
         "San Jose",
         "8/6/2013"
        ],
        [
         "5",
         "Adobe on Almaden",
         "37.331415",
         "-121.8932",
         "19",
         "San Jose",
         "8/5/2013"
        ],
        [
         "6",
         "San Pedro Square",
         "37.336721",
         "-121.894074",
         "15",
         "San Jose",
         "8/7/2013"
        ],
        [
         "7",
         "Paseo de San Antonio",
         "37.333798",
         "-121.886943",
         "15",
         "San Jose",
         "8/7/2013"
        ],
        [
         "8",
         "San Salvador at 1st",
         "37.330165",
         "-121.885831",
         "15",
         "San Jose",
         "8/5/2013"
        ],
        [
         "9",
         "Japantown",
         "37.348742",
         "-121.894715",
         "15",
         "San Jose",
         "8/5/2013"
        ],
        [
         "10",
         "San Jose City Hall",
         "37.337391",
         "-121.886995",
         "15",
         "San Jose",
         "8/6/2013"
        ],
        [
         "11",
         "MLK Library",
         "37.335885",
         "-121.88566",
         "19",
         "San Jose",
         "8/6/2013"
        ],
        [
         "12",
         "SJSU 4th at San Carlos",
         "37.332808",
         "-121.883891",
         "19",
         "San Jose",
         "8/7/2013"
        ],
        [
         "13",
         "St James Park",
         "37.339301",
         "-121.889937",
         "15",
         "San Jose",
         "8/6/2013"
        ],
        [
         "14",
         "Arena Green / SAP Center",
         "37.332692",
         "-121.900084",
         "19",
         "San Jose",
         "8/5/2013"
        ],
        [
         "16",
         "SJSU - San Salvador at 9th",
         "37.333955",
         "-121.877349",
         "15",
         "San Jose",
         "8/7/2013"
        ],
        [
         "21",
         "Franklin at Maple",
         "37.481758",
         "-122.226904",
         "15",
         "Redwood City",
         "8/12/2013"
        ],
        [
         "22",
         "Redwood City Caltrain Station",
         "37.486078",
         "-122.232089",
         "25",
         "Redwood City",
         "8/15/2013"
        ],
        [
         "23",
         "San Mateo County Center",
         "37.487616",
         "-122.229951",
         "15",
         "Redwood City",
         "8/15/2013"
        ],
        [
         "24",
         "Redwood City Public Library",
         "37.484219",
         "-122.227424",
         "15",
         "Redwood City",
         "8/12/2013"
        ],
        [
         "25",
         "Stanford in Redwood City",
         "37.48537",
         "-122.203288",
         "15",
         "Redwood City",
         "8/12/2013"
        ],
        [
         "26",
         "Redwood City Medical Center",
         "37.487682",
         "-122.223492",
         "15",
         "Redwood City",
         "8/12/2013"
        ],
        [
         "27",
         "Mountain View City Hall",
         "37.389218",
         "-122.081896",
         "15",
         "Mountain View",
         "8/16/2013"
        ],
        [
         "28",
         "Mountain View Caltrain Station",
         "37.394358",
         "-122.076713",
         "23",
         "Mountain View",
         "8/15/2013"
        ],
        [
         "29",
         "San Antonio Caltrain Station",
         "37.40694",
         "-122.106758",
         "23",
         "Mountain View",
         "8/15/2013"
        ],
        [
         "30",
         "Evelyn Park and Ride",
         "37.390277",
         "-122.066553",
         "15",
         "Mountain View",
         "8/16/2013"
        ],
        [
         "31",
         "San Antonio Shopping Center",
         "37.400443",
         "-122.108338",
         "15",
         "Mountain View",
         "12/31/2013"
        ],
        [
         "32",
         "Castro Street and El Camino Real",
         "37.385956",
         "-122.083678",
         "11",
         "Mountain View",
         "12/31/2013"
        ],
        [
         "33",
         "Rengstorff Avenue / California Street",
         "37.400241",
         "-122.099076",
         "15",
         "Mountain View",
         "8/16/2013"
        ],
        [
         "34",
         "Palo Alto Caltrain Station",
         "37.443988",
         "-122.164759",
         "23",
         "Palo Alto",
         "8/14/2013"
        ],
        [
         "35",
         "University and Emerson",
         "37.444521",
         "-122.163093",
         "11",
         "Palo Alto",
         "8/15/2013"
        ],
        [
         "36",
         "California Ave Caltrain Station",
         "37.429082",
         "-122.142805",
         "15",
         "Palo Alto",
         "8/14/2013"
        ],
        [
         "37",
         "Cowper at University",
         "37.448598",
         "-122.159504",
         "11",
         "Palo Alto",
         "8/14/2013"
        ],
        [
         "38",
         "Park at Olive",
         "37.4256839",
         "-122.1377775",
         "15",
         "Palo Alto",
         "8/14/2013"
        ],
        [
         "41",
         "Clay at Battery",
         "37.795001",
         "-122.39997",
         "15",
         "San Francisco",
         "8/19/2013"
        ],
        [
         "42",
         "Davis at Jackson",
         "37.79728",
         "-122.398436",
         "15",
         "San Francisco",
         "8/19/2013"
        ],
        [
         "45",
         "Commercial at Montgomery",
         "37.794231",
         "-122.402923",
         "15",
         "San Francisco",
         "8/19/2013"
        ],
        [
         "46",
         "Washington at Kearney",
         "37.795425",
         "-122.404767",
         "15",
         "San Francisco",
         "8/19/2013"
        ],
        [
         "47",
         "Post at Kearney",
         "37.788975",
         "-122.403452",
         "19",
         "San Francisco",
         "8/19/2013"
        ],
        [
         "48",
         "Embarcadero at Vallejo",
         "37.799953",
         "-122.398525",
         "15",
         "San Francisco",
         "8/19/2013"
        ],
        [
         "49",
         "Spear at Folsom",
         "37.790302",
         "-122.390637",
         "19",
         "San Francisco",
         "8/20/2013"
        ],
        [
         "50",
         "Harry Bridges Plaza (Ferry Building)",
         "37.795392",
         "-122.394203",
         "23",
         "San Francisco",
         "8/20/2013"
        ],
        [
         "51",
         "Embarcadero at Folsom",
         "37.791464",
         "-122.391034",
         "19",
         "San Francisco",
         "8/20/2013"
        ],
        [
         "39",
         "Powell Street BART",
         "37.783871",
         "-122.408433",
         "19",
         "San Francisco",
         "8/25/2013"
        ],
        [
         "54",
         "Embarcadero at Bryant",
         "37.787152",
         "-122.388013",
         "15",
         "San Francisco",
         "8/20/2013"
        ],
        [
         "55",
         "Temporary Transbay Terminal (Howard at Beale)",
         "37.789756",
         "-122.394643",
         "23",
         "San Francisco",
         "8/20/2013"
        ],
        [
         "56",
         "Beale at Market",
         "37.792251",
         "-122.397086",
         "19",
         "San Francisco",
         "8/20/2013"
        ],
        [
         "57",
         "5th at Howard",
         "37.781752",
         "-122.405127",
         "15",
         "San Francisco",
         "8/21/2013"
        ],
        [
         "58",
         "San Francisco City Hall",
         "37.77865",
         "-122.418235",
         "19",
         "San Francisco",
         "8/21/2013"
        ],
        [
         "59",
         "Golden Gate at Polk",
         "37.781332",
         "-122.418603",
         "23",
         "San Francisco",
         "8/21/2013"
        ],
        [
         "60",
         "Embarcadero at Sansome",
         "37.80477",
         "-122.403234",
         "15",
         "San Francisco",
         "8/21/2013"
        ],
        [
         "61",
         "2nd at Townsend",
         "37.780526",
         "-122.390288",
         "27",
         "San Francisco",
         "8/22/2013"
        ],
        [
         "62",
         "2nd at Folsom",
         "37.785299",
         "-122.396236",
         "19",
         "San Francisco",
         "8/22/2013"
        ],
        [
         "63",
         "Howard at 2nd",
         "37.786978",
         "-122.398108",
         "19",
         "San Francisco",
         "8/22/2013"
        ],
        [
         "64",
         "2nd at South Park",
         "37.782259",
         "-122.392738",
         "15",
         "San Francisco",
         "8/22/2013"
        ],
        [
         "65",
         "Townsend at 7th",
         "37.771058",
         "-122.402717",
         "15",
         "San Francisco",
         "8/22/2013"
        ],
        [
         "66",
         "South Van Ness at Market",
         "37.774814",
         "-122.418954",
         "19",
         "San Francisco",
         "8/23/2013"
        ],
        [
         "67",
         "Market at 10th",
         "37.776619",
         "-122.417385",
         "27",
         "San Francisco",
         "8/23/2013"
        ],
        [
         "68",
         "Yerba Buena Center of the Arts (3rd @ Howard)",
         "37.784878",
         "-122.401014",
         "19",
         "San Francisco",
         "8/23/2013"
        ],
        [
         "69",
         "San Francisco Caltrain 2 (330 Townsend)",
         "37.7766",
         "-122.39547",
         "23",
         "San Francisco",
         "8/23/2013"
        ],
        [
         "70",
         "San Francisco Caltrain (Townsend at 4th)",
         "37.776617",
         "-122.39526",
         "19",
         "San Francisco",
         "8/23/2013"
        ],
        [
         "71",
         "Powell at Post (Union Square)",
         "37.788446",
         "-122.408499",
         "19",
         "San Francisco",
         "8/23/2013"
        ],
        [
         "72",
         "Civic Center BART (7th at Market)",
         "37.781039",
         "-122.411748",
         "23",
         "San Francisco",
         "8/23/2013"
        ],
        [
         "73",
         "Grant Avenue at Columbus Avenue",
         "37.798522",
         "-122.407245",
         "15",
         "San Francisco",
         "8/21/2013"
        ],
        [
         "74",
         "Steuart at Market",
         "37.794139",
         "-122.394434",
         "23",
         "San Francisco",
         "8/25/2013"
        ],
        [
         "75",
         "Mechanics Plaza (Market at Battery)",
         "37.7913",
         "-122.399051",
         "19",
         "San Francisco",
         "8/25/2013"
        ],
        [
         "76",
         "Market at 4th",
         "37.786305",
         "-122.404966",
         "19",
         "San Francisco",
         "8/25/2013"
        ],
        [
         "77",
         "Market at Sansome",
         "37.789625",
         "-122.400811",
         "27",
         "San Francisco",
         "8/25/2013"
        ],
        [
         "80",
         "Santa Clara County Civic Center",
         "37.352601",
         "-121.905733",
         "15",
         "San Jose",
         "12/31/2013"
        ],
        [
         "82",
         "Broadway St at Battery St",
         "37.798541",
         "-122.400862",
         "15",
         "San Francisco",
         "1/22/2014"
        ],
        [
         "83",
         "Mezes Park",
         "37.491269",
         "-122.236234",
         "15",
         "Redwood City",
         "2/20/2014"
        ],
        [
         "84",
         "Ryland Park",
         "37.342725",
         "-121.895617",
         "15",
         "San Jose",
         "4/9/2014"
        ]
       ],
       "datasetInfos": [],
       "dbfsResultPath": null,
       "isJsonSchema": true,
       "metadata": {},
       "overflow": false,
       "plotOptions": {
        "customPlotOptions": {},
        "displayType": "table",
        "pivotAggregation": null,
        "pivotColumns": null,
        "xColumns": null,
        "yColumns": null
       },
       "removedWidgets": [],
       "schema": [
        {
         "metadata": "{}",
         "name": "station_id",
         "type": "\"string\""
        },
        {
         "metadata": "{}",
         "name": "name",
         "type": "\"string\""
        },
        {
         "metadata": "{}",
         "name": "lat",
         "type": "\"string\""
        },
        {
         "metadata": "{}",
         "name": "long",
         "type": "\"string\""
        },
        {
         "metadata": "{}",
         "name": "dockcount",
         "type": "\"string\""
        },
        {
         "metadata": "{}",
         "name": "landmark",
         "type": "\"string\""
        },
        {
         "metadata": "{}",
         "name": "installation",
         "type": "\"string\""
        }
       ],
       "type": "table"
      }
     },
     "output_type": "display_data"
    }
   ],
   "source": [
    "# File location and type\n",
    "file_location = \"/FileStore/tables/201508_station_data.csv\"\n",
    "file_type = \"csv\"\n",
    "\n",
    "# CSV options\n",
    "infer_schema = \"false\"\n",
    "delimiter = \",\"\n",
    "\n",
    "# The applied options are for CSV files. For other file types, these will be ignored.\n",
    "df = spark.read.format(file_type) \\\n",
    "  .option(\"inferSchema\", infer_schema) \\\n",
    "  .option(\"header\", 'true') \\\n",
    "  .option(\"sep\", delimiter) \\\n",
    "  .load(file_location)\n",
    "\n",
    "display(df)"
   ]
  },
  {
   "cell_type": "code",
   "execution_count": 0,
   "metadata": {
    "application/vnd.databricks.v1+cell": {
     "cellMetadata": {
      "byteLimit": 2048000,
      "rowLimit": 10000
     },
     "inputWidgets": {},
     "nuid": "bd82bb99-1479-4d5c-be10-8c36df0f1d44",
     "showTitle": false,
     "tableResultSettingsMap": {},
     "title": ""
    }
   },
   "outputs": [
    {
     "output_type": "stream",
     "name": "stdout",
     "output_type": "stream",
     "text": [
      "+----------+--------------------+---------+-----------+---------+------------+------------+\n|station_id|                name|      lat|       long|dockcount|    landmark|installation|\n+----------+--------------------+---------+-----------+---------+------------+------------+\n|         2|San Jose Diridon ...|37.329732|-121.901782|       27|    San Jose|    8/6/2013|\n|         3|San Jose Civic Ce...|37.330698|-121.888979|       15|    San Jose|    8/5/2013|\n|         4|Santa Clara at Al...|37.333988|-121.894902|       11|    San Jose|    8/6/2013|\n|         5|    Adobe on Almaden|37.331415|  -121.8932|       19|    San Jose|    8/5/2013|\n|         6|    San Pedro Square|37.336721|-121.894074|       15|    San Jose|    8/7/2013|\n|         7|Paseo de San Antonio|37.333798|-121.886943|       15|    San Jose|    8/7/2013|\n|         8| San Salvador at 1st|37.330165|-121.885831|       15|    San Jose|    8/5/2013|\n|         9|           Japantown|37.348742|-121.894715|       15|    San Jose|    8/5/2013|\n|        10|  San Jose City Hall|37.337391|-121.886995|       15|    San Jose|    8/6/2013|\n|        11|         MLK Library|37.335885| -121.88566|       19|    San Jose|    8/6/2013|\n|        12|SJSU 4th at San C...|37.332808|-121.883891|       19|    San Jose|    8/7/2013|\n|        13|       St James Park|37.339301|-121.889937|       15|    San Jose|    8/6/2013|\n|        14|Arena Green / SAP...|37.332692|-121.900084|       19|    San Jose|    8/5/2013|\n|        16|SJSU - San Salvad...|37.333955|-121.877349|       15|    San Jose|    8/7/2013|\n|        21|   Franklin at Maple|37.481758|-122.226904|       15|Redwood City|   8/12/2013|\n|        22|Redwood City Calt...|37.486078|-122.232089|       25|Redwood City|   8/15/2013|\n|        23|San Mateo County ...|37.487616|-122.229951|       15|Redwood City|   8/15/2013|\n|        24|Redwood City Publ...|37.484219|-122.227424|       15|Redwood City|   8/12/2013|\n|        25|Stanford in Redwo...| 37.48537|-122.203288|       15|Redwood City|   8/12/2013|\n|        26|Redwood City Medi...|37.487682|-122.223492|       15|Redwood City|   8/12/2013|\n+----------+--------------------+---------+-----------+---------+------------+------------+\nonly showing top 20 rows\n\n+----------+--------------------+---------+-----------+---------+--------+------------+------------+----+\n|station_id|                name|      lat|       long|dockcount|landmark|installation|  date_parts|date|\n+----------+--------------------+---------+-----------+---------+--------+------------+------------+----+\n|         2|San Jose Diridon ...|37.329732|-121.901782|       27|San Jose|    8/6/2013|[8, 6, 2013]|   8|\n|         2|San Jose Diridon ...|37.329732|-121.901782|       27|San Jose|    8/6/2013|[8, 6, 2013]|   6|\n|         2|San Jose Diridon ...|37.329732|-121.901782|       27|San Jose|    8/6/2013|[8, 6, 2013]|2013|\n|         3|San Jose Civic Ce...|37.330698|-121.888979|       15|San Jose|    8/5/2013|[8, 5, 2013]|   8|\n|         3|San Jose Civic Ce...|37.330698|-121.888979|       15|San Jose|    8/5/2013|[8, 5, 2013]|   5|\n|         3|San Jose Civic Ce...|37.330698|-121.888979|       15|San Jose|    8/5/2013|[8, 5, 2013]|2013|\n|         4|Santa Clara at Al...|37.333988|-121.894902|       11|San Jose|    8/6/2013|[8, 6, 2013]|   8|\n|         4|Santa Clara at Al...|37.333988|-121.894902|       11|San Jose|    8/6/2013|[8, 6, 2013]|   6|\n|         4|Santa Clara at Al...|37.333988|-121.894902|       11|San Jose|    8/6/2013|[8, 6, 2013]|2013|\n|         5|    Adobe on Almaden|37.331415|  -121.8932|       19|San Jose|    8/5/2013|[8, 5, 2013]|   8|\n|         5|    Adobe on Almaden|37.331415|  -121.8932|       19|San Jose|    8/5/2013|[8, 5, 2013]|   5|\n|         5|    Adobe on Almaden|37.331415|  -121.8932|       19|San Jose|    8/5/2013|[8, 5, 2013]|2013|\n|         6|    San Pedro Square|37.336721|-121.894074|       15|San Jose|    8/7/2013|[8, 7, 2013]|   8|\n|         6|    San Pedro Square|37.336721|-121.894074|       15|San Jose|    8/7/2013|[8, 7, 2013]|   7|\n|         6|    San Pedro Square|37.336721|-121.894074|       15|San Jose|    8/7/2013|[8, 7, 2013]|2013|\n|         7|Paseo de San Antonio|37.333798|-121.886943|       15|San Jose|    8/7/2013|[8, 7, 2013]|   8|\n|         7|Paseo de San Antonio|37.333798|-121.886943|       15|San Jose|    8/7/2013|[8, 7, 2013]|   7|\n|         7|Paseo de San Antonio|37.333798|-121.886943|       15|San Jose|    8/7/2013|[8, 7, 2013]|2013|\n|         8| San Salvador at 1st|37.330165|-121.885831|       15|San Jose|    8/5/2013|[8, 5, 2013]|   8|\n|         8| San Salvador at 1st|37.330165|-121.885831|       15|San Jose|    8/5/2013|[8, 5, 2013]|   5|\n+----------+--------------------+---------+-----------+---------+--------+------------+------------+----+\nonly showing top 20 rows\n\n+----------+--------------------+---------+-----------+---------+------------+------------+\n|station_id|                name|      lat|       long|dockcount|    landmark|installation|\n+----------+--------------------+---------+-----------+---------+------------+------------+\n|         2|San Jose Diridon ...|37.329732|-121.901782|       27|    San Jose|    8/6/2013|\n|         3|San Jose Civic Ce...|37.330698|-121.888979|       15|    San Jose|    8/5/2013|\n|         4|Santa Clara at Al...|37.333988|-121.894902|       11|    San Jose|    8/6/2013|\n|         5|    Adobe on Almaden|37.331415|  -121.8932|       19|    San Jose|    8/5/2013|\n|         6|    San Pedro Square|37.336721|-121.894074|       15|    San Jose|    8/7/2013|\n|         7|Paseo de San Antonio|37.333798|-121.886943|       15|    San Jose|    8/7/2013|\n|         8| San Salvador at 1st|37.330165|-121.885831|       15|    San Jose|    8/5/2013|\n|         9|           Japantown|37.348742|-121.894715|       15|    San Jose|    8/5/2013|\n|        10|  San Jose City Hall|37.337391|-121.886995|       15|    San Jose|    8/6/2013|\n|        11|         MLK Library|37.335885| -121.88566|       19|    San Jose|    8/6/2013|\n|        12|SJSU 4th at San C...|37.332808|-121.883891|       19|    San Jose|    8/7/2013|\n|        13|       St James Park|37.339301|-121.889937|       15|    San Jose|    8/6/2013|\n|        14|Arena Green / SAP...|37.332692|-121.900084|       19|    San Jose|    8/5/2013|\n|        16|SJSU - San Salvad...|37.333955|-121.877349|       15|    San Jose|    8/7/2013|\n|        21|   Franklin at Maple|37.481758|-122.226904|       15|Redwood City|   8/12/2013|\n|        22|Redwood City Calt...|37.486078|-122.232089|       25|Redwood City|   8/15/2013|\n|        23|San Mateo County ...|37.487616|-122.229951|       15|Redwood City|   8/15/2013|\n|        24|Redwood City Publ...|37.484219|-122.227424|       15|Redwood City|   8/12/2013|\n|        25|Stanford in Redwo...| 37.48537|-122.203288|       15|Redwood City|   8/12/2013|\n|        26|Redwood City Medi...|37.487682|-122.223492|       15|Redwood City|   8/12/2013|\n+----------+--------------------+---------+-----------+---------+------------+------------+\nonly showing top 20 rows\n\n+----------+\n|new-format|\n+----------+\n|  8-6-2013|\n|  8-5-2013|\n|  8-6-2013|\n|  8-5-2013|\n|  8-7-2013|\n|  8-7-2013|\n|  8-5-2013|\n|  8-5-2013|\n|  8-6-2013|\n|  8-6-2013|\n|  8-7-2013|\n|  8-6-2013|\n|  8-5-2013|\n|  8-7-2013|\n| 8-12-2013|\n| 8-15-2013|\n| 8-15-2013|\n| 8-12-2013|\n| 8-12-2013|\n| 8-12-2013|\n+----------+\nonly showing top 20 rows\n\n+----------+--------------------+----------+------------+---------+-------------+------------+\n|station_id|                name|       lat|        long|dockcount|     landmark|installation|\n+----------+--------------------+----------+------------+---------+-------------+------------+\n|        13|       St James Park| 37.339301| -121.889937|       15|     San Jose|    8/6/2013|\n|        30|Evelyn Park and Ride| 37.390277| -122.066553|       15|Mountain View|   8/16/2013|\n|        38|       Park at Olive|37.4256839|-122.1377775|       15|    Palo Alto|   8/14/2013|\n|        64|   2nd at South Park| 37.782259| -122.392738|       15|San Francisco|   8/22/2013|\n|        83|          Mezes Park| 37.491269| -122.236234|       15| Redwood City|   2/20/2014|\n|        84|         Ryland Park| 37.342725| -121.895617|       15|     San Jose|    4/9/2014|\n+----------+--------------------+----------+------------+---------+-------------+------------+\n\n+----------+--------------------+---------+-----------+---------+------------+------------+\n|station_id|                name|      lat|       long|dockcount|    landmark|installation|\n+----------+--------------------+---------+-----------+---------+------------+------------+\n|         2|San Jose Diridon ...|37.329732|-121.901782|       27|    San Hose|    8/6/2013|\n|         3|San Jose Civic Ce...|37.330698|-121.888979|       15|    San Hose|    8/5/2013|\n|         4|Santa Clara at Al...|37.333988|-121.894902|       11|    San Hose|    8/6/2013|\n|         5|    Adobe on Almaden|37.331415|  -121.8932|       19|    San Hose|    8/5/2013|\n|         6|    San Pedro Square|37.336721|-121.894074|       15|    San Hose|    8/7/2013|\n|         7|Paseo de San Antonio|37.333798|-121.886943|       15|    San Hose|    8/7/2013|\n|         8| San Salvador at 1st|37.330165|-121.885831|       15|    San Hose|    8/5/2013|\n|         9|           Japantown|37.348742|-121.894715|       15|    San Hose|    8/5/2013|\n|        10|  San Jose City Hall|37.337391|-121.886995|       15|    San Hose|    8/6/2013|\n|        11|         MLK Library|37.335885| -121.88566|       19|    San Hose|    8/6/2013|\n|        12|SJSU 4th at San C...|37.332808|-121.883891|       19|    San Hose|    8/7/2013|\n|        13|       St James Park|37.339301|-121.889937|       15|    San Hose|    8/6/2013|\n|        14|Arena Green / SAP...|37.332692|-121.900084|       19|    San Hose|    8/5/2013|\n|        16|SJSU - San Salvad...|37.333955|-121.877349|       15|    San Hose|    8/7/2013|\n|        21|   Franklin at Maple|37.481758|-122.226904|       15|Redwood City|   8/12/2013|\n|        22|Redwood City Calt...|37.486078|-122.232089|       25|Redwood City|   8/15/2013|\n|        23|San Mateo County ...|37.487616|-122.229951|       15|Redwood City|   8/15/2013|\n|        24|Redwood City Publ...|37.484219|-122.227424|       15|Redwood City|   8/12/2013|\n|        25|Stanford in Redwo...| 37.48537|-122.203288|       15|Redwood City|   8/12/2013|\n|        26|Redwood City Medi...|37.487682|-122.223492|       15|Redwood City|   8/12/2013|\n+----------+--------------------+---------+-----------+---------+------------+------------+\nonly showing top 20 rows\n\n+----------+--------------------+---------+-----------+---------+------------+------------+-------+\n|station_id|                name|      lat|       long|dockcount|    landmark|installation|in_2013|\n+----------+--------------------+---------+-----------+---------+------------+------------+-------+\n|         2|San Jose Diridon ...|37.329732|-121.901782|       27|    San Jose|    8/6/2013|   true|\n|         3|San Jose Civic Ce...|37.330698|-121.888979|       15|    San Jose|    8/5/2013|   true|\n|         4|Santa Clara at Al...|37.333988|-121.894902|       11|    San Jose|    8/6/2013|   true|\n|         5|    Adobe on Almaden|37.331415|  -121.8932|       19|    San Jose|    8/5/2013|   true|\n|         6|    San Pedro Square|37.336721|-121.894074|       15|    San Jose|    8/7/2013|   true|\n|         7|Paseo de San Antonio|37.333798|-121.886943|       15|    San Jose|    8/7/2013|   true|\n|         8| San Salvador at 1st|37.330165|-121.885831|       15|    San Jose|    8/5/2013|   true|\n|         9|           Japantown|37.348742|-121.894715|       15|    San Jose|    8/5/2013|   true|\n|        10|  San Jose City Hall|37.337391|-121.886995|       15|    San Jose|    8/6/2013|   true|\n|        11|         MLK Library|37.335885| -121.88566|       19|    San Jose|    8/6/2013|   true|\n|        12|SJSU 4th at San C...|37.332808|-121.883891|       19|    San Jose|    8/7/2013|   true|\n|        13|       St James Park|37.339301|-121.889937|       15|    San Jose|    8/6/2013|   true|\n|        14|Arena Green / SAP...|37.332692|-121.900084|       19|    San Jose|    8/5/2013|   true|\n|        16|SJSU - San Salvad...|37.333955|-121.877349|       15|    San Jose|    8/7/2013|   true|\n|        21|   Franklin at Maple|37.481758|-122.226904|       15|Redwood City|   8/12/2013|   true|\n|        22|Redwood City Calt...|37.486078|-122.232089|       25|Redwood City|   8/15/2013|   true|\n|        23|San Mateo County ...|37.487616|-122.229951|       15|Redwood City|   8/15/2013|   true|\n|        24|Redwood City Publ...|37.484219|-122.227424|       15|Redwood City|   8/12/2013|   true|\n|        25|Stanford in Redwo...| 37.48537|-122.203288|       15|Redwood City|   8/12/2013|   true|\n|        26|Redwood City Medi...|37.487682|-122.223492|       15|Redwood City|   8/12/2013|   true|\n+----------+--------------------+---------+-----------+---------+------------+------------+-------+\nonly showing top 20 rows\n\n"
     ]
    }
   ],
   "source": [
    "# Użyj poniższe funkcje Nulls, fill, explode, drop, regexp_replace, regexp_extract, ifnull, nullIf, replace, array_contains.  \n",
    "from pyspark.sql import functions as F\n",
    "\n",
    "df.na.fill({'lat': 'NA_lat', 'long': 'NA_lon'}).show()\n",
    "\n",
    "(df.withColumn(\"date_parts\", F.split(\"installation\", \"/\"))\n",
    "  .withColumn(\"date\", F.explode(\"date_parts\"))\n",
    "  .show())\n",
    "\n",
    "df.na.drop('any').show()\n",
    "\n",
    "df.select(F.regexp_replace('installation', '/', '-').alias('new-format')).show()\n",
    "\n",
    "df.filter(F.regexp_extract('name', '.*Park.*', 0) != '').show()\n",
    "\n",
    "df.na.replace('San Jose', 'San Hose', subset=['landmark']).show()\n",
    "\n",
    "df.withColumn(\"in_2013\", F.array_contains(F.split(F.col(\"installation\"), \"/\"), \"2013\")).show()"
   ]
  },
  {
   "cell_type": "code",
   "execution_count": 0,
   "metadata": {
    "application/vnd.databricks.v1+cell": {
     "cellMetadata": {
      "byteLimit": 2048000,
      "rowLimit": 10000
     },
     "inputWidgets": {},
     "nuid": "98d75667-80a1-469d-8f5c-0c26b731ff1b",
     "showTitle": false,
     "tableResultSettingsMap": {},
     "title": ""
    }
   },
   "outputs": [],
   "source": [
    "#f.select(F.ifnull(df.col(\"lat\"), df.col(\"lon\"))).show()  #Returns col2 if col1 is null, or col1 otherwise.\n",
    "\n",
    "#df.select(F.nullif(df.col(\"lat\"), df.col(\"lon\"))).show() #Returns null if col1 equals to col2, or col1 otherwise.\n",
    "\n",
    "df.createOrReplaceTempView(\"df_table\")"
   ]
  },
  {
   "cell_type": "code",
   "execution_count": 0,
   "metadata": {
    "application/vnd.databricks.v1+cell": {
     "cellMetadata": {
      "byteLimit": 2048000,
      "implicitDf": true,
      "rowLimit": 10000
     },
     "inputWidgets": {},
     "nuid": "42d2bcff-e3de-4fe5-9530-c5879bbd546a",
     "showTitle": false,
     "tableResultSettingsMap": {},
     "title": ""
    }
   },
   "outputs": [
    {
     "output_type": "display_data",
     "data": {
      "text/html": [
       "<style scoped>\n",
       "  .table-result-container {\n",
       "    max-height: 300px;\n",
       "    overflow: auto;\n",
       "  }\n",
       "  table, th, td {\n",
       "    border: 1px solid black;\n",
       "    border-collapse: collapse;\n",
       "  }\n",
       "  th, td {\n",
       "    padding: 5px;\n",
       "  }\n",
       "  th {\n",
       "    text-align: left;\n",
       "  }\n",
       "</style><div class='table-result-container'><table class='table-result'><thead style='background-color: white'><tr><th>lat_or_lon</th><th>lat_or_lon_nullified</th></tr></thead><tbody><tr><td>37.329732</td><td>37.329732</td></tr><tr><td>37.330698</td><td>37.330698</td></tr><tr><td>37.333988</td><td>37.333988</td></tr><tr><td>37.331415</td><td>37.331415</td></tr><tr><td>37.336721</td><td>37.336721</td></tr><tr><td>37.333798</td><td>37.333798</td></tr><tr><td>37.330165</td><td>37.330165</td></tr><tr><td>37.348742</td><td>37.348742</td></tr><tr><td>37.337391</td><td>37.337391</td></tr><tr><td>37.335885</td><td>37.335885</td></tr><tr><td>37.332808</td><td>37.332808</td></tr><tr><td>37.339301</td><td>37.339301</td></tr><tr><td>37.332692</td><td>37.332692</td></tr><tr><td>37.333955</td><td>37.333955</td></tr><tr><td>37.481758</td><td>37.481758</td></tr><tr><td>37.486078</td><td>37.486078</td></tr><tr><td>37.487616</td><td>37.487616</td></tr><tr><td>37.484219</td><td>37.484219</td></tr><tr><td>37.48537</td><td>37.48537</td></tr><tr><td>37.487682</td><td>37.487682</td></tr><tr><td>37.389218</td><td>37.389218</td></tr><tr><td>37.394358</td><td>37.394358</td></tr><tr><td>37.40694</td><td>37.40694</td></tr><tr><td>37.390277</td><td>37.390277</td></tr><tr><td>37.400443</td><td>37.400443</td></tr><tr><td>37.385956</td><td>37.385956</td></tr><tr><td>37.400241</td><td>37.400241</td></tr><tr><td>37.443988</td><td>37.443988</td></tr><tr><td>37.444521</td><td>37.444521</td></tr><tr><td>37.429082</td><td>37.429082</td></tr><tr><td>37.448598</td><td>37.448598</td></tr><tr><td>37.4256839</td><td>37.4256839</td></tr><tr><td>37.795001</td><td>37.795001</td></tr><tr><td>37.79728</td><td>37.79728</td></tr><tr><td>37.794231</td><td>37.794231</td></tr><tr><td>37.795425</td><td>37.795425</td></tr><tr><td>37.788975</td><td>37.788975</td></tr><tr><td>37.799953</td><td>37.799953</td></tr><tr><td>37.790302</td><td>37.790302</td></tr><tr><td>37.795392</td><td>37.795392</td></tr><tr><td>37.791464</td><td>37.791464</td></tr><tr><td>37.783871</td><td>37.783871</td></tr><tr><td>37.787152</td><td>37.787152</td></tr><tr><td>37.789756</td><td>37.789756</td></tr><tr><td>37.792251</td><td>37.792251</td></tr><tr><td>37.781752</td><td>37.781752</td></tr><tr><td>37.77865</td><td>37.77865</td></tr><tr><td>37.781332</td><td>37.781332</td></tr><tr><td>37.80477</td><td>37.80477</td></tr><tr><td>37.780526</td><td>37.780526</td></tr><tr><td>37.785299</td><td>37.785299</td></tr><tr><td>37.786978</td><td>37.786978</td></tr><tr><td>37.782259</td><td>37.782259</td></tr><tr><td>37.771058</td><td>37.771058</td></tr><tr><td>37.774814</td><td>37.774814</td></tr><tr><td>37.776619</td><td>37.776619</td></tr><tr><td>37.784878</td><td>37.784878</td></tr><tr><td>37.7766</td><td>37.7766</td></tr><tr><td>37.776617</td><td>37.776617</td></tr><tr><td>37.788446</td><td>37.788446</td></tr><tr><td>37.781039</td><td>37.781039</td></tr><tr><td>37.798522</td><td>37.798522</td></tr><tr><td>37.794139</td><td>37.794139</td></tr><tr><td>37.7913</td><td>37.7913</td></tr><tr><td>37.786305</td><td>37.786305</td></tr><tr><td>37.789625</td><td>37.789625</td></tr><tr><td>37.352601</td><td>37.352601</td></tr><tr><td>37.798541</td><td>37.798541</td></tr><tr><td>37.491269</td><td>37.491269</td></tr><tr><td>37.342725</td><td>37.342725</td></tr></tbody></table></div>"
      ]
     },
     "metadata": {
      "application/vnd.databricks.v1+output": {
       "addedWidgets": {},
       "aggData": [],
       "aggError": "",
       "aggOverflow": false,
       "aggSchema": [],
       "aggSeriesLimitReached": false,
       "aggType": "",
       "arguments": {},
       "columnCustomDisplayInfos": {},
       "data": [
        [
         "37.329732",
         "37.329732"
        ],
        [
         "37.330698",
         "37.330698"
        ],
        [
         "37.333988",
         "37.333988"
        ],
        [
         "37.331415",
         "37.331415"
        ],
        [
         "37.336721",
         "37.336721"
        ],
        [
         "37.333798",
         "37.333798"
        ],
        [
         "37.330165",
         "37.330165"
        ],
        [
         "37.348742",
         "37.348742"
        ],
        [
         "37.337391",
         "37.337391"
        ],
        [
         "37.335885",
         "37.335885"
        ],
        [
         "37.332808",
         "37.332808"
        ],
        [
         "37.339301",
         "37.339301"
        ],
        [
         "37.332692",
         "37.332692"
        ],
        [
         "37.333955",
         "37.333955"
        ],
        [
         "37.481758",
         "37.481758"
        ],
        [
         "37.486078",
         "37.486078"
        ],
        [
         "37.487616",
         "37.487616"
        ],
        [
         "37.484219",
         "37.484219"
        ],
        [
         "37.48537",
         "37.48537"
        ],
        [
         "37.487682",
         "37.487682"
        ],
        [
         "37.389218",
         "37.389218"
        ],
        [
         "37.394358",
         "37.394358"
        ],
        [
         "37.40694",
         "37.40694"
        ],
        [
         "37.390277",
         "37.390277"
        ],
        [
         "37.400443",
         "37.400443"
        ],
        [
         "37.385956",
         "37.385956"
        ],
        [
         "37.400241",
         "37.400241"
        ],
        [
         "37.443988",
         "37.443988"
        ],
        [
         "37.444521",
         "37.444521"
        ],
        [
         "37.429082",
         "37.429082"
        ],
        [
         "37.448598",
         "37.448598"
        ],
        [
         "37.4256839",
         "37.4256839"
        ],
        [
         "37.795001",
         "37.795001"
        ],
        [
         "37.79728",
         "37.79728"
        ],
        [
         "37.794231",
         "37.794231"
        ],
        [
         "37.795425",
         "37.795425"
        ],
        [
         "37.788975",
         "37.788975"
        ],
        [
         "37.799953",
         "37.799953"
        ],
        [
         "37.790302",
         "37.790302"
        ],
        [
         "37.795392",
         "37.795392"
        ],
        [
         "37.791464",
         "37.791464"
        ],
        [
         "37.783871",
         "37.783871"
        ],
        [
         "37.787152",
         "37.787152"
        ],
        [
         "37.789756",
         "37.789756"
        ],
        [
         "37.792251",
         "37.792251"
        ],
        [
         "37.781752",
         "37.781752"
        ],
        [
         "37.77865",
         "37.77865"
        ],
        [
         "37.781332",
         "37.781332"
        ],
        [
         "37.80477",
         "37.80477"
        ],
        [
         "37.780526",
         "37.780526"
        ],
        [
         "37.785299",
         "37.785299"
        ],
        [
         "37.786978",
         "37.786978"
        ],
        [
         "37.782259",
         "37.782259"
        ],
        [
         "37.771058",
         "37.771058"
        ],
        [
         "37.774814",
         "37.774814"
        ],
        [
         "37.776619",
         "37.776619"
        ],
        [
         "37.784878",
         "37.784878"
        ],
        [
         "37.7766",
         "37.7766"
        ],
        [
         "37.776617",
         "37.776617"
        ],
        [
         "37.788446",
         "37.788446"
        ],
        [
         "37.781039",
         "37.781039"
        ],
        [
         "37.798522",
         "37.798522"
        ],
        [
         "37.794139",
         "37.794139"
        ],
        [
         "37.7913",
         "37.7913"
        ],
        [
         "37.786305",
         "37.786305"
        ],
        [
         "37.789625",
         "37.789625"
        ],
        [
         "37.352601",
         "37.352601"
        ],
        [
         "37.798541",
         "37.798541"
        ],
        [
         "37.491269",
         "37.491269"
        ],
        [
         "37.342725",
         "37.342725"
        ]
       ],
       "datasetInfos": [],
       "dbfsResultPath": null,
       "isJsonSchema": true,
       "metadata": {},
       "overflow": false,
       "plotOptions": {
        "customPlotOptions": {},
        "displayType": "table",
        "pivotAggregation": null,
        "pivotColumns": null,
        "xColumns": null,
        "yColumns": null
       },
       "removedWidgets": [],
       "schema": [
        {
         "metadata": "{}",
         "name": "lat_or_lon",
         "type": "\"string\""
        },
        {
         "metadata": "{}",
         "name": "lat_or_lon_nullified",
         "type": "\"string\""
        }
       ],
       "type": "table"
      }
     },
     "output_type": "display_data"
    }
   ],
   "source": [
    "%sql\n",
    "SELECT \n",
    "    IFNULL(lat, long) AS lat_or_lon, \n",
    "    NULLIF(lat, long) AS lat_or_lon_nullified\n",
    "FROM df_table"
   ]
  },
  {
   "cell_type": "code",
   "execution_count": 0,
   "metadata": {
    "application/vnd.databricks.v1+cell": {
     "cellMetadata": {
      "byteLimit": 2048000,
      "rowLimit": 10000
     },
     "inputWidgets": {},
     "nuid": "2688dd71-8ba4-4d43-bdc0-7579e2b5ee62",
     "showTitle": false,
     "tableResultSettingsMap": {},
     "title": ""
    }
   },
   "outputs": [
    {
     "output_type": "stream",
     "name": "stdout",
     "output_type": "stream",
     "text": [
      "+-------------+-----------------+-------------+\n|count_records|average_dockcount|max_dockcount|\n+-------------+-----------------+-------------+\n|           70|17.65714285714286|           27|\n+-------------+-----------------+-------------+\n\n"
     ]
    }
   ],
   "source": [
    "df_aggregated = df.select(\n",
    "    F.count('*').alias('count_records'),       \n",
    "    F.avg('dockcount').alias('average_dockcount'), \n",
    "    F.max('dockcount').alias('max_dockcount') \n",
    ")\n",
    "\n",
    "df_aggregated.show()\n"
   ]
  }
 ],
 "metadata": {
  "application/vnd.databricks.v1+notebook": {
   "computePreferences": null,
   "dashboards": [],
   "environmentMetadata": null,
   "language": "python",
   "notebookMetadata": {
    "mostRecentlyExecutedCommandWithImplicitDF": {
     "commandId": 1987002293122828,
     "dataframes": [
      "_sqldf"
     ]
    },
    "pythonIndentUnit": 4
   },
   "notebookName": "Funkcje",
   "widgets": {}
  }
 },
 "nbformat": 4,
 "nbformat_minor": 0
}
