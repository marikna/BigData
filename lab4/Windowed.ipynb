{
 "cells": [
  {
   "cell_type": "code",
   "execution_count": 0,
   "metadata": {
    "application/vnd.databricks.v1+cell": {
     "cellMetadata": {},
     "inputWidgets": {},
     "nuid": "cdb89647-1436-40c1-acf6-b9b0e78c77fa",
     "showTitle": false,
     "tableResultSettingsMap": {},
     "title": ""
    }
   },
   "outputs": [],
   "source": [
    "#Wykorzystaj przykłady z notatnika w SQL Windowed Aggregate Functions (cmd 11) i przepisz funkcje używając Spark API.  \n"
   ]
  },
  {
   "cell_type": "code",
   "execution_count": 0,
   "metadata": {
    "application/vnd.databricks.v1+cell": {
     "cellMetadata": {
      "byteLimit": 2048000,
      "implicitDf": true,
      "rowLimit": 10000
     },
     "inputWidgets": {},
     "nuid": "e8585cd8-b72c-484e-a588-8ae563f9e009",
     "showTitle": false,
     "tableResultSettingsMap": {},
     "title": ""
    }
   },
   "outputs": [
    {
     "output_type": "display_data",
     "data": {
      "text/html": [
       "<style scoped>\n",
       "  .table-result-container {\n",
       "    max-height: 300px;\n",
       "    overflow: auto;\n",
       "  }\n",
       "  table, th, td {\n",
       "    border: 1px solid black;\n",
       "    border-collapse: collapse;\n",
       "  }\n",
       "  th, td {\n",
       "    padding: 5px;\n",
       "  }\n",
       "  th {\n",
       "    text-align: left;\n",
       "  }\n",
       "</style><div class='table-result-container'><table class='table-result'><thead style='background-color: white'><tr></tr></thead><tbody></tbody></table></div>"
      ]
     },
     "metadata": {
      "application/vnd.databricks.v1+output": {
       "addedWidgets": {},
       "aggData": [],
       "aggError": "",
       "aggOverflow": false,
       "aggSchema": [],
       "aggSeriesLimitReached": false,
       "aggType": "",
       "arguments": {},
       "columnCustomDisplayInfos": {},
       "data": [],
       "datasetInfos": [],
       "dbfsResultPath": null,
       "isJsonSchema": true,
       "metadata": {},
       "overflow": false,
       "plotOptions": {
        "customPlotOptions": {},
        "displayType": "table",
        "pivotAggregation": null,
        "pivotColumns": null,
        "xColumns": null,
        "yColumns": null
       },
       "removedWidgets": [],
       "schema": [],
       "type": "table"
      }
     },
     "output_type": "display_data"
    }
   ],
   "source": [
    "%sql\n",
    "Create database if not exists Sample"
   ]
  },
  {
   "cell_type": "code",
   "execution_count": 0,
   "metadata": {
    "application/vnd.databricks.v1+cell": {
     "cellMetadata": {
      "byteLimit": 2048000,
      "implicitDf": true,
      "rowLimit": 10000
     },
     "inputWidgets": {},
     "nuid": "75aef164-8519-4784-99ff-021b245ae230",
     "showTitle": false,
     "tableResultSettingsMap": {},
     "title": ""
    }
   },
   "outputs": [
    {
     "output_type": "display_data",
     "data": {
      "text/html": [
       "<style scoped>\n",
       "  .table-result-container {\n",
       "    max-height: 300px;\n",
       "    overflow: auto;\n",
       "  }\n",
       "  table, th, td {\n",
       "    border: 1px solid black;\n",
       "    border-collapse: collapse;\n",
       "  }\n",
       "  th, td {\n",
       "    padding: 5px;\n",
       "  }\n",
       "  th {\n",
       "    text-align: left;\n",
       "  }\n",
       "</style><div class='table-result-container'><table class='table-result'><thead style='background-color: white'><tr></tr></thead><tbody></tbody></table></div>"
      ]
     },
     "metadata": {
      "application/vnd.databricks.v1+output": {
       "addedWidgets": {},
       "aggData": [],
       "aggError": "",
       "aggOverflow": false,
       "aggSchema": [],
       "aggSeriesLimitReached": false,
       "aggType": "",
       "arguments": {},
       "columnCustomDisplayInfos": {},
       "data": [],
       "datasetInfos": [],
       "dbfsResultPath": null,
       "isJsonSchema": true,
       "metadata": {},
       "overflow": false,
       "plotOptions": {
        "customPlotOptions": {},
        "displayType": "table",
        "pivotAggregation": null,
        "pivotColumns": null,
        "xColumns": null,
        "yColumns": null
       },
       "removedWidgets": [],
       "schema": [],
       "type": "table"
      }
     },
     "output_type": "display_data"
    }
   ],
   "source": [
    "%sql\n",
    "\n",
    "CREATE TABLE IF NOT EXISTS Sample.Transactions ( AccountId INT, TranDate DATE, TranAmt DECIMAL(8, 2));\n",
    "\n",
    "CREATE TABLE IF NOT EXISTS Sample.Logical (RowID INT,FName VARCHAR(20), Salary SMALLINT);"
   ]
  },
  {
   "cell_type": "code",
   "execution_count": 0,
   "metadata": {
    "application/vnd.databricks.v1+cell": {
     "cellMetadata": {
      "byteLimit": 2048000,
      "implicitDf": true,
      "rowLimit": 10000
     },
     "inputWidgets": {},
     "nuid": "fc34651d-c76a-4b46-992f-f95400ffa3f3",
     "showTitle": false,
     "tableResultSettingsMap": {},
     "title": ""
    }
   },
   "outputs": [
    {
     "output_type": "display_data",
     "data": {
      "text/html": [
       "<style scoped>\n",
       "  .table-result-container {\n",
       "    max-height: 300px;\n",
       "    overflow: auto;\n",
       "  }\n",
       "  table, th, td {\n",
       "    border: 1px solid black;\n",
       "    border-collapse: collapse;\n",
       "  }\n",
       "  th, td {\n",
       "    padding: 5px;\n",
       "  }\n",
       "  th {\n",
       "    text-align: left;\n",
       "  }\n",
       "</style><div class='table-result-container'><table class='table-result'><thead style='background-color: white'><tr><th>num_affected_rows</th><th>num_inserted_rows</th></tr></thead><tbody><tr><td>18</td><td>18</td></tr></tbody></table></div>"
      ]
     },
     "metadata": {
      "application/vnd.databricks.v1+output": {
       "addedWidgets": {},
       "aggData": [],
       "aggError": "",
       "aggOverflow": false,
       "aggSchema": [],
       "aggSeriesLimitReached": false,
       "aggType": "",
       "arguments": {},
       "columnCustomDisplayInfos": {},
       "data": [
        [
         18,
         18
        ]
       ],
       "datasetInfos": [],
       "dbfsResultPath": null,
       "isJsonSchema": true,
       "metadata": {},
       "overflow": false,
       "plotOptions": {
        "customPlotOptions": {},
        "displayType": "table",
        "pivotAggregation": null,
        "pivotColumns": null,
        "xColumns": null,
        "yColumns": null
       },
       "removedWidgets": [],
       "schema": [
        {
         "metadata": "{}",
         "name": "num_affected_rows",
         "type": "\"long\""
        },
        {
         "metadata": "{}",
         "name": "num_inserted_rows",
         "type": "\"long\""
        }
       ],
       "type": "table"
      }
     },
     "output_type": "display_data"
    }
   ],
   "source": [
    "%sql\n",
    "\n",
    "INSERT INTO Sample.Transactions VALUES \n",
    "( 1, '2011-01-01', 500),\n",
    "( 1, '2011-01-15', 50),\n",
    "( 1, '2011-01-22', 250),\n",
    "( 1, '2011-01-24', 75),\n",
    "( 1, '2011-01-26', 125),\n",
    "( 1, '2011-01-28', 175),\n",
    "( 2, '2011-01-01', 500),\n",
    "( 2, '2011-01-15', 50),\n",
    "( 2, '2011-01-22', 25),\n",
    "( 2, '2011-01-23', 125),\n",
    "( 2, '2011-01-26', 200),\n",
    "( 2, '2011-01-29', 250),\n",
    "( 3, '2011-01-01', 500),\n",
    "( 3, '2011-01-15', 50 ),\n",
    "( 3, '2011-01-22', 5000),\n",
    "( 3, '2011-01-25', 550),\n",
    "( 3, '2011-01-27', 95 ),\n",
    "( 3, '2011-01-30', 2500)\n",
    "\n"
   ]
  },
  {
   "cell_type": "code",
   "execution_count": 0,
   "metadata": {
    "application/vnd.databricks.v1+cell": {
     "cellMetadata": {
      "byteLimit": 2048000,
      "implicitDf": true,
      "rowLimit": 10000
     },
     "inputWidgets": {},
     "nuid": "b917c13f-da99-4910-acfc-d70b9a5e6c62",
     "showTitle": false,
     "tableResultSettingsMap": {},
     "title": ""
    }
   },
   "outputs": [
    {
     "output_type": "display_data",
     "data": {
      "text/html": [
       "<style scoped>\n",
       "  .table-result-container {\n",
       "    max-height: 300px;\n",
       "    overflow: auto;\n",
       "  }\n",
       "  table, th, td {\n",
       "    border: 1px solid black;\n",
       "    border-collapse: collapse;\n",
       "  }\n",
       "  th, td {\n",
       "    padding: 5px;\n",
       "  }\n",
       "  th {\n",
       "    text-align: left;\n",
       "  }\n",
       "</style><div class='table-result-container'><table class='table-result'><thead style='background-color: white'><tr><th>num_affected_rows</th><th>num_inserted_rows</th></tr></thead><tbody><tr><td>14</td><td>14</td></tr></tbody></table></div>"
      ]
     },
     "metadata": {
      "application/vnd.databricks.v1+output": {
       "addedWidgets": {},
       "aggData": [],
       "aggError": "",
       "aggOverflow": false,
       "aggSchema": [],
       "aggSeriesLimitReached": false,
       "aggType": "",
       "arguments": {},
       "columnCustomDisplayInfos": {},
       "data": [
        [
         14,
         14
        ]
       ],
       "datasetInfos": [],
       "dbfsResultPath": null,
       "isJsonSchema": true,
       "metadata": {},
       "overflow": false,
       "plotOptions": {
        "customPlotOptions": {},
        "displayType": "table",
        "pivotAggregation": null,
        "pivotColumns": null,
        "xColumns": null,
        "yColumns": null
       },
       "removedWidgets": [],
       "schema": [
        {
         "metadata": "{}",
         "name": "num_affected_rows",
         "type": "\"long\""
        },
        {
         "metadata": "{}",
         "name": "num_inserted_rows",
         "type": "\"long\""
        }
       ],
       "type": "table"
      }
     },
     "output_type": "display_data"
    }
   ],
   "source": [
    "%sql\n",
    "INSERT INTO Sample.Logical\n",
    "VALUES (1,'George', 800),\n",
    "(2,'Sam', 950),\n",
    "(3,'Diane', 1100),\n",
    "(4,'Nicholas', 1250),\n",
    "(5,'Samuel', 1250),\n",
    "(6,'Patricia', 1300),\n",
    "(7,'Brian', 1500),\n",
    "(8,'Thomas', 1600),\n",
    "(9,'Fran', 2450),\n",
    "(10,'Debbie', 2850),\n",
    "(11,'Mark', 2975),\n",
    "(12,'James', 3000),\n",
    "(13,'Cynthia', 3000),\n",
    "(14,'Christopher', 5000);"
   ]
  },
  {
   "cell_type": "markdown",
   "metadata": {
    "application/vnd.databricks.v1+cell": {
     "cellMetadata": {},
     "inputWidgets": {},
     "nuid": "e6c28f5d-d7c0-48d2-828f-313602b8183a",
     "showTitle": false,
     "tableResultSettingsMap": {},
     "title": ""
    }
   },
   "source": [
    "Totals based on previous row"
   ]
  },
  {
   "cell_type": "code",
   "execution_count": 0,
   "metadata": {
    "application/vnd.databricks.v1+cell": {
     "cellMetadata": {
      "byteLimit": 2048000,
      "implicitDf": true,
      "rowLimit": 10000
     },
     "inputWidgets": {},
     "nuid": "f17c10d3-d673-490a-81e3-072d0b6a0170",
     "showTitle": false,
     "tableResultSettingsMap": {},
     "title": ""
    }
   },
   "outputs": [
    {
     "output_type": "display_data",
     "data": {
      "text/html": [
       "<style scoped>\n",
       "  .table-result-container {\n",
       "    max-height: 300px;\n",
       "    overflow: auto;\n",
       "  }\n",
       "  table, th, td {\n",
       "    border: 1px solid black;\n",
       "    border-collapse: collapse;\n",
       "  }\n",
       "  th, td {\n",
       "    padding: 5px;\n",
       "  }\n",
       "  th {\n",
       "    text-align: left;\n",
       "  }\n",
       "</style><div class='table-result-container'><table class='table-result'><thead style='background-color: white'><tr><th>AccountId</th><th>TranDate</th><th>TranAmt</th><th>RunTotalAmt</th></tr></thead><tbody><tr><td>1</td><td>2011-01-01</td><td>500.00</td><td>500.00</td></tr><tr><td>1</td><td>2011-01-15</td><td>50.00</td><td>550.00</td></tr><tr><td>1</td><td>2011-01-22</td><td>250.00</td><td>800.00</td></tr><tr><td>1</td><td>2011-01-24</td><td>75.00</td><td>875.00</td></tr><tr><td>1</td><td>2011-01-26</td><td>125.00</td><td>1000.00</td></tr><tr><td>1</td><td>2011-01-28</td><td>175.00</td><td>1175.00</td></tr><tr><td>2</td><td>2011-01-01</td><td>500.00</td><td>500.00</td></tr><tr><td>2</td><td>2011-01-15</td><td>50.00</td><td>550.00</td></tr><tr><td>2</td><td>2011-01-22</td><td>25.00</td><td>575.00</td></tr><tr><td>2</td><td>2011-01-23</td><td>125.00</td><td>700.00</td></tr><tr><td>2</td><td>2011-01-26</td><td>200.00</td><td>900.00</td></tr><tr><td>2</td><td>2011-01-29</td><td>250.00</td><td>1150.00</td></tr><tr><td>3</td><td>2011-01-01</td><td>500.00</td><td>500.00</td></tr><tr><td>3</td><td>2011-01-15</td><td>50.00</td><td>550.00</td></tr><tr><td>3</td><td>2011-01-22</td><td>5000.00</td><td>5550.00</td></tr><tr><td>3</td><td>2011-01-25</td><td>550.00</td><td>6100.00</td></tr><tr><td>3</td><td>2011-01-27</td><td>95.00</td><td>6195.00</td></tr><tr><td>3</td><td>2011-01-30</td><td>2500.00</td><td>8695.00</td></tr></tbody></table></div>"
      ]
     },
     "metadata": {
      "application/vnd.databricks.v1+output": {
       "addedWidgets": {},
       "aggData": [],
       "aggError": "",
       "aggOverflow": false,
       "aggSchema": [],
       "aggSeriesLimitReached": false,
       "aggType": "",
       "arguments": {},
       "columnCustomDisplayInfos": {},
       "data": [
        [
         1,
         "2011-01-01",
         "500.00",
         "500.00"
        ],
        [
         1,
         "2011-01-15",
         "50.00",
         "550.00"
        ],
        [
         1,
         "2011-01-22",
         "250.00",
         "800.00"
        ],
        [
         1,
         "2011-01-24",
         "75.00",
         "875.00"
        ],
        [
         1,
         "2011-01-26",
         "125.00",
         "1000.00"
        ],
        [
         1,
         "2011-01-28",
         "175.00",
         "1175.00"
        ],
        [
         2,
         "2011-01-01",
         "500.00",
         "500.00"
        ],
        [
         2,
         "2011-01-15",
         "50.00",
         "550.00"
        ],
        [
         2,
         "2011-01-22",
         "25.00",
         "575.00"
        ],
        [
         2,
         "2011-01-23",
         "125.00",
         "700.00"
        ],
        [
         2,
         "2011-01-26",
         "200.00",
         "900.00"
        ],
        [
         2,
         "2011-01-29",
         "250.00",
         "1150.00"
        ],
        [
         3,
         "2011-01-01",
         "500.00",
         "500.00"
        ],
        [
         3,
         "2011-01-15",
         "50.00",
         "550.00"
        ],
        [
         3,
         "2011-01-22",
         "5000.00",
         "5550.00"
        ],
        [
         3,
         "2011-01-25",
         "550.00",
         "6100.00"
        ],
        [
         3,
         "2011-01-27",
         "95.00",
         "6195.00"
        ],
        [
         3,
         "2011-01-30",
         "2500.00",
         "8695.00"
        ]
       ],
       "datasetInfos": [],
       "dbfsResultPath": null,
       "isJsonSchema": true,
       "metadata": {},
       "overflow": false,
       "plotOptions": {
        "customPlotOptions": {},
        "displayType": "table",
        "pivotAggregation": null,
        "pivotColumns": null,
        "xColumns": null,
        "yColumns": null
       },
       "removedWidgets": [],
       "schema": [
        {
         "metadata": "{}",
         "name": "AccountId",
         "type": "\"integer\""
        },
        {
         "metadata": "{}",
         "name": "TranDate",
         "type": "\"date\""
        },
        {
         "metadata": "{}",
         "name": "TranAmt",
         "type": "\"decimal(8,2)\""
        },
        {
         "metadata": "{}",
         "name": "RunTotalAmt",
         "type": "\"decimal(18,2)\""
        }
       ],
       "type": "table"
      }
     },
     "output_type": "display_data"
    }
   ],
   "source": [
    "%sql\n",
    "\n",
    "SELECT AccountId,\n",
    "TranDate,\n",
    "TranAmt,\n",
    "-- running total of all transactions\n",
    "SUM(TranAmt) OVER (PARTITION BY AccountId ORDER BY TranDate) as RunTotalAmt\n",
    "FROM Sample.Transactions ORDER BY AccountId, TranDate;"
   ]
  },
  {
   "cell_type": "code",
   "execution_count": 0,
   "metadata": {
    "application/vnd.databricks.v1+cell": {
     "cellMetadata": {
      "byteLimit": 2048000,
      "implicitDf": true,
      "rowLimit": 10000
     },
     "inputWidgets": {},
     "nuid": "1050028e-a28e-433b-bef8-865d842dfb5a",
     "showTitle": false,
     "tableResultSettingsMap": {},
     "title": ""
    }
   },
   "outputs": [
    {
     "output_type": "display_data",
     "data": {
      "text/html": [
       "<style scoped>\n",
       "  .table-result-container {\n",
       "    max-height: 300px;\n",
       "    overflow: auto;\n",
       "  }\n",
       "  table, th, td {\n",
       "    border: 1px solid black;\n",
       "    border-collapse: collapse;\n",
       "  }\n",
       "  th, td {\n",
       "    padding: 5px;\n",
       "  }\n",
       "  th {\n",
       "    text-align: left;\n",
       "  }\n",
       "</style><div class='table-result-container'><table class='table-result'><thead style='background-color: white'><tr><th>AccountId</th><th>TranDate</th><th>TranAmt</th><th>RunAvg</th><th>RunTranQty</th><th>RunSmallAmt</th><th>RunLargeAmt</th><th>RunTotalAmt</th></tr></thead><tbody><tr><td>1</td><td>2011-01-01</td><td>500.00</td><td>500.000000</td><td>1</td><td>500.00</td><td>500.00</td><td>500.00</td></tr><tr><td>1</td><td>2011-01-15</td><td>50.00</td><td>275.000000</td><td>2</td><td>50.00</td><td>500.00</td><td>550.00</td></tr><tr><td>1</td><td>2011-01-22</td><td>250.00</td><td>266.666667</td><td>3</td><td>50.00</td><td>500.00</td><td>800.00</td></tr><tr><td>1</td><td>2011-01-24</td><td>75.00</td><td>218.750000</td><td>4</td><td>50.00</td><td>500.00</td><td>875.00</td></tr><tr><td>1</td><td>2011-01-26</td><td>125.00</td><td>200.000000</td><td>5</td><td>50.00</td><td>500.00</td><td>1000.00</td></tr><tr><td>1</td><td>2011-01-28</td><td>175.00</td><td>195.833333</td><td>6</td><td>50.00</td><td>500.00</td><td>1175.00</td></tr><tr><td>2</td><td>2011-01-01</td><td>500.00</td><td>500.000000</td><td>1</td><td>500.00</td><td>500.00</td><td>500.00</td></tr><tr><td>2</td><td>2011-01-15</td><td>50.00</td><td>275.000000</td><td>2</td><td>50.00</td><td>500.00</td><td>550.00</td></tr><tr><td>2</td><td>2011-01-22</td><td>25.00</td><td>191.666667</td><td>3</td><td>25.00</td><td>500.00</td><td>575.00</td></tr><tr><td>2</td><td>2011-01-23</td><td>125.00</td><td>175.000000</td><td>4</td><td>25.00</td><td>500.00</td><td>700.00</td></tr><tr><td>2</td><td>2011-01-26</td><td>200.00</td><td>180.000000</td><td>5</td><td>25.00</td><td>500.00</td><td>900.00</td></tr><tr><td>2</td><td>2011-01-29</td><td>250.00</td><td>191.666667</td><td>6</td><td>25.00</td><td>500.00</td><td>1150.00</td></tr><tr><td>3</td><td>2011-01-01</td><td>500.00</td><td>500.000000</td><td>1</td><td>500.00</td><td>500.00</td><td>500.00</td></tr><tr><td>3</td><td>2011-01-15</td><td>50.00</td><td>275.000000</td><td>2</td><td>50.00</td><td>500.00</td><td>550.00</td></tr><tr><td>3</td><td>2011-01-22</td><td>5000.00</td><td>1850.000000</td><td>3</td><td>50.00</td><td>5000.00</td><td>5550.00</td></tr><tr><td>3</td><td>2011-01-25</td><td>550.00</td><td>1525.000000</td><td>4</td><td>50.00</td><td>5000.00</td><td>6100.00</td></tr><tr><td>3</td><td>2011-01-27</td><td>95.00</td><td>1239.000000</td><td>5</td><td>50.00</td><td>5000.00</td><td>6195.00</td></tr><tr><td>3</td><td>2011-01-30</td><td>2500.00</td><td>1449.166667</td><td>6</td><td>50.00</td><td>5000.00</td><td>8695.00</td></tr></tbody></table></div>"
      ]
     },
     "metadata": {
      "application/vnd.databricks.v1+output": {
       "addedWidgets": {},
       "aggData": [],
       "aggError": "",
       "aggOverflow": false,
       "aggSchema": [],
       "aggSeriesLimitReached": false,
       "aggType": "",
       "arguments": {},
       "columnCustomDisplayInfos": {},
       "data": [
        [
         1,
         "2011-01-01",
         "500.00",
         "500.000000",
         1,
         "500.00",
         "500.00",
         "500.00"
        ],
        [
         1,
         "2011-01-15",
         "50.00",
         "275.000000",
         2,
         "50.00",
         "500.00",
         "550.00"
        ],
        [
         1,
         "2011-01-22",
         "250.00",
         "266.666667",
         3,
         "50.00",
         "500.00",
         "800.00"
        ],
        [
         1,
         "2011-01-24",
         "75.00",
         "218.750000",
         4,
         "50.00",
         "500.00",
         "875.00"
        ],
        [
         1,
         "2011-01-26",
         "125.00",
         "200.000000",
         5,
         "50.00",
         "500.00",
         "1000.00"
        ],
        [
         1,
         "2011-01-28",
         "175.00",
         "195.833333",
         6,
         "50.00",
         "500.00",
         "1175.00"
        ],
        [
         2,
         "2011-01-01",
         "500.00",
         "500.000000",
         1,
         "500.00",
         "500.00",
         "500.00"
        ],
        [
         2,
         "2011-01-15",
         "50.00",
         "275.000000",
         2,
         "50.00",
         "500.00",
         "550.00"
        ],
        [
         2,
         "2011-01-22",
         "25.00",
         "191.666667",
         3,
         "25.00",
         "500.00",
         "575.00"
        ],
        [
         2,
         "2011-01-23",
         "125.00",
         "175.000000",
         4,
         "25.00",
         "500.00",
         "700.00"
        ],
        [
         2,
         "2011-01-26",
         "200.00",
         "180.000000",
         5,
         "25.00",
         "500.00",
         "900.00"
        ],
        [
         2,
         "2011-01-29",
         "250.00",
         "191.666667",
         6,
         "25.00",
         "500.00",
         "1150.00"
        ],
        [
         3,
         "2011-01-01",
         "500.00",
         "500.000000",
         1,
         "500.00",
         "500.00",
         "500.00"
        ],
        [
         3,
         "2011-01-15",
         "50.00",
         "275.000000",
         2,
         "50.00",
         "500.00",
         "550.00"
        ],
        [
         3,
         "2011-01-22",
         "5000.00",
         "1850.000000",
         3,
         "50.00",
         "5000.00",
         "5550.00"
        ],
        [
         3,
         "2011-01-25",
         "550.00",
         "1525.000000",
         4,
         "50.00",
         "5000.00",
         "6100.00"
        ],
        [
         3,
         "2011-01-27",
         "95.00",
         "1239.000000",
         5,
         "50.00",
         "5000.00",
         "6195.00"
        ],
        [
         3,
         "2011-01-30",
         "2500.00",
         "1449.166667",
         6,
         "50.00",
         "5000.00",
         "8695.00"
        ]
       ],
       "datasetInfos": [],
       "dbfsResultPath": null,
       "isJsonSchema": true,
       "metadata": {},
       "overflow": false,
       "plotOptions": {
        "customPlotOptions": {},
        "displayType": "table",
        "pivotAggregation": null,
        "pivotColumns": null,
        "xColumns": null,
        "yColumns": null
       },
       "removedWidgets": [],
       "schema": [
        {
         "metadata": "{}",
         "name": "AccountId",
         "type": "\"integer\""
        },
        {
         "metadata": "{}",
         "name": "TranDate",
         "type": "\"date\""
        },
        {
         "metadata": "{}",
         "name": "TranAmt",
         "type": "\"decimal(8,2)\""
        },
        {
         "metadata": "{}",
         "name": "RunAvg",
         "type": "\"decimal(12,6)\""
        },
        {
         "metadata": "{}",
         "name": "RunTranQty",
         "type": "\"long\""
        },
        {
         "metadata": "{}",
         "name": "RunSmallAmt",
         "type": "\"decimal(8,2)\""
        },
        {
         "metadata": "{}",
         "name": "RunLargeAmt",
         "type": "\"decimal(8,2)\""
        },
        {
         "metadata": "{}",
         "name": "RunTotalAmt",
         "type": "\"decimal(18,2)\""
        }
       ],
       "type": "table"
      }
     },
     "output_type": "display_data"
    }
   ],
   "source": [
    "%sql\n",
    "SELECT AccountId,\n",
    "TranDate,\n",
    "TranAmt,\n",
    "-- running average of all transactions\n",
    "AVG(TranAmt) OVER (PARTITION BY AccountId ORDER BY TranDate) as RunAvg,\n",
    "-- running total # of transactions\n",
    "COUNT(*) OVER (PARTITION BY AccountId ORDER BY TranDate) as RunTranQty,\n",
    "-- smallest of the transactions so far\n",
    "MIN(TranAmt) OVER (PARTITION BY AccountId ORDER BY TranDate) as RunSmallAmt,\n",
    "-- largest of the transactions so far\n",
    "MAX(TranAmt) OVER (PARTITION BY AccountId ORDER BY TranDate) as RunLargeAmt,\n",
    "-- running total of all transactions\n",
    "SUM(TranAmt) OVER (PARTITION BY AccountId ORDER BY TranDate) RunTotalAmt\n",
    "FROM Sample.Transactions \n",
    "ORDER BY AccountId,TranDate;"
   ]
  },
  {
   "cell_type": "markdown",
   "metadata": {
    "application/vnd.databricks.v1+cell": {
     "cellMetadata": {},
     "inputWidgets": {},
     "nuid": "edc188bc-5dc9-4700-bd70-ed61de04da46",
     "showTitle": false,
     "tableResultSettingsMap": {},
     "title": ""
    }
   },
   "source": [
    "* Calculating Totals Based Upon a Subset of Rows"
   ]
  },
  {
   "cell_type": "code",
   "execution_count": 0,
   "metadata": {
    "application/vnd.databricks.v1+cell": {
     "cellMetadata": {
      "byteLimit": 2048000,
      "implicitDf": true,
      "rowLimit": 10000
     },
     "inputWidgets": {},
     "nuid": "cc211820-c278-4602-b42d-9f3099c95e7e",
     "showTitle": false,
     "tableResultSettingsMap": {},
     "title": ""
    }
   },
   "outputs": [
    {
     "output_type": "display_data",
     "data": {
      "text/html": [
       "<style scoped>\n",
       "  .table-result-container {\n",
       "    max-height: 300px;\n",
       "    overflow: auto;\n",
       "  }\n",
       "  table, th, td {\n",
       "    border: 1px solid black;\n",
       "    border-collapse: collapse;\n",
       "  }\n",
       "  th, td {\n",
       "    padding: 5px;\n",
       "  }\n",
       "  th {\n",
       "    text-align: left;\n",
       "  }\n",
       "</style><div class='table-result-container'><table class='table-result'><thead style='background-color: white'><tr><th>AccountId</th><th>TranDate</th><th>TranAmt</th><th>SlideAvg</th><th>SlideQty</th><th>SlideMin</th><th>SlideMax</th><th>SlideTotal</th><th>RN</th></tr></thead><tbody><tr><td>1</td><td>2011-01-01</td><td>500.00</td><td>500.000000</td><td>1</td><td>500.00</td><td>500.00</td><td>500.00</td><td>1</td></tr><tr><td>1</td><td>2011-01-15</td><td>50.00</td><td>275.000000</td><td>2</td><td>50.00</td><td>500.00</td><td>550.00</td><td>2</td></tr><tr><td>1</td><td>2011-01-22</td><td>250.00</td><td>266.666667</td><td>3</td><td>50.00</td><td>500.00</td><td>800.00</td><td>3</td></tr><tr><td>1</td><td>2011-01-24</td><td>75.00</td><td>125.000000</td><td>3</td><td>50.00</td><td>250.00</td><td>375.00</td><td>4</td></tr><tr><td>1</td><td>2011-01-26</td><td>125.00</td><td>150.000000</td><td>3</td><td>75.00</td><td>250.00</td><td>450.00</td><td>5</td></tr><tr><td>1</td><td>2011-01-28</td><td>175.00</td><td>125.000000</td><td>3</td><td>75.00</td><td>175.00</td><td>375.00</td><td>6</td></tr><tr><td>2</td><td>2011-01-01</td><td>500.00</td><td>500.000000</td><td>1</td><td>500.00</td><td>500.00</td><td>500.00</td><td>1</td></tr><tr><td>2</td><td>2011-01-15</td><td>50.00</td><td>275.000000</td><td>2</td><td>50.00</td><td>500.00</td><td>550.00</td><td>2</td></tr><tr><td>2</td><td>2011-01-22</td><td>25.00</td><td>191.666667</td><td>3</td><td>25.00</td><td>500.00</td><td>575.00</td><td>3</td></tr><tr><td>2</td><td>2011-01-23</td><td>125.00</td><td>66.666667</td><td>3</td><td>25.00</td><td>125.00</td><td>200.00</td><td>4</td></tr><tr><td>2</td><td>2011-01-26</td><td>200.00</td><td>116.666667</td><td>3</td><td>25.00</td><td>200.00</td><td>350.00</td><td>5</td></tr><tr><td>2</td><td>2011-01-29</td><td>250.00</td><td>191.666667</td><td>3</td><td>125.00</td><td>250.00</td><td>575.00</td><td>6</td></tr><tr><td>3</td><td>2011-01-01</td><td>500.00</td><td>500.000000</td><td>1</td><td>500.00</td><td>500.00</td><td>500.00</td><td>1</td></tr><tr><td>3</td><td>2011-01-15</td><td>50.00</td><td>275.000000</td><td>2</td><td>50.00</td><td>500.00</td><td>550.00</td><td>2</td></tr><tr><td>3</td><td>2011-01-22</td><td>5000.00</td><td>1850.000000</td><td>3</td><td>50.00</td><td>5000.00</td><td>5550.00</td><td>3</td></tr><tr><td>3</td><td>2011-01-25</td><td>550.00</td><td>1866.666667</td><td>3</td><td>50.00</td><td>5000.00</td><td>5600.00</td><td>4</td></tr><tr><td>3</td><td>2011-01-27</td><td>95.00</td><td>1881.666667</td><td>3</td><td>95.00</td><td>5000.00</td><td>5645.00</td><td>5</td></tr><tr><td>3</td><td>2011-01-30</td><td>2500.00</td><td>1048.333333</td><td>3</td><td>95.00</td><td>2500.00</td><td>3145.00</td><td>6</td></tr></tbody></table></div>"
      ]
     },
     "metadata": {
      "application/vnd.databricks.v1+output": {
       "addedWidgets": {},
       "aggData": [],
       "aggError": "",
       "aggOverflow": false,
       "aggSchema": [],
       "aggSeriesLimitReached": false,
       "aggType": "",
       "arguments": {},
       "columnCustomDisplayInfos": {},
       "data": [
        [
         1,
         "2011-01-01",
         "500.00",
         "500.000000",
         1,
         "500.00",
         "500.00",
         "500.00",
         1
        ],
        [
         1,
         "2011-01-15",
         "50.00",
         "275.000000",
         2,
         "50.00",
         "500.00",
         "550.00",
         2
        ],
        [
         1,
         "2011-01-22",
         "250.00",
         "266.666667",
         3,
         "50.00",
         "500.00",
         "800.00",
         3
        ],
        [
         1,
         "2011-01-24",
         "75.00",
         "125.000000",
         3,
         "50.00",
         "250.00",
         "375.00",
         4
        ],
        [
         1,
         "2011-01-26",
         "125.00",
         "150.000000",
         3,
         "75.00",
         "250.00",
         "450.00",
         5
        ],
        [
         1,
         "2011-01-28",
         "175.00",
         "125.000000",
         3,
         "75.00",
         "175.00",
         "375.00",
         6
        ],
        [
         2,
         "2011-01-01",
         "500.00",
         "500.000000",
         1,
         "500.00",
         "500.00",
         "500.00",
         1
        ],
        [
         2,
         "2011-01-15",
         "50.00",
         "275.000000",
         2,
         "50.00",
         "500.00",
         "550.00",
         2
        ],
        [
         2,
         "2011-01-22",
         "25.00",
         "191.666667",
         3,
         "25.00",
         "500.00",
         "575.00",
         3
        ],
        [
         2,
         "2011-01-23",
         "125.00",
         "66.666667",
         3,
         "25.00",
         "125.00",
         "200.00",
         4
        ],
        [
         2,
         "2011-01-26",
         "200.00",
         "116.666667",
         3,
         "25.00",
         "200.00",
         "350.00",
         5
        ],
        [
         2,
         "2011-01-29",
         "250.00",
         "191.666667",
         3,
         "125.00",
         "250.00",
         "575.00",
         6
        ],
        [
         3,
         "2011-01-01",
         "500.00",
         "500.000000",
         1,
         "500.00",
         "500.00",
         "500.00",
         1
        ],
        [
         3,
         "2011-01-15",
         "50.00",
         "275.000000",
         2,
         "50.00",
         "500.00",
         "550.00",
         2
        ],
        [
         3,
         "2011-01-22",
         "5000.00",
         "1850.000000",
         3,
         "50.00",
         "5000.00",
         "5550.00",
         3
        ],
        [
         3,
         "2011-01-25",
         "550.00",
         "1866.666667",
         3,
         "50.00",
         "5000.00",
         "5600.00",
         4
        ],
        [
         3,
         "2011-01-27",
         "95.00",
         "1881.666667",
         3,
         "95.00",
         "5000.00",
         "5645.00",
         5
        ],
        [
         3,
         "2011-01-30",
         "2500.00",
         "1048.333333",
         3,
         "95.00",
         "2500.00",
         "3145.00",
         6
        ]
       ],
       "datasetInfos": [],
       "dbfsResultPath": null,
       "isJsonSchema": true,
       "metadata": {},
       "overflow": false,
       "plotOptions": {
        "customPlotOptions": {},
        "displayType": "table",
        "pivotAggregation": null,
        "pivotColumns": null,
        "xColumns": null,
        "yColumns": null
       },
       "removedWidgets": [],
       "schema": [
        {
         "metadata": "{}",
         "name": "AccountId",
         "type": "\"integer\""
        },
        {
         "metadata": "{}",
         "name": "TranDate",
         "type": "\"date\""
        },
        {
         "metadata": "{}",
         "name": "TranAmt",
         "type": "\"decimal(8,2)\""
        },
        {
         "metadata": "{}",
         "name": "SlideAvg",
         "type": "\"decimal(12,6)\""
        },
        {
         "metadata": "{}",
         "name": "SlideQty",
         "type": "\"long\""
        },
        {
         "metadata": "{}",
         "name": "SlideMin",
         "type": "\"decimal(8,2)\""
        },
        {
         "metadata": "{}",
         "name": "SlideMax",
         "type": "\"decimal(8,2)\""
        },
        {
         "metadata": "{}",
         "name": "SlideTotal",
         "type": "\"decimal(18,2)\""
        },
        {
         "metadata": "{}",
         "name": "RN",
         "type": "\"integer\""
        }
       ],
       "type": "table"
      }
     },
     "output_type": "display_data"
    }
   ],
   "source": [
    "%sql\n",
    "SELECT AccountId,\n",
    "TranDate,\n",
    "TranAmt,\n",
    "-- average of the current and previous 2 transactions\n",
    "AVG(TranAmt) OVER (PARTITION BY AccountId ORDER BY TranDate ROWS BETWEEN 2 PRECEDING AND CURRENT ROW) as SlideAvg,\n",
    "-- total # of the current and previous 2 transactions\n",
    "COUNT(*) OVER (PARTITION BY AccountId ORDER BY TranDate ROWS BETWEEN 2 PRECEDING AND CURRENT ROW) as SlideQty,\n",
    "-- smallest of the current and previous 2 transactions\n",
    "MIN(TranAmt) OVER (PARTITION BY AccountId ORDER BY TranDate ROWS BETWEEN 2 PRECEDING AND CURRENT ROW) as SlideMin,\n",
    "-- largest of the current and previous 2 transactions\n",
    "MAX(TranAmt) OVER (PARTITION BY AccountId ORDER BY TranDate ROWS BETWEEN 2 PRECEDING AND CURRENT ROW) as SlideMax,\n",
    "-- total of the current and previous 2 transactions\n",
    "SUM(TranAmt) OVER (PARTITION BY AccountId ORDER BY TranDate ROWS BETWEEN 2 PRECEDING AND CURRENT ROW) as SlideTotal,\n",
    "ROW_NUMBER() OVER (PARTITION BY AccountId ORDER BY TranDate) AS RN\n",
    "FROM Sample.Transactions \n",
    "ORDER BY AccountId, TranDate, RN"
   ]
  },
  {
   "cell_type": "markdown",
   "metadata": {
    "application/vnd.databricks.v1+cell": {
     "cellMetadata": {},
     "inputWidgets": {},
     "nuid": "68c6b579-db75-4b85-a91a-cb7dc191b507",
     "showTitle": false,
     "tableResultSettingsMap": {},
     "title": ""
    }
   },
   "source": [
    "* Logical Window\n"
   ]
  },
  {
   "cell_type": "code",
   "execution_count": 0,
   "metadata": {
    "application/vnd.databricks.v1+cell": {
     "cellMetadata": {
      "byteLimit": 2048000,
      "implicitDf": true,
      "rowLimit": 10000
     },
     "inputWidgets": {},
     "nuid": "5a1f7913-c3cd-433c-a58f-0674f3686c2e",
     "showTitle": false,
     "tableResultSettingsMap": {},
     "title": ""
    }
   },
   "outputs": [
    {
     "output_type": "display_data",
     "data": {
      "text/html": [
       "<style scoped>\n",
       "  .table-result-container {\n",
       "    max-height: 300px;\n",
       "    overflow: auto;\n",
       "  }\n",
       "  table, th, td {\n",
       "    border: 1px solid black;\n",
       "    border-collapse: collapse;\n",
       "  }\n",
       "  th, td {\n",
       "    padding: 5px;\n",
       "  }\n",
       "  th {\n",
       "    text-align: left;\n",
       "  }\n",
       "</style><div class='table-result-container'><table class='table-result'><thead style='background-color: white'><tr><th>RowID</th><th>FName</th><th>Salary</th><th>SumByRows</th><th>SumByRange</th></tr></thead><tbody><tr><td>1</td><td>George</td><td>800</td><td>800</td><td>800</td></tr><tr><td>2</td><td>Sam</td><td>950</td><td>1750</td><td>1750</td></tr><tr><td>3</td><td>Diane</td><td>1100</td><td>2850</td><td>2850</td></tr><tr><td>4</td><td>Nicholas</td><td>1250</td><td>4100</td><td>5350</td></tr><tr><td>5</td><td>Samuel</td><td>1250</td><td>5350</td><td>5350</td></tr><tr><td>6</td><td>Patricia</td><td>1300</td><td>6650</td><td>6650</td></tr><tr><td>7</td><td>Brian</td><td>1500</td><td>8150</td><td>8150</td></tr><tr><td>8</td><td>Thomas</td><td>1600</td><td>9750</td><td>9750</td></tr><tr><td>9</td><td>Fran</td><td>2450</td><td>12200</td><td>12200</td></tr><tr><td>10</td><td>Debbie</td><td>2850</td><td>15050</td><td>15050</td></tr><tr><td>11</td><td>Mark</td><td>2975</td><td>18025</td><td>18025</td></tr><tr><td>12</td><td>James</td><td>3000</td><td>21025</td><td>24025</td></tr><tr><td>13</td><td>Cynthia</td><td>3000</td><td>24025</td><td>24025</td></tr><tr><td>14</td><td>Christopher</td><td>5000</td><td>29025</td><td>29025</td></tr></tbody></table></div>"
      ]
     },
     "metadata": {
      "application/vnd.databricks.v1+output": {
       "addedWidgets": {},
       "aggData": [],
       "aggError": "",
       "aggOverflow": false,
       "aggSchema": [],
       "aggSeriesLimitReached": false,
       "aggType": "",
       "arguments": {},
       "columnCustomDisplayInfos": {},
       "data": [
        [
         1,
         "George",
         800,
         800,
         800
        ],
        [
         2,
         "Sam",
         950,
         1750,
         1750
        ],
        [
         3,
         "Diane",
         1100,
         2850,
         2850
        ],
        [
         4,
         "Nicholas",
         1250,
         4100,
         5350
        ],
        [
         5,
         "Samuel",
         1250,
         5350,
         5350
        ],
        [
         6,
         "Patricia",
         1300,
         6650,
         6650
        ],
        [
         7,
         "Brian",
         1500,
         8150,
         8150
        ],
        [
         8,
         "Thomas",
         1600,
         9750,
         9750
        ],
        [
         9,
         "Fran",
         2450,
         12200,
         12200
        ],
        [
         10,
         "Debbie",
         2850,
         15050,
         15050
        ],
        [
         11,
         "Mark",
         2975,
         18025,
         18025
        ],
        [
         12,
         "James",
         3000,
         21025,
         24025
        ],
        [
         13,
         "Cynthia",
         3000,
         24025,
         24025
        ],
        [
         14,
         "Christopher",
         5000,
         29025,
         29025
        ]
       ],
       "datasetInfos": [],
       "dbfsResultPath": null,
       "isJsonSchema": true,
       "metadata": {},
       "overflow": false,
       "plotOptions": {
        "customPlotOptions": {},
        "displayType": "table",
        "pivotAggregation": null,
        "pivotColumns": null,
        "xColumns": null,
        "yColumns": null
       },
       "removedWidgets": [],
       "schema": [
        {
         "metadata": "{}",
         "name": "RowID",
         "type": "\"integer\""
        },
        {
         "metadata": "{\"__CHAR_VARCHAR_TYPE_STRING\":\"varchar(20)\"}",
         "name": "FName",
         "type": "\"string\""
        },
        {
         "metadata": "{}",
         "name": "Salary",
         "type": "\"short\""
        },
        {
         "metadata": "{}",
         "name": "SumByRows",
         "type": "\"long\""
        },
        {
         "metadata": "{}",
         "name": "SumByRange",
         "type": "\"long\""
        }
       ],
       "type": "table"
      }
     },
     "output_type": "display_data"
    }
   ],
   "source": [
    "%sql\n",
    "SELECT RowID,\n",
    "FName,\n",
    "Salary,\n",
    "SUM(Salary) OVER (ORDER BY Salary ROWS UNBOUNDED PRECEDING) as SumByRows,\n",
    "SUM(Salary) OVER (ORDER BY Salary RANGE UNBOUNDED PRECEDING) as SumByRange\n",
    "FROM Sample.Logical\n",
    "ORDER BY RowID;"
   ]
  },
  {
   "cell_type": "code",
   "execution_count": 0,
   "metadata": {
    "application/vnd.databricks.v1+cell": {
     "cellMetadata": {
      "byteLimit": 2048000,
      "rowLimit": 10000
     },
     "inputWidgets": {},
     "nuid": "d61ca366-f7ff-41f7-a275-25417ca78894",
     "showTitle": false,
     "tableResultSettingsMap": {},
     "title": ""
    }
   },
   "outputs": [
    {
     "output_type": "stream",
     "name": "stdout",
     "output_type": "stream",
     "text": [
      "+-----+-----------+------+---------+----------+\n|RowID|      FName|Salary|SumByRows|SumByRange|\n+-----+-----------+------+---------+----------+\n|    1|     George|   800|      800|       800|\n|    2|        Sam|   950|     1750|      1750|\n|    3|      Diane|  1100|     2850|      2850|\n|    4|   Nicholas|  1250|     4100|      5350|\n|    5|     Samuel|  1250|     5350|      5350|\n|    6|   Patricia|  1300|     6650|      6650|\n|    7|      Brian|  1500|     8150|      8150|\n|    8|     Thomas|  1600|     9750|      9750|\n|    9|       Fran|  2450|    12200|     12200|\n|   10|     Debbie|  2850|    15050|     15050|\n|   11|       Mark|  2975|    18025|     18025|\n|   12|      James|  3000|    21025|     24025|\n|   13|    Cynthia|  3000|    24025|     24025|\n|   14|Christopher|  5000|    29025|     29025|\n+-----+-----------+------+---------+----------+\n\n"
     ]
    }
   ],
   "source": [
    "from pyspark.sql import functions as F\n",
    "from pyspark.sql.window import Window\n",
    "\n",
    "window_rows = Window.orderBy(\"Salary\").rowsBetween(Window.unboundedPreceding, Window.currentRow)\n",
    "window_range = Window.orderBy(\"Salary\").rangeBetween(Window.unboundedPreceding, Window.currentRow)\n",
    "\n",
    "res = _sqldf.withColumn(\"SumByRows\", F.sum(\"Salary\").over(window_rows)) \\\n",
    "           .withColumn(\"SumByRange\", F.sum(\"Salary\").over(window_range)) \\\n",
    "           .orderBy(\"RowID\")\n",
    "\n",
    "res.show()"
   ]
  },
  {
   "cell_type": "code",
   "execution_count": 0,
   "metadata": {
    "application/vnd.databricks.v1+cell": {
     "cellMetadata": {
      "byteLimit": 2048000,
      "rowLimit": 10000
     },
     "inputWidgets": {},
     "nuid": "4572cd91-c275-424a-9e3e-9e98cb09baaf",
     "showTitle": false,
     "tableResultSettingsMap": {},
     "title": ""
    }
   },
   "outputs": [],
   "source": [
    "#Do tego notatnika dopisz użycie funkcji okienkowych LEAD, LAG, FIRST_VALUE, LAST_VALUE, ROW_NUMBER  "
   ]
  },
  {
   "cell_type": "code",
   "execution_count": 0,
   "metadata": {
    "application/vnd.databricks.v1+cell": {
     "cellMetadata": {
      "byteLimit": 2048000,
      "implicitDf": true,
      "rowLimit": 10000
     },
     "inputWidgets": {},
     "nuid": "8e091662-cab1-49c1-889b-083272b126bc",
     "showTitle": false,
     "tableResultSettingsMap": {},
     "title": ""
    }
   },
   "outputs": [
    {
     "output_type": "stream",
     "name": "stdout",
     "output_type": "stream",
     "text": [
      "+---------+----------+------+------+\n|AccountId|  TranDate| FName|Salary|\n+---------+----------+------+------+\n|        1|2011-01-28|George|   800|\n|        1|2011-01-26|George|   800|\n|        1|2011-01-24|George|   800|\n|        1|2011-01-22|George|   800|\n|        1|2011-01-15|George|   800|\n|        1|2011-01-01|George|   800|\n|        2|2011-01-29|   Sam|   950|\n|        2|2011-01-26|   Sam|   950|\n|        2|2011-01-23|   Sam|   950|\n|        2|2011-01-22|   Sam|   950|\n|        2|2011-01-15|   Sam|   950|\n|        2|2011-01-01|   Sam|   950|\n|        3|2011-01-30| Diane|  1100|\n|        3|2011-01-27| Diane|  1100|\n|        3|2011-01-25| Diane|  1100|\n|        3|2011-01-22| Diane|  1100|\n|        3|2011-01-15| Diane|  1100|\n|        3|2011-01-01| Diane|  1100|\n+---------+----------+------+------+\n\n"
     ]
    }
   ],
   "source": [
    "df = spark.sql(\"\"\"\n",
    "    SELECT t.AccountId, t.TranDate, l.FName, l.Salary\n",
    "    FROM Sample.Transactions t\n",
    "    JOIN Sample.Logical l ON t.AccountId = l.RowID\n",
    "\"\"\")\n",
    "\n",
    "df.show()"
   ]
  },
  {
   "cell_type": "code",
   "execution_count": 0,
   "metadata": {
    "application/vnd.databricks.v1+cell": {
     "cellMetadata": {
      "byteLimit": 2048000,
      "rowLimit": 10000
     },
     "inputWidgets": {},
     "nuid": "e8e9c451-1284-4538-8feb-819b0f07261d",
     "showTitle": false,
     "tableResultSettingsMap": {},
     "title": ""
    }
   },
   "outputs": [
    {
     "output_type": "stream",
     "name": "stdout",
     "output_type": "stream",
     "text": [
      "+---------+----------+------+------+----+----+----------+---------+------+\n|AccountId|  TranDate| FName|Salary|Lead| Lag|FirstValue|LastValue|RowNum|\n+---------+----------+------+------+----+----+----------+---------+------+\n|        1|2011-01-01|George|   800| 800|null|       800|      800|     1|\n|        1|2011-01-15|George|   800| 800| 800|       800|      800|     2|\n|        1|2011-01-22|George|   800| 800| 800|       800|      800|     3|\n|        1|2011-01-24|George|   800| 800| 800|       800|      800|     4|\n|        1|2011-01-26|George|   800| 800| 800|       800|      800|     5|\n|        1|2011-01-28|George|   800|null| 800|       800|      800|     6|\n|        2|2011-01-01|   Sam|   950| 950|null|       950|      950|     1|\n|        2|2011-01-15|   Sam|   950| 950| 950|       950|      950|     2|\n|        2|2011-01-22|   Sam|   950| 950| 950|       950|      950|     3|\n|        2|2011-01-23|   Sam|   950| 950| 950|       950|      950|     4|\n|        2|2011-01-26|   Sam|   950| 950| 950|       950|      950|     5|\n|        2|2011-01-29|   Sam|   950|null| 950|       950|      950|     6|\n|        3|2011-01-01| Diane|  1100|1100|null|      1100|     1100|     1|\n|        3|2011-01-15| Diane|  1100|1100|1100|      1100|     1100|     2|\n|        3|2011-01-22| Diane|  1100|1100|1100|      1100|     1100|     3|\n|        3|2011-01-25| Diane|  1100|1100|1100|      1100|     1100|     4|\n|        3|2011-01-27| Diane|  1100|1100|1100|      1100|     1100|     5|\n|        3|2011-01-30| Diane|  1100|null|1100|      1100|     1100|     6|\n+---------+----------+------+------+----+----+----------+---------+------+\n\n"
     ]
    }
   ],
   "source": [
    "windowSpec = Window.partitionBy(\"AccountId\").orderBy(\"TranDate\")\n",
    "\n",
    "df = df.withColumn(\"Lead\", F.lead(\"Salary\").over(windowSpec)) \\\n",
    "       .withColumn(\"Lag\", F.lag(\"Salary\").over(windowSpec)) \\\n",
    "       .withColumn(\"FirstValue\", F.first(\"Salary\").over(windowSpec)) \\\n",
    "       .withColumn(\"LastValue\", F.last(\"Salary\").over(windowSpec)) \\\n",
    "       .withColumn(\"RowNum\", F.row_number().over(windowSpec))\n",
    "\n",
    "df.show()"
   ]
  }
 ],
 "metadata": {
  "application/vnd.databricks.v1+notebook": {
   "computePreferences": null,
   "dashboards": [],
   "environmentMetadata": null,
   "inputWidgetPreferences": null,
   "language": "python",
   "notebookMetadata": {
    "mostRecentlyExecutedCommandWithImplicitDF": {
     "commandId": -1,
     "dataframes": [
      "_sqldf"
     ]
    },
    "pythonIndentUnit": 2
   },
   "notebookName": "Windowed",
   "widgets": {}
  }
 },
 "nbformat": 4,
 "nbformat_minor": 0
}