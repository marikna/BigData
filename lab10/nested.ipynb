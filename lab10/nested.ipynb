{
 "cells": [
  {
   "cell_type": "code",
   "execution_count": 0,
   "metadata": {
    "application/vnd.databricks.v1+cell": {
     "cellMetadata": {
      "byteLimit": 2048000,
      "rowLimit": 10000
     },
     "inputWidgets": {},
     "nuid": "6482be4c-f067-47c9-b0ac-35c938b94601",
     "showTitle": false,
     "tableResultSettingsMap": {},
     "title": ""
    }
   },
   "outputs": [
    {
     "output_type": "stream",
     "name": "stdout",
     "output_type": "stream",
     "text": [
      "root\n |-- CaptureDate: string (nullable = true)\n |-- CaptureID: long (nullable = true)\n |-- FID: string (nullable = true)\n |-- Geometry: string (nullable = true)\n |-- attribute1: string (nullable = true)\n |-- changeType_source: string (nullable = true)\n |-- identifier: long (nullable = true)\n |-- pathLinkInfo: struct (nullable = true)\n |    |-- alternateName: string (nullable = true)\n |    |-- captureSpecification: string (nullable = true)\n |    |-- cycleFacility: string (nullable = true)\n |    |-- elevationGain: struct (nullable = true)\n |    |    |-- elevationAgainstDirection: double (nullable = true)\n |    |    |-- elevationInDirection: long (nullable = true)\n |    |-- endGradeSeparation: long (nullable = true)\n |    |-- endNode: string (nullable = true)\n |    |-- fictitious: boolean (nullable = true)\n |    |-- formOfWay: string (nullable = true)\n |    |-- formsPartOfPath: string (nullable = true)\n |    |-- formsPartOfStreet: array (nullable = true)\n |    |    |-- element: string (containsNull = true)\n |    |-- heightingMethod: string (nullable = true)\n |    |-- matchStatus: string (nullable = true)\n |    |-- pathName: string (nullable = true)\n |    |-- sourceFID: string (nullable = true)\n |    |-- startGradeSeparation: long (nullable = true)\n |    |-- startNode: string (nullable = true)\n |    |-- surfaceType: string (nullable = true)\n\n+-------------------+---------+----------------+--------+------------------+-----------------+----------+-----------------------------------------------------------------------------------------------------------------------------------------------------------------------------------------------------------------------------+\n|CaptureDate        |CaptureID|FID             |Geometry|attribute1        |changeType_source|identifier|pathLinkInfo                                                                                                                                                                                                                 |\n+-------------------+---------+----------------+--------+------------------+-----------------+----------+-----------------------------------------------------------------------------------------------------------------------------------------------------------------------------------------------------------------------------+\n|2020-12-31T00:00:00|3        |24b3sdf4353fc220|Geo223  |Under Construction|insert           |2         |{null, Urban, null, {1.3, 0}, 0, eb7f6122-f765-4113-8b77-908934437ee96, false, Path, null, [4fb3afad-2c56-4946-83d1-d734508705e2], DTM, Matched, null, MissingFID, 0, 147b7a78-04bf-4f9a-801d-61dc534a0a5, Sealed on surface}|\n+-------------------+---------+----------------+--------+------------------+-----------------+----------+-----------------------------------------------------------------------------------------------------------------------------------------------------------------------------------------------------------------------------+\n\nroot\n |-- CaptureDate: string (nullable = true)\n |-- CaptureID: long (nullable = true)\n |-- FID: string (nullable = true)\n |-- Geometry: string (nullable = true)\n |-- changeType_source: string (nullable = true)\n |-- identifier: long (nullable = true)\n |-- pathLinkInfo: struct (nullable = false)\n |    |-- alternateName: string (nullable = true)\n |    |-- captureSpecification: string (nullable = true)\n |    |-- cycleFacility: string (nullable = true)\n |    |-- elevationGain: struct (nullable = true)\n |    |    |-- elevationAgainstDirection: double (nullable = true)\n |    |    |-- elevationInDirection: long (nullable = true)\n |    |-- endNode: string (nullable = true)\n |    |-- fictitious: boolean (nullable = true)\n |    |-- formOfWay: string (nullable = true)\n |    |-- formsPartOfStreet: array (nullable = true)\n |    |    |-- element: string (containsNull = true)\n |    |-- heightingMethod: string (nullable = true)\n |    |-- matchStatus: string (nullable = true)\n |    |-- pathName: string (nullable = true)\n |    |-- sourceFID: string (nullable = true)\n |    |-- startGradeSeparation: long (nullable = true)\n |    |-- startNode: string (nullable = true)\n |    |-- surfaceType: string (nullable = true)\n\nroot\n |-- CaptureDate: string (nullable = true)\n |-- CaptureID: long (nullable = true)\n |-- FID: string (nullable = true)\n |-- Geometry: string (nullable = true)\n |-- changeType_source: string (nullable = true)\n |-- identifier: long (nullable = true)\n |-- pathLinkInfo: struct (nullable = false)\n |    |-- alternateName: string (nullable = true)\n |    |-- captureSpecification: string (nullable = true)\n |    |-- cycleFacility: string (nullable = true)\n |    |-- elevationGain: struct (nullable = false)\n |    |    |-- elevationInDirection: long (nullable = true)\n |    |-- endNode: string (nullable = true)\n |    |-- fictitious: boolean (nullable = true)\n |    |-- formOfWay: string (nullable = true)\n |    |-- formsPartOfStreet: array (nullable = true)\n |    |    |-- element: string (containsNull = true)\n |    |-- heightingMethod: string (nullable = true)\n |    |-- matchStatus: string (nullable = true)\n |    |-- pathName: string (nullable = true)\n |    |-- sourceFID: string (nullable = true)\n |    |-- startGradeSeparation: long (nullable = true)\n |    |-- startNode: string (nullable = true)\n |    |-- surfaceType: string (nullable = true)\n\n"
     ]
    }
   ],
   "source": [
    "df = spark.read.option(\"multiLine\", True).json(\"/FileStore/tables/Nested.json\")\n",
    "df.printSchema()\n",
    "df.show(truncate=False)\n",
    "\n",
    "df = df.drop('attribute1')\n",
    "\n",
    "\n",
    "fields_to_remove = {\"endGradeSeparation\", \"formsPartOfPath\"}\n",
    "fields_to_keep = [f.name for f in df.schema[\"pathLinkInfo\"].dataType.fields if f.name not in fields_to_remove]\n",
    "\n",
    "df = df.withColumn(\n",
    "    \"pathLinkInfo\",\n",
    "    struct(*[col(f\"pathLinkInfo.{field}\") for field in fields_to_keep])\n",
    ")\n",
    "\n",
    "df.printSchema()\n",
    "\n",
    "elevationGain_fields = df.schema[\"pathLinkInfo\"].dataType[\"elevationGain\"].dataType.fields\n",
    "elevationGain_fields_to_keep = [f.name for f in elevationGain_fields if f.name != \"elevationAgainstDirection\"]\n",
    "\n",
    "df = df.withColumn(\n",
    "    \"pathLinkInfo\",\n",
    "    struct(\n",
    "        *[\n",
    "            col(f\"pathLinkInfo.{field}\") if field != \"elevationGain\" else\n",
    "            struct(*[col(f\"pathLinkInfo.elevationGain.{ef}\") for ef in elevationGain_fields_to_keep]).alias(\"elevationGain\")\n",
    "            for field in fields_to_keep\n",
    "        ]\n",
    "    )\n",
    ")\n",
    "\n",
    "\n",
    "df.printSchema()"
   ]
  }
 ],
 "metadata": {
  "application/vnd.databricks.v1+notebook": {
   "computePreferences": null,
   "dashboards": [],
   "environmentMetadata": null,
   "inputWidgetPreferences": null,
   "language": "python",
   "notebookMetadata": {
    "pythonIndentUnit": 4
   },
   "notebookName": "nested",
   "widgets": {}
  }
 },
 "nbformat": 4,
 "nbformat_minor": 0
}