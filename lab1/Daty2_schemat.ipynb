{
 "cells": [
  {
   "cell_type": "markdown",
   "metadata": {
    "application/vnd.databricks.v1+cell": {
     "cellMetadata": {
      "byteLimit": 2048000,
      "rowLimit": 10000
     },
     "inputWidgets": {},
     "nuid": "d164dcf6-c3fe-4966-a7d3-f8bb151b13fb",
     "showTitle": false,
     "tableResultSettingsMap": {},
     "title": ""
    }
   },
   "source": [
    "Zadanie 2: Schemat Danych"
   ]
  },
  {
   "cell_type": "code",
   "execution_count": 0,
   "metadata": {
    "application/vnd.databricks.v1+cell": {
     "cellMetadata": {
      "byteLimit": 2048000,
      "rowLimit": 10000
     },
     "inputWidgets": {},
     "nuid": "adcbad68-1334-4fbe-9dda-30686b6ef95e",
     "showTitle": false,
     "tableResultSettingsMap": {},
     "title": ""
    }
   },
   "outputs": [],
   "source": [
    "from pyspark.sql import SparkSession\n",
    "from pyspark.sql.types import StructType, StructField, StringType, IntegerType"
   ]
  },
  {
   "cell_type": "code",
   "execution_count": 0,
   "metadata": {
    "application/vnd.databricks.v1+cell": {
     "cellMetadata": {
      "byteLimit": 2048000,
      "rowLimit": 10000
     },
     "inputWidgets": {},
     "nuid": "56f65c14-1953-470b-bc3c-b039ab9ff0c7",
     "showTitle": false,
     "tableResultSettingsMap": {},
     "title": ""
    }
   },
   "outputs": [],
   "source": [
    "spark = SparkSession.builder \\\n",
    "    .appName(\"Schematy\") \\\n",
    "    .getOrCreate()"
   ]
  },
  {
   "cell_type": "code",
   "execution_count": 0,
   "metadata": {
    "application/vnd.databricks.v1+cell": {
     "cellMetadata": {
      "byteLimit": 2048000,
      "rowLimit": 10000
     },
     "inputWidgets": {},
     "nuid": "e4a5f66e-a24d-47f2-9c5b-25cf481ae103",
     "showTitle": false,
     "tableResultSettingsMap": {},
     "title": ""
    }
   },
   "outputs": [
    {
     "output_type": "stream",
     "name": "stdout",
     "output_type": "stream",
     "text": [
      "+-------------+--------+------------+--------+--------+--------------------+\n|imdb_title_id|ordering|imdb_name_id|category|     job|          characters|\n+-------------+--------+------------+--------+--------+--------------------+\n|    tt0000009|       1|   nm0063086| actress|    null|[Miss Geraldine H...|\n|    tt0000009|       2|   nm0183823|   actor|    null|      [Mr. Hamilton]|\n|    tt0000009|       3|   nm1309758|   actor|    null|[Chauncey Depew -...|\n|    tt0000009|       4|   nm0085156|director|    null|                null|\n|    tt0000574|       1|   nm0846887| actress|    null|        [Kate Kelly]|\n|    tt0000574|       2|   nm0846894|   actor|    null|     [School Master]|\n|    tt0000574|       3|   nm3002376|   actor|    null|        [Steve Hart]|\n|    tt0000574|       4|   nm0170118| actress|    null|                null|\n|    tt0000574|       5|   nm0846879|director|    null|                null|\n|    tt0000574|       6|   nm0317210|producer|producer|                null|\n+-------------+--------+------------+--------+--------+--------------------+\nonly showing top 10 rows\n\nroot\n |-- imdb_title_id: string (nullable = true)\n |-- ordering: integer (nullable = true)\n |-- imdb_name_id: string (nullable = true)\n |-- category: string (nullable = true)\n |-- job: string (nullable = true)\n |-- characters: string (nullable = true)\n\n"
     ]
    }
   ],
   "source": [
    "file_path = \"dbfs:/FileStore/tables/Files/actors.csv\"\n",
    "schema = StructType([\n",
    "    StructField(\"imdb_title_id\", StringType(), True),\n",
    "    StructField(\"ordering\", IntegerType(), True),\n",
    "    StructField(\"imdb_name_id\", StringType(), True),\n",
    "    StructField(\"category\", StringType(), True),\n",
    "    StructField(\"job\", StringType(), True),\n",
    "    StructField(\"characters\", StringType(), True)\n",
    "])\n",
    "\n",
    "dataFrame = spark.read.csv(file_path, \n",
    "                           header=True, \n",
    "                           schema=schema, \n",
    "                           inferSchema=False)\n",
    "\n",
    "dataFrame.show(10)\n",
    "dataFrame.printSchema()"
   ]
  },
  {
   "cell_type": "markdown",
   "metadata": {
    "application/vnd.databricks.v1+cell": {
     "cellMetadata": {
      "byteLimit": 2048000,
      "rowLimit": 10000
     },
     "inputWidgets": {},
     "nuid": "30bc104b-31de-4ba0-be8c-76bd74a0cdb8",
     "showTitle": false,
     "tableResultSettingsMap": {},
     "title": ""
    }
   },
   "source": [
    "Zadanie 3: Read Modes"
   ]
  },
  {
   "cell_type": "code",
   "execution_count": 0,
   "metadata": {
    "application/vnd.databricks.v1+cell": {
     "cellMetadata": {
      "byteLimit": 2048000,
      "rowLimit": 10000
     },
     "inputWidgets": {},
     "nuid": "6e7fd82f-ae89-4f81-abfb-8ef28a42c10d",
     "showTitle": false,
     "tableResultSettingsMap": {},
     "title": ""
    }
   },
   "outputs": [
    {
     "output_type": "stream",
     "name": "stdout",
     "output_type": "stream",
     "text": [
      "+-------------+--------+------------+---------------+----------+--------------------+\n|imdb_title_id|ordering|imdb_name_id|       category|       job|          characters|\n+-------------+--------+------------+---------------+----------+--------------------+\n|    tt0000009|       1|   nm0063086|        actress|      null|[Miss Geraldine H...|\n|    tt0000009|       2|   nm0183823|          actor|      null|      [Mr. Hamilton]|\n|    tt0000009|       3|   nm1309758|          actor|      null|[Chauncey Depew -...|\n|    tt0000009|       4|   nm0085156|       director|      null|                null|\n|    tt0000574|       1|   nm0846887|        actress|      null|        [Kate Kelly]|\n|    tt0000574|       2|   nm0846894|          actor|      null|     [School Master]|\n|    tt0000574|       3|   nm3002376|          actor|      null|        [Steve Hart]|\n|    tt0000574|       4|   nm0170118|        actress|      null|                null|\n|    tt0000574|      ??|   nm0846879|       director|      null|                null|\n|    tt0000574|       6|   nm0317210|       producer|  producer|                null|\n|    tt0000574|       7|   nm0425854|       producer|  producer|                null|\n|    tt0000574|       8|   nm0846911|       producer|  producer|                null|\n|    tt0000574|       9|   nm2421834|       composer|      null|                null|\n|    tt0000574|      10|   nm0675239|cinematographer|      null|                null|\n|    tt0001892|       1|   nm0003425|        actress|      null|            [Stella]|\n|    tt0001892|       2|   nm0699637|          actor|      null|[Grev Johan Waldb...|\n|    tt0001892|       3|   nm0375839|          actor|      null|[Hofjuveler A. Hi...|\n|    tt0001892|       4|   nm0016799|          actor|      null|                null|\n|    tt0001892|      ??|   nm0300487|       director|      null|                null|\n|    tt0001892|       6|   nm2131092|         writer|screenplay|                null|\n+-------------+--------+------------+---------------+----------+--------------------+\nonly showing top 20 rows\n\n"
     ]
    }
   ],
   "source": [
    "from pyspark.sql.functions import when\n",
    "\n",
    "spark = SparkSession.builder.appName(\"ReadModes\").getOrCreate()\n",
    "\n",
    "df = dataFrame.withColumn(\n",
    "    \"ordering\", \n",
    "    when(dataFrame[\"ordering\"] == 5, \"??\").otherwise(dataFrame[\"ordering\"])\n",
    ")\n",
    "\n",
    "df.show()\n",
    "\n",
    "error_file_path = \"dbfs:/FileStore/tables/Files/corrupted_actors.csv\"\n",
    "df.write.csv(error_file_path, header=True, mode=\"overwrite\")"
   ]
  },
  {
   "cell_type": "code",
   "execution_count": 0,
   "metadata": {
    "application/vnd.databricks.v1+cell": {
     "cellMetadata": {
      "byteLimit": 2048000,
      "rowLimit": 10000
     },
     "inputWidgets": {},
     "nuid": "4683955e-0c5d-4cac-9625-5ae5ea7d1774",
     "showTitle": false,
     "tableResultSettingsMap": {},
     "title": ""
    }
   },
   "outputs": [
    {
     "output_type": "stream",
     "name": "stdout",
     "output_type": "stream",
     "text": [
      "+-------------+--------+------------+---------------+----------+--------------------+\n|imdb_title_id|ordering|imdb_name_id|       category|       job|          characters|\n+-------------+--------+------------+---------------+----------+--------------------+\n|    tt0000009|       1|   nm0063086|        actress|      null|[Miss Geraldine H...|\n|    tt0000009|       2|   nm0183823|          actor|      null|      [Mr. Hamilton]|\n|    tt0000009|       3|   nm1309758|          actor|      null|[Chauncey Depew -...|\n|    tt0000009|       4|   nm0085156|       director|      null|                null|\n|    tt0000574|       1|   nm0846887|        actress|      null|        [Kate Kelly]|\n|    tt0000574|       2|   nm0846894|          actor|      null|     [School Master]|\n|    tt0000574|       3|   nm3002376|          actor|      null|        [Steve Hart]|\n|    tt0000574|       4|   nm0170118|        actress|      null|                null|\n|    tt0000574|    null|   nm0846879|       director|      null|                null|\n|    tt0000574|       6|   nm0317210|       producer|  producer|                null|\n|    tt0000574|       7|   nm0425854|       producer|  producer|                null|\n|    tt0000574|       8|   nm0846911|       producer|  producer|                null|\n|    tt0000574|       9|   nm2421834|       composer|      null|                null|\n|    tt0000574|      10|   nm0675239|cinematographer|      null|                null|\n|    tt0001892|       1|   nm0003425|        actress|      null|            [Stella]|\n|    tt0001892|       2|   nm0699637|          actor|      null|[Grev Johan Waldb...|\n|    tt0001892|       3|   nm0375839|          actor|      null|[Hofjuveler A. Hi...|\n|    tt0001892|       4|   nm0016799|          actor|      null|                null|\n|    tt0001892|    null|   nm0300487|       director|      null|                null|\n|    tt0001892|       6|   nm2131092|         writer|screenplay|                null|\n+-------------+--------+------------+---------------+----------+--------------------+\nonly showing top 20 rows\n\n+-------------+--------+------------+---------------+----------+--------------------+\n|imdb_title_id|ordering|imdb_name_id|       category|       job|          characters|\n+-------------+--------+------------+---------------+----------+--------------------+\n|    tt0000009|       1|   nm0063086|        actress|      null|[Miss Geraldine H...|\n|    tt0000009|       2|   nm0183823|          actor|      null|      [Mr. Hamilton]|\n|    tt0000009|       3|   nm1309758|          actor|      null|[Chauncey Depew -...|\n|    tt0000009|       4|   nm0085156|       director|      null|                null|\n|    tt0000574|       1|   nm0846887|        actress|      null|        [Kate Kelly]|\n|    tt0000574|       2|   nm0846894|          actor|      null|     [School Master]|\n|    tt0000574|       3|   nm3002376|          actor|      null|        [Steve Hart]|\n|    tt0000574|       4|   nm0170118|        actress|      null|                null|\n|    tt0000574|       6|   nm0317210|       producer|  producer|                null|\n|    tt0000574|       7|   nm0425854|       producer|  producer|                null|\n|    tt0000574|       8|   nm0846911|       producer|  producer|                null|\n|    tt0000574|       9|   nm2421834|       composer|      null|                null|\n|    tt0000574|      10|   nm0675239|cinematographer|      null|                null|\n|    tt0001892|       1|   nm0003425|        actress|      null|            [Stella]|\n|    tt0001892|       2|   nm0699637|          actor|      null|[Grev Johan Waldb...|\n|    tt0001892|       3|   nm0375839|          actor|      null|[Hofjuveler A. Hi...|\n|    tt0001892|       4|   nm0016799|          actor|      null|                null|\n|    tt0001892|       6|   nm2131092|         writer|screenplay|                null|\n|    tt0001892|       7|   nm0423762|cinematographer|      null|                null|\n|    tt0001892|       8|   nm0005869|cinematographer|      null|                null|\n+-------------+--------+------------+---------------+----------+--------------------+\nonly showing top 20 rows\n\nError!!!\n"
     ]
    }
   ],
   "source": [
    "#PERMISSIVE - default\n",
    "\n",
    "df_permissive = spark.read.csv(error_file_path, header=True, schema=schema, mode=\"PERMISSIVE\")\n",
    "df_permissive.show()\n",
    "\n",
    "#DROPMALFORMED - skips rows\n",
    "\n",
    "df_dropmalformed = spark.read.csv(error_file_path, header=True, schema=schema, mode=\"DROPMALFORMED\")\n",
    "df_dropmalformed.show()\n",
    "\n",
    "#FAILFAST - stops when 1st error occurs\n",
    "\n",
    "try:\n",
    "    df_failfast = spark.read.csv(error_file_path, header=True, schema=schema, mode=\"FAILFAST\")\n",
    "    df_failfast.show()\n",
    "except Exception as e:\n",
    "    print(\"Error!!!\")"
   ]
  },
  {
   "cell_type": "markdown",
   "metadata": {
    "application/vnd.databricks.v1+cell": {
     "cellMetadata": {
      "byteLimit": 2048000,
      "rowLimit": 10000
     },
     "inputWidgets": {},
     "nuid": "0c44ccaf-e896-44e6-9deb-0cab12e097ee",
     "showTitle": false,
     "tableResultSettingsMap": {},
     "title": ""
    }
   },
   "source": [
    "Zadanie 4: DataFrameWriter"
   ]
  },
  {
   "cell_type": "code",
   "execution_count": 0,
   "metadata": {
    "application/vnd.databricks.v1+cell": {
     "cellMetadata": {
      "byteLimit": 2048000,
      "rowLimit": 10000
     },
     "inputWidgets": {},
     "nuid": "7f5d20b1-d99a-4de8-9d23-06936376ad6b",
     "showTitle": false,
     "tableResultSettingsMap": {},
     "title": ""
    }
   },
   "outputs": [
    {
     "output_type": "stream",
     "name": "stdout",
     "output_type": "stream",
     "text": [
      "+-------------+--------+------------+-------------------+--------+------------+\n|imdb_title_id|ordering|imdb_name_id|           category|     job|  characters|\n+-------------+--------+------------+-------------------+--------+------------+\n|    tt3249124|       4|   nm6005417|              actor|    null|       [Tom]|\n|    tt3249124|       5|   nm1871431|           director|    null|        null|\n|    tt3249124|       6|   nm1862032|           producer|producer|        null|\n|    tt3249124|       7|   nm4261282|           composer|    null|        null|\n|    tt3249124|       8|   nm1677303|production_designer|    null|        null|\n|    tt3249158|       1|   nm2946712|              actor|    null| [Sebastian]|\n|    tt3249158|       2|   nm2578315|            actress|    null|   [Miranda]|\n|    tt3249158|       3|   nm7033017|              actor|    null|   [Jacinto]|\n|    tt3249158|       4|   nm7033021|              actor|    null|      [Rosa]|\n|    tt3249158|       5|   nm1848095|           director|    null|        null|\n|    tt3249158|       6|   nm1120960|           producer|producer|        null|\n|    tt3249158|       7|   nm4065853|           producer|producer|        null|\n|    tt3249158|       8|   nm1680580|           producer|producer|        null|\n|    tt3249158|       9|   nm2613542|           composer|    null|        null|\n|    tt3249158|      10|   nm0608209|    cinematographer|    null|        null|\n|    tt3249524|       1|   nm2768721|            actress|    null|     [Polly]|\n|    tt3249524|       2|   nm0059088|            actress|    null|    [Rachel]|\n|    tt3249524|       3|   nm6005667|            actress|    null|    [Rachel]|\n|    tt3249524|       4|   nm6736174|              actor|    null|[Bigg Weezy]|\n|    tt3249524|       5|   nm1053523|           director|    null|        null|\n+-------------+--------+------------+-------------------+--------+------------+\nonly showing top 20 rows\n\n+-------------------+------------+------------+-------------+--------+--------+\n|           category|  characters|imdb_name_id|imdb_title_id|     job|ordering|\n+-------------------+------------+------------+-------------+--------+--------+\n|              actor|       [Tom]|   nm6005417|    tt3249124|    null|       4|\n|           director|        null|   nm1871431|    tt3249124|    null|       5|\n|           producer|        null|   nm1862032|    tt3249124|producer|       6|\n|           composer|        null|   nm4261282|    tt3249124|    null|       7|\n|production_designer|        null|   nm1677303|    tt3249124|    null|       8|\n|              actor| [Sebastian]|   nm2946712|    tt3249158|    null|       1|\n|            actress|   [Miranda]|   nm2578315|    tt3249158|    null|       2|\n|              actor|   [Jacinto]|   nm7033017|    tt3249158|    null|       3|\n|              actor|      [Rosa]|   nm7033021|    tt3249158|    null|       4|\n|           director|        null|   nm1848095|    tt3249158|    null|       5|\n|           producer|        null|   nm1120960|    tt3249158|producer|       6|\n|           producer|        null|   nm4065853|    tt3249158|producer|       7|\n|           producer|        null|   nm1680580|    tt3249158|producer|       8|\n|           composer|        null|   nm2613542|    tt3249158|    null|       9|\n|    cinematographer|        null|   nm0608209|    tt3249158|    null|      10|\n|            actress|     [Polly]|   nm2768721|    tt3249524|    null|       1|\n|            actress|    [Rachel]|   nm0059088|    tt3249524|    null|       2|\n|            actress|    [Rachel]|   nm6005667|    tt3249524|    null|       3|\n|              actor|[Bigg Weezy]|   nm6736174|    tt3249524|    null|       4|\n|           director|        null|   nm1053523|    tt3249524|    null|       5|\n+-------------------+------------+------------+-------------+--------+--------+\nonly showing top 20 rows\n\n"
     ]
    }
   ],
   "source": [
    "spark = SparkSession.builder.appName(\"DataFrameWriter\").getOrCreate()\n",
    "\n",
    "\n",
    "file_path = \"dbfs:/FileStore/tables/Files/actors.csv\"\n",
    "dataFrame = spark.read.csv(file_path, header=True, inferSchema=True)\n",
    "\n",
    "#WRITE\n",
    "dataFrame.write.parquet(\"dbfs:/FileStore/Tables/Files/parquet_file.parquet\", mode=\"overwrite\")\n",
    "dataFrame.write.json(\"dbfs:/FileStore/Tables/Files/json_file.json\", mode=\"overwrite\")\n",
    "\n",
    "\n",
    "#READ\n",
    "df_parquet = spark.read.parquet(\"dbfs:/FileStore/Tables/Files/parquet_file.parquet\")\n",
    "df_parquet.show()\n",
    "\n",
    "df_json = spark.read.json(\"dbfs:/FileStore/Tables/Files/json_file.json\")\n",
    "df_json.show()"
   ]
  }
 ],
 "metadata": {
  "application/vnd.databricks.v1+notebook": {
   "computePreferences": null,
   "dashboards": [],
   "environmentMetadata": null,
   "language": "python",
   "notebookMetadata": {
    "pythonIndentUnit": 4
   },
   "notebookName": "Daty2_schemat",
   "widgets": {}
  },
  "kernelspec": {
   "display_name": "base",
   "language": "python",
   "name": "python3"
  },
  "language_info": {
   "codemirror_mode": {
    "name": "ipython",
    "version": 3
   },
   "file_extension": ".py",
   "mimetype": "text/x-python",
   "name": "python",
   "nbconvert_exporter": "python",
   "pygments_lexer": "ipython3",
   "version": "3.12.7"
  }
 },
 "nbformat": 4,
 "nbformat_minor": 0
}
