{
 "cells": [
  {
   "cell_type": "markdown",
   "metadata": {
    "application/vnd.databricks.v1+cell": {
     "cellMetadata": {
      "byteLimit": 2048000,
      "rowLimit": 10000
     },
     "inputWidgets": {},
     "nuid": "5c02d17b-2ca6-4afd-ba85-15984e47b381",
     "showTitle": false,
     "tableResultSettingsMap": {},
     "title": ""
    }
   },
   "source": [
    "## Dane\n",
    "Dane są dostępne na AWS i dostęp zapewnia Databricks `/databricks-datasets/structured-streaming/events/` "
   ]
  },
  {
   "cell_type": "code",
   "execution_count": 0,
   "metadata": {
    "application/vnd.databricks.v1+cell": {
     "cellMetadata": {
      "byteLimit": 2048000,
      "rowLimit": 10000
     },
     "inputWidgets": {},
     "nuid": "94bd1611-1717-45d5-9b08-e807bea36c32",
     "showTitle": false,
     "tableResultSettingsMap": {},
     "title": ""
    }
   },
   "outputs": [
    {
     "output_type": "display_data",
     "data": {
      "text/html": [
       "<style scoped>\n",
       "  .table-result-container {\n",
       "    max-height: 300px;\n",
       "    overflow: auto;\n",
       "  }\n",
       "  table, th, td {\n",
       "    border: 1px solid black;\n",
       "    border-collapse: collapse;\n",
       "  }\n",
       "  th, td {\n",
       "    padding: 5px;\n",
       "  }\n",
       "  th {\n",
       "    text-align: left;\n",
       "  }\n",
       "</style><div class='table-result-container'><table class='table-result'><thead style='background-color: white'><tr><th>path</th><th>name</th><th>size</th><th>modificationTime</th></tr></thead><tbody><tr><td>dbfs:/databricks-datasets/structured-streaming/events/file-0.json</td><td>file-0.json</td><td>72530</td><td>1469673865000</td></tr><tr><td>dbfs:/databricks-datasets/structured-streaming/events/file-1.json</td><td>file-1.json</td><td>72961</td><td>1469673866000</td></tr><tr><td>dbfs:/databricks-datasets/structured-streaming/events/file-10.json</td><td>file-10.json</td><td>73025</td><td>1469673878000</td></tr><tr><td>dbfs:/databricks-datasets/structured-streaming/events/file-11.json</td><td>file-11.json</td><td>72999</td><td>1469673879000</td></tr><tr><td>dbfs:/databricks-datasets/structured-streaming/events/file-12.json</td><td>file-12.json</td><td>72987</td><td>1469673880000</td></tr><tr><td>dbfs:/databricks-datasets/structured-streaming/events/file-13.json</td><td>file-13.json</td><td>73006</td><td>1469673881000</td></tr><tr><td>dbfs:/databricks-datasets/structured-streaming/events/file-14.json</td><td>file-14.json</td><td>73003</td><td>1469673882000</td></tr><tr><td>dbfs:/databricks-datasets/structured-streaming/events/file-15.json</td><td>file-15.json</td><td>73007</td><td>1469673883000</td></tr><tr><td>dbfs:/databricks-datasets/structured-streaming/events/file-16.json</td><td>file-16.json</td><td>72978</td><td>1469673885000</td></tr><tr><td>dbfs:/databricks-datasets/structured-streaming/events/file-17.json</td><td>file-17.json</td><td>73008</td><td>1469673886000</td></tr><tr><td>dbfs:/databricks-datasets/structured-streaming/events/file-18.json</td><td>file-18.json</td><td>73002</td><td>1469673887000</td></tr><tr><td>dbfs:/databricks-datasets/structured-streaming/events/file-19.json</td><td>file-19.json</td><td>73014</td><td>1469673888000</td></tr><tr><td>dbfs:/databricks-datasets/structured-streaming/events/file-2.json</td><td>file-2.json</td><td>73007</td><td>1469673868000</td></tr><tr><td>dbfs:/databricks-datasets/structured-streaming/events/file-20.json</td><td>file-20.json</td><td>72987</td><td>1469673889000</td></tr><tr><td>dbfs:/databricks-datasets/structured-streaming/events/file-21.json</td><td>file-21.json</td><td>72983</td><td>1469673891000</td></tr><tr><td>dbfs:/databricks-datasets/structured-streaming/events/file-22.json</td><td>file-22.json</td><td>73009</td><td>1469673892000</td></tr><tr><td>dbfs:/databricks-datasets/structured-streaming/events/file-23.json</td><td>file-23.json</td><td>72985</td><td>1469673893000</td></tr><tr><td>dbfs:/databricks-datasets/structured-streaming/events/file-24.json</td><td>file-24.json</td><td>73020</td><td>1469673894000</td></tr><tr><td>dbfs:/databricks-datasets/structured-streaming/events/file-25.json</td><td>file-25.json</td><td>72980</td><td>1469673895000</td></tr><tr><td>dbfs:/databricks-datasets/structured-streaming/events/file-26.json</td><td>file-26.json</td><td>73002</td><td>1469673897000</td></tr><tr><td>dbfs:/databricks-datasets/structured-streaming/events/file-27.json</td><td>file-27.json</td><td>73013</td><td>1469673898000</td></tr><tr><td>dbfs:/databricks-datasets/structured-streaming/events/file-28.json</td><td>file-28.json</td><td>73005</td><td>1469673899000</td></tr><tr><td>dbfs:/databricks-datasets/structured-streaming/events/file-29.json</td><td>file-29.json</td><td>72977</td><td>1469673900000</td></tr><tr><td>dbfs:/databricks-datasets/structured-streaming/events/file-3.json</td><td>file-3.json</td><td>72996</td><td>1469673869000</td></tr><tr><td>dbfs:/databricks-datasets/structured-streaming/events/file-30.json</td><td>file-30.json</td><td>73009</td><td>1469673902000</td></tr><tr><td>dbfs:/databricks-datasets/structured-streaming/events/file-31.json</td><td>file-31.json</td><td>73008</td><td>1469673903000</td></tr><tr><td>dbfs:/databricks-datasets/structured-streaming/events/file-32.json</td><td>file-32.json</td><td>72982</td><td>1469673904000</td></tr><tr><td>dbfs:/databricks-datasets/structured-streaming/events/file-33.json</td><td>file-33.json</td><td>73033</td><td>1469673905000</td></tr><tr><td>dbfs:/databricks-datasets/structured-streaming/events/file-34.json</td><td>file-34.json</td><td>72985</td><td>1469673907000</td></tr><tr><td>dbfs:/databricks-datasets/structured-streaming/events/file-35.json</td><td>file-35.json</td><td>72974</td><td>1469673908000</td></tr><tr><td>dbfs:/databricks-datasets/structured-streaming/events/file-36.json</td><td>file-36.json</td><td>73013</td><td>1469673909000</td></tr><tr><td>dbfs:/databricks-datasets/structured-streaming/events/file-37.json</td><td>file-37.json</td><td>72989</td><td>1469673910000</td></tr><tr><td>dbfs:/databricks-datasets/structured-streaming/events/file-38.json</td><td>file-38.json</td><td>72999</td><td>1469673911000</td></tr><tr><td>dbfs:/databricks-datasets/structured-streaming/events/file-39.json</td><td>file-39.json</td><td>73013</td><td>1469673913000</td></tr><tr><td>dbfs:/databricks-datasets/structured-streaming/events/file-4.json</td><td>file-4.json</td><td>72992</td><td>1469673870000</td></tr><tr><td>dbfs:/databricks-datasets/structured-streaming/events/file-40.json</td><td>file-40.json</td><td>72986</td><td>1469673914000</td></tr><tr><td>dbfs:/databricks-datasets/structured-streaming/events/file-41.json</td><td>file-41.json</td><td>73019</td><td>1469673915000</td></tr><tr><td>dbfs:/databricks-datasets/structured-streaming/events/file-42.json</td><td>file-42.json</td><td>72986</td><td>1469673916000</td></tr><tr><td>dbfs:/databricks-datasets/structured-streaming/events/file-43.json</td><td>file-43.json</td><td>72990</td><td>1469673918000</td></tr><tr><td>dbfs:/databricks-datasets/structured-streaming/events/file-44.json</td><td>file-44.json</td><td>73018</td><td>1469673919000</td></tr><tr><td>dbfs:/databricks-datasets/structured-streaming/events/file-45.json</td><td>file-45.json</td><td>72997</td><td>1469673921000</td></tr><tr><td>dbfs:/databricks-datasets/structured-streaming/events/file-46.json</td><td>file-46.json</td><td>72991</td><td>1469673922000</td></tr><tr><td>dbfs:/databricks-datasets/structured-streaming/events/file-47.json</td><td>file-47.json</td><td>73009</td><td>1469673923000</td></tr><tr><td>dbfs:/databricks-datasets/structured-streaming/events/file-48.json</td><td>file-48.json</td><td>72993</td><td>1469673924000</td></tr><tr><td>dbfs:/databricks-datasets/structured-streaming/events/file-49.json</td><td>file-49.json</td><td>73496</td><td>1469673926000</td></tr><tr><td>dbfs:/databricks-datasets/structured-streaming/events/file-5.json</td><td>file-5.json</td><td>72998</td><td>1469673871000</td></tr><tr><td>dbfs:/databricks-datasets/structured-streaming/events/file-6.json</td><td>file-6.json</td><td>72997</td><td>1469673873000</td></tr><tr><td>dbfs:/databricks-datasets/structured-streaming/events/file-7.json</td><td>file-7.json</td><td>73022</td><td>1469673874000</td></tr><tr><td>dbfs:/databricks-datasets/structured-streaming/events/file-8.json</td><td>file-8.json</td><td>72997</td><td>1469673875000</td></tr><tr><td>dbfs:/databricks-datasets/structured-streaming/events/file-9.json</td><td>file-9.json</td><td>72970</td><td>1469673876000</td></tr></tbody></table></div>"
      ]
     },
     "metadata": {
      "application/vnd.databricks.v1+output": {
       "addedWidgets": {},
       "aggData": [],
       "aggError": "",
       "aggOverflow": false,
       "aggSchema": [],
       "aggSeriesLimitReached": false,
       "aggType": "",
       "arguments": {},
       "columnCustomDisplayInfos": {},
       "data": [
        [
         "dbfs:/databricks-datasets/structured-streaming/events/file-0.json",
         "file-0.json",
         72530,
         1469673865000
        ],
        [
         "dbfs:/databricks-datasets/structured-streaming/events/file-1.json",
         "file-1.json",
         72961,
         1469673866000
        ],
        [
         "dbfs:/databricks-datasets/structured-streaming/events/file-10.json",
         "file-10.json",
         73025,
         1469673878000
        ],
        [
         "dbfs:/databricks-datasets/structured-streaming/events/file-11.json",
         "file-11.json",
         72999,
         1469673879000
        ],
        [
         "dbfs:/databricks-datasets/structured-streaming/events/file-12.json",
         "file-12.json",
         72987,
         1469673880000
        ],
        [
         "dbfs:/databricks-datasets/structured-streaming/events/file-13.json",
         "file-13.json",
         73006,
         1469673881000
        ],
        [
         "dbfs:/databricks-datasets/structured-streaming/events/file-14.json",
         "file-14.json",
         73003,
         1469673882000
        ],
        [
         "dbfs:/databricks-datasets/structured-streaming/events/file-15.json",
         "file-15.json",
         73007,
         1469673883000
        ],
        [
         "dbfs:/databricks-datasets/structured-streaming/events/file-16.json",
         "file-16.json",
         72978,
         1469673885000
        ],
        [
         "dbfs:/databricks-datasets/structured-streaming/events/file-17.json",
         "file-17.json",
         73008,
         1469673886000
        ],
        [
         "dbfs:/databricks-datasets/structured-streaming/events/file-18.json",
         "file-18.json",
         73002,
         1469673887000
        ],
        [
         "dbfs:/databricks-datasets/structured-streaming/events/file-19.json",
         "file-19.json",
         73014,
         1469673888000
        ],
        [
         "dbfs:/databricks-datasets/structured-streaming/events/file-2.json",
         "file-2.json",
         73007,
         1469673868000
        ],
        [
         "dbfs:/databricks-datasets/structured-streaming/events/file-20.json",
         "file-20.json",
         72987,
         1469673889000
        ],
        [
         "dbfs:/databricks-datasets/structured-streaming/events/file-21.json",
         "file-21.json",
         72983,
         1469673891000
        ],
        [
         "dbfs:/databricks-datasets/structured-streaming/events/file-22.json",
         "file-22.json",
         73009,
         1469673892000
        ],
        [
         "dbfs:/databricks-datasets/structured-streaming/events/file-23.json",
         "file-23.json",
         72985,
         1469673893000
        ],
        [
         "dbfs:/databricks-datasets/structured-streaming/events/file-24.json",
         "file-24.json",
         73020,
         1469673894000
        ],
        [
         "dbfs:/databricks-datasets/structured-streaming/events/file-25.json",
         "file-25.json",
         72980,
         1469673895000
        ],
        [
         "dbfs:/databricks-datasets/structured-streaming/events/file-26.json",
         "file-26.json",
         73002,
         1469673897000
        ],
        [
         "dbfs:/databricks-datasets/structured-streaming/events/file-27.json",
         "file-27.json",
         73013,
         1469673898000
        ],
        [
         "dbfs:/databricks-datasets/structured-streaming/events/file-28.json",
         "file-28.json",
         73005,
         1469673899000
        ],
        [
         "dbfs:/databricks-datasets/structured-streaming/events/file-29.json",
         "file-29.json",
         72977,
         1469673900000
        ],
        [
         "dbfs:/databricks-datasets/structured-streaming/events/file-3.json",
         "file-3.json",
         72996,
         1469673869000
        ],
        [
         "dbfs:/databricks-datasets/structured-streaming/events/file-30.json",
         "file-30.json",
         73009,
         1469673902000
        ],
        [
         "dbfs:/databricks-datasets/structured-streaming/events/file-31.json",
         "file-31.json",
         73008,
         1469673903000
        ],
        [
         "dbfs:/databricks-datasets/structured-streaming/events/file-32.json",
         "file-32.json",
         72982,
         1469673904000
        ],
        [
         "dbfs:/databricks-datasets/structured-streaming/events/file-33.json",
         "file-33.json",
         73033,
         1469673905000
        ],
        [
         "dbfs:/databricks-datasets/structured-streaming/events/file-34.json",
         "file-34.json",
         72985,
         1469673907000
        ],
        [
         "dbfs:/databricks-datasets/structured-streaming/events/file-35.json",
         "file-35.json",
         72974,
         1469673908000
        ],
        [
         "dbfs:/databricks-datasets/structured-streaming/events/file-36.json",
         "file-36.json",
         73013,
         1469673909000
        ],
        [
         "dbfs:/databricks-datasets/structured-streaming/events/file-37.json",
         "file-37.json",
         72989,
         1469673910000
        ],
        [
         "dbfs:/databricks-datasets/structured-streaming/events/file-38.json",
         "file-38.json",
         72999,
         1469673911000
        ],
        [
         "dbfs:/databricks-datasets/structured-streaming/events/file-39.json",
         "file-39.json",
         73013,
         1469673913000
        ],
        [
         "dbfs:/databricks-datasets/structured-streaming/events/file-4.json",
         "file-4.json",
         72992,
         1469673870000
        ],
        [
         "dbfs:/databricks-datasets/structured-streaming/events/file-40.json",
         "file-40.json",
         72986,
         1469673914000
        ],
        [
         "dbfs:/databricks-datasets/structured-streaming/events/file-41.json",
         "file-41.json",
         73019,
         1469673915000
        ],
        [
         "dbfs:/databricks-datasets/structured-streaming/events/file-42.json",
         "file-42.json",
         72986,
         1469673916000
        ],
        [
         "dbfs:/databricks-datasets/structured-streaming/events/file-43.json",
         "file-43.json",
         72990,
         1469673918000
        ],
        [
         "dbfs:/databricks-datasets/structured-streaming/events/file-44.json",
         "file-44.json",
         73018,
         1469673919000
        ],
        [
         "dbfs:/databricks-datasets/structured-streaming/events/file-45.json",
         "file-45.json",
         72997,
         1469673921000
        ],
        [
         "dbfs:/databricks-datasets/structured-streaming/events/file-46.json",
         "file-46.json",
         72991,
         1469673922000
        ],
        [
         "dbfs:/databricks-datasets/structured-streaming/events/file-47.json",
         "file-47.json",
         73009,
         1469673923000
        ],
        [
         "dbfs:/databricks-datasets/structured-streaming/events/file-48.json",
         "file-48.json",
         72993,
         1469673924000
        ],
        [
         "dbfs:/databricks-datasets/structured-streaming/events/file-49.json",
         "file-49.json",
         73496,
         1469673926000
        ],
        [
         "dbfs:/databricks-datasets/structured-streaming/events/file-5.json",
         "file-5.json",
         72998,
         1469673871000
        ],
        [
         "dbfs:/databricks-datasets/structured-streaming/events/file-6.json",
         "file-6.json",
         72997,
         1469673873000
        ],
        [
         "dbfs:/databricks-datasets/structured-streaming/events/file-7.json",
         "file-7.json",
         73022,
         1469673874000
        ],
        [
         "dbfs:/databricks-datasets/structured-streaming/events/file-8.json",
         "file-8.json",
         72997,
         1469673875000
        ],
        [
         "dbfs:/databricks-datasets/structured-streaming/events/file-9.json",
         "file-9.json",
         72970,
         1469673876000
        ]
       ],
       "datasetInfos": [],
       "dbfsResultPath": null,
       "isJsonSchema": true,
       "metadata": {
        "isDbfsCommandResult": false
       },
       "overflow": false,
       "plotOptions": {
        "customPlotOptions": {},
        "displayType": "table",
        "pivotAggregation": null,
        "pivotColumns": null,
        "xColumns": null,
        "yColumns": null
       },
       "removedWidgets": [],
       "schema": [
        {
         "metadata": "{}",
         "name": "path",
         "type": "\"string\""
        },
        {
         "metadata": "{}",
         "name": "name",
         "type": "\"string\""
        },
        {
         "metadata": "{}",
         "name": "size",
         "type": "\"long\""
        },
        {
         "metadata": "{}",
         "name": "modificationTime",
         "type": "\"long\""
        }
       ],
       "type": "table"
      }
     },
     "output_type": "display_data"
    }
   ],
   "source": [
    "%fs ls /databricks-datasets/structured-streaming/events/"
   ]
  },
  {
   "cell_type": "code",
   "execution_count": 0,
   "metadata": {
    "application/vnd.databricks.v1+cell": {
     "cellMetadata": {
      "byteLimit": 2048000,
      "rowLimit": 10000
     },
     "inputWidgets": {},
     "nuid": "5871f71e-47ad-4d0a-a461-0341be9b18ae",
     "showTitle": false,
     "tableResultSettingsMap": {},
     "title": ""
    }
   },
   "outputs": [
    {
     "output_type": "stream",
     "name": "stdout",
     "output_type": "stream",
     "text": [
      "+------+----------+\n|action|      time|\n+------+----------+\n|  Open|1469501107|\n|  Open|1469501147|\n|  Open|1469501202|\n|  Open|1469501219|\n|  Open|1469501225|\n|  Open|1469501234|\n|  Open|1469501245|\n|  Open|1469501246|\n|  Open|1469501248|\n|  Open|1469501256|\n+------+----------+\nonly showing top 10 rows\n\n"
     ]
    }
   ],
   "source": [
    "#%fs head /databricks-datasets/structured-streaming/events/file-0.json\n",
    "df = spark.read.json(\"/databricks-datasets/structured-streaming/events/file-0.json\")\n",
    "df.show(10)"
   ]
  },
  {
   "cell_type": "markdown",
   "metadata": {
    "application/vnd.databricks.v1+cell": {
     "cellMetadata": {
      "byteLimit": 2048000,
      "rowLimit": 10000
     },
     "inputWidgets": {},
     "nuid": "91603400-03b6-4cbd-9649-f287bccd1944",
     "showTitle": false,
     "tableResultSettingsMap": {},
     "title": ""
    }
   },
   "source": [
    "* Stwórz osobny folder 'streamDir' do którego będziesz kopiować część plików. możesz użyć dbutils....\n",
    "* Pozostałe pliki będziesz kopiować jak stream będzie aktywny"
   ]
  },
  {
   "cell_type": "code",
   "execution_count": 0,
   "metadata": {
    "application/vnd.databricks.v1+cell": {
     "cellMetadata": {
      "byteLimit": 2048000,
      "rowLimit": 10000
     },
     "inputWidgets": {},
     "nuid": "19cc2f21-b917-47af-ba2a-144691afa405",
     "showTitle": false,
     "tableResultSettingsMap": {},
     "title": ""
    }
   },
   "outputs": [
    {
     "output_type": "stream",
     "name": "stdout",
     "output_type": "stream",
     "text": [
      "Out[17]: False"
     ]
    }
   ],
   "source": [
    "from pyspark.sql.functions import input_file_name\n",
    "from pyspark.sql import SparkSession\n",
    "\n",
    "file_path = \"/dbfs/FileStore/streamDir/\"\n",
    "username = spark.sql(\"SELECT regexp_replace(current_user(), '[^a-zA-Z0-9]', '_')\").first()[0]\n",
    "table_name = f\"{username}_etl_autoloader_test\"\n",
    "checkpoint_path = f\"/tmp/{username}/_checkpoint/etl_autoloader_test\"\n",
    "\n",
    "dbutils.fs.mkdirs(file_path)\n",
    "\n",
    "spark.sql(f\"DROP TABLE IF EXISTS {table_name}\")\n",
    "dbutils.fs.rm(checkpoint_path, True)\n",
    "dbutils.fs.rm(f\"dbfs:/user/hive/warehouse/{table_name}\", True)\n"
   ]
  },
  {
   "cell_type": "code",
   "execution_count": 0,
   "metadata": {
    "application/vnd.databricks.v1+cell": {
     "cellMetadata": {
      "byteLimit": 2048000,
      "rowLimit": 10000
     },
     "inputWidgets": {},
     "nuid": "f6ba701a-5259-4656-87bd-fe859ba04529",
     "showTitle": false,
     "tableResultSettingsMap": {},
     "title": ""
    }
   },
   "outputs": [
    {
     "output_type": "display_data",
     "data": {
      "text/html": [
       "<style scoped>\n",
       "  .table-result-container {\n",
       "    max-height: 300px;\n",
       "    overflow: auto;\n",
       "  }\n",
       "  table, th, td {\n",
       "    border: 1px solid black;\n",
       "    border-collapse: collapse;\n",
       "  }\n",
       "  th, td {\n",
       "    padding: 5px;\n",
       "  }\n",
       "  th {\n",
       "    text-align: left;\n",
       "  }\n",
       "</style><div class='table-result-container'><table class='table-result'><thead style='background-color: white'><tr><th>path</th><th>name</th><th>size</th><th>modificationTime</th></tr></thead><tbody><tr><td>dbfs:/dbfs/FileStore/streamDir/file-0.json</td><td>file-0.json</td><td>72530</td><td>1744873809000</td></tr><tr><td>dbfs:/dbfs/FileStore/streamDir/file-1.json</td><td>file-1.json</td><td>72961</td><td>1744873809000</td></tr><tr><td>dbfs:/dbfs/FileStore/streamDir/file-2.json</td><td>file-2.json</td><td>73007</td><td>1744873810000</td></tr><tr><td>dbfs:/dbfs/FileStore/streamDir/file-3.json</td><td>file-3.json</td><td>72996</td><td>1744873810000</td></tr><tr><td>dbfs:/dbfs/FileStore/streamDir/file-4.json</td><td>file-4.json</td><td>72992</td><td>1744873811000</td></tr><tr><td>dbfs:/dbfs/FileStore/streamDir/file-5.json</td><td>file-5.json</td><td>72998</td><td>1744873811000</td></tr><tr><td>dbfs:/dbfs/FileStore/streamDir/file-6.json</td><td>file-6.json</td><td>72997</td><td>1744873812000</td></tr><tr><td>dbfs:/dbfs/FileStore/streamDir/file-7.json</td><td>file-7.json</td><td>73022</td><td>1744873812000</td></tr><tr><td>dbfs:/dbfs/FileStore/streamDir/file-8.json</td><td>file-8.json</td><td>72997</td><td>1744873813000</td></tr><tr><td>dbfs:/dbfs/FileStore/streamDir/file-9.json</td><td>file-9.json</td><td>72970</td><td>1744873813000</td></tr></tbody></table></div>"
      ]
     },
     "metadata": {
      "application/vnd.databricks.v1+output": {
       "addedWidgets": {},
       "aggData": [],
       "aggError": "",
       "aggOverflow": false,
       "aggSchema": [],
       "aggSeriesLimitReached": false,
       "aggType": "",
       "arguments": {},
       "columnCustomDisplayInfos": {},
       "data": [
        [
         "dbfs:/dbfs/FileStore/streamDir/file-0.json",
         "file-0.json",
         72530,
         1744873809000
        ],
        [
         "dbfs:/dbfs/FileStore/streamDir/file-1.json",
         "file-1.json",
         72961,
         1744873809000
        ],
        [
         "dbfs:/dbfs/FileStore/streamDir/file-2.json",
         "file-2.json",
         73007,
         1744873810000
        ],
        [
         "dbfs:/dbfs/FileStore/streamDir/file-3.json",
         "file-3.json",
         72996,
         1744873810000
        ],
        [
         "dbfs:/dbfs/FileStore/streamDir/file-4.json",
         "file-4.json",
         72992,
         1744873811000
        ],
        [
         "dbfs:/dbfs/FileStore/streamDir/file-5.json",
         "file-5.json",
         72998,
         1744873811000
        ],
        [
         "dbfs:/dbfs/FileStore/streamDir/file-6.json",
         "file-6.json",
         72997,
         1744873812000
        ],
        [
         "dbfs:/dbfs/FileStore/streamDir/file-7.json",
         "file-7.json",
         73022,
         1744873812000
        ],
        [
         "dbfs:/dbfs/FileStore/streamDir/file-8.json",
         "file-8.json",
         72997,
         1744873813000
        ],
        [
         "dbfs:/dbfs/FileStore/streamDir/file-9.json",
         "file-9.json",
         72970,
         1744873813000
        ]
       ],
       "datasetInfos": [],
       "dbfsResultPath": null,
       "isJsonSchema": true,
       "metadata": {},
       "overflow": false,
       "plotOptions": {
        "customPlotOptions": {},
        "displayType": "table",
        "pivotAggregation": null,
        "pivotColumns": null,
        "xColumns": null,
        "yColumns": null
       },
       "removedWidgets": [],
       "schema": [
        {
         "metadata": "{}",
         "name": "path",
         "type": "\"string\""
        },
        {
         "metadata": "{}",
         "name": "name",
         "type": "\"string\""
        },
        {
         "metadata": "{}",
         "name": "size",
         "type": "\"long\""
        },
        {
         "metadata": "{}",
         "name": "modificationTime",
         "type": "\"long\""
        }
       ],
       "type": "table"
      }
     },
     "output_type": "display_data"
    }
   ],
   "source": [
    "streamDir = \"/dbfs/FileStore/streamDir/\"\n",
    "dbutils.fs.mkdirs(streamDir)\n",
    "\n",
    "for i in range(10):\n",
    "  dbutils.fs.cp(f\"/databricks-datasets/structured-streaming/events/file-{i}.json\", f\"{streamDir}file-{i}.json\", True)\n",
    "\n",
    "display(dbutils.fs.ls(streamDir))\n",
    "\n",
    "file_path = streamDir"
   ]
  },
  {
   "cell_type": "markdown",
   "metadata": {
    "application/vnd.databricks.v1+cell": {
     "cellMetadata": {
      "byteLimit": 2048000,
      "rowLimit": 10000
     },
     "inputWidgets": {},
     "nuid": "982739f5-b8fe-4ef5-94a7-a37f89b69f57",
     "showTitle": false,
     "tableResultSettingsMap": {},
     "title": ""
    }
   },
   "source": [
    "## Analiza danych/Statyczny DF\n",
    "* Stwórz schemat danych i wyświetl zawartość danych z oginalnego folderu"
   ]
  },
  {
   "cell_type": "code",
   "execution_count": 0,
   "metadata": {
    "application/vnd.databricks.v1+cell": {
     "cellMetadata": {
      "byteLimit": 2048000,
      "rowLimit": 10000
     },
     "inputWidgets": {},
     "nuid": "b7daac9d-d95d-4e03-b40b-c2595750c532",
     "showTitle": false,
     "tableResultSettingsMap": {},
     "title": ""
    }
   },
   "outputs": [
    {
     "output_type": "display_data",
     "data": {
      "text/html": [
       "<style scoped>\n",
       "  .table-result-container {\n",
       "    max-height: 300px;\n",
       "    overflow: auto;\n",
       "  }\n",
       "  table, th, td {\n",
       "    border: 1px solid black;\n",
       "    border-collapse: collapse;\n",
       "  }\n",
       "  th, td {\n",
       "    padding: 5px;\n",
       "  }\n",
       "  th {\n",
       "    text-align: left;\n",
       "  }\n",
       "</style><div class='table-result-container'><table class='table-result'><thead style='background-color: white'><tr><th>time</th><th>action</th><th>device</th></tr></thead><tbody><tr><td>1469679568</td><td>Close</td><td>null</td></tr><tr><td>1469679568</td><td>Close</td><td>null</td></tr><tr><td>1469679569</td><td>Open</td><td>null</td></tr><tr><td>1469679571</td><td>Close</td><td>null</td></tr><tr><td>1469679571</td><td>Open</td><td>null</td></tr><tr><td>1469679571</td><td>Open</td><td>null</td></tr><tr><td>1469679572</td><td>Close</td><td>null</td></tr><tr><td>1469679573</td><td>Close</td><td>null</td></tr><tr><td>1469679575</td><td>Close</td><td>null</td></tr><tr><td>1469679576</td><td>Open</td><td>null</td></tr></tbody></table></div>"
      ]
     },
     "metadata": {
      "application/vnd.databricks.v1+output": {
       "addedWidgets": {},
       "aggData": [],
       "aggError": "",
       "aggOverflow": false,
       "aggSchema": [],
       "aggSeriesLimitReached": false,
       "aggType": "",
       "arguments": {},
       "columnCustomDisplayInfos": {},
       "data": [
        [
         "1469679568",
         "Close",
         null
        ],
        [
         "1469679568",
         "Close",
         null
        ],
        [
         "1469679569",
         "Open",
         null
        ],
        [
         "1469679571",
         "Close",
         null
        ],
        [
         "1469679571",
         "Open",
         null
        ],
        [
         "1469679571",
         "Open",
         null
        ],
        [
         "1469679572",
         "Close",
         null
        ],
        [
         "1469679573",
         "Close",
         null
        ],
        [
         "1469679575",
         "Close",
         null
        ],
        [
         "1469679576",
         "Open",
         null
        ]
       ],
       "datasetInfos": [],
       "dbfsResultPath": null,
       "isJsonSchema": true,
       "metadata": {},
       "overflow": false,
       "plotOptions": {
        "customPlotOptions": {},
        "displayType": "table",
        "pivotAggregation": null,
        "pivotColumns": null,
        "xColumns": null,
        "yColumns": null
       },
       "removedWidgets": [],
       "schema": [
        {
         "metadata": "{}",
         "name": "time",
         "type": "\"string\""
        },
        {
         "metadata": "{}",
         "name": "action",
         "type": "\"string\""
        },
        {
         "metadata": "{}",
         "name": "device",
         "type": "\"string\""
        }
       ],
       "type": "table"
      }
     },
     "output_type": "display_data"
    },
    {
     "output_type": "display_data",
     "data": {
      "text/plain": [
       "Databricks data profile. Run in Databricks to view."
      ]
     },
     "metadata": {
      "application/vnd.databricks.v1.subcommand+json": {
       "baseErrorDetails": null,
       "bindings": {},
       "collapsed": false,
       "command": "%python\nif hasattr(dbutils, \"data\") and hasattr(dbutils.data, \"summarize\"):\n  # setup\n  __data_summary_display_orig = display\n  __data_summary_dfs = []\n  def __data_summary_display_new(df):\n    # add only when result is going to be table type\n    __data_summary_df_modules = [\"pandas.core.frame\", \"databricks.koalas.frame\", \"pyspark.sql.dataframe\", \"pyspark.pandas.frame\", \"pyspark.sql.connect.dataframe\"]\n    if (type(df).__module__ in __data_summary_df_modules and type(df).__name__ == 'DataFrame') or isinstance(df, list):\n      __data_summary_dfs.append(df)\n  display = __data_summary_display_new\n\n  def __data_summary_user_code_fn():\n    import base64\n    exec(base64.standard_b64decode(\"ZnJvbSBweXNwYXJrLnNxbC50eXBlcyBpbXBvcnQgU3RydWN0VHlwZSwgU3RyaW5nVHlwZSwgVGltZXN0YW1wVHlwZQpmcm9tIHB5c3Bhcmsuc3FsIGltcG9ydCBTcGFya1Nlc3Npb24KCmlucHV0X3BhdGggPSAiL2RhdGFicmlja3MtZGF0YXNldHMvc3RydWN0dXJlZC1zdHJlYW1pbmcvZXZlbnRzLyIKCgpqc29uX3NjaGVtYSA9IChTdHJ1Y3RUeXBlKCkKICAgIC5hZGQoInRpbWUiLCBTdHJpbmdUeXBlKCkpCiAgICAuYWRkKCJhY3Rpb24iLCBTdHJpbmdUeXBlKCkpCiAgICAuYWRkKCJkZXZpY2UiLCBTdHJpbmdUeXBlKCkpKQoKc3RhdGljX2lucHV0X2RmID0gc3BhcmsucmVhZC5zY2hlbWEoanNvbl9zY2hlbWEpLmpzb24oaW5wdXRfcGF0aCkKCmRpc3BsYXkoc3RhdGljX2lucHV0X2RmKQo=\").decode())\n\n  try:\n    # run user code\n    __data_summary_user_code_fn()\n\n    # run on valid tableResultIndex\n    if len(__data_summary_dfs) > 0:\n      # run summarize\n      if type(__data_summary_dfs[0]).__module__ == \"databricks.koalas.frame\":\n        # koalas dataframe\n        dbutils.data.summarize(__data_summary_dfs[0].to_spark())\n      elif type(__data_summary_dfs[0]).__module__ == \"pandas.core.frame\":\n        # pandas dataframe\n        dbutils.data.summarize(spark.createDataFrame(__data_summary_dfs[0]))\n      else:\n        dbutils.data.summarize(__data_summary_dfs[0])\n    else:\n        displayHTML(\"dataframe no longer exists. If you're using dataframe.display(), use display(dataframe) instead.\")\n\n  finally:\n    display = __data_summary_display_orig\n    del __data_summary_display_new\n    del __data_summary_display_orig\n    del __data_summary_dfs\n    del __data_summary_user_code_fn\nelse:\n  print(\"This DBR version does not support data profiles.\")",
       "commandTitle": "",
       "commandType": "auto",
       "commandVersion": 0,
       "commentThread": [],
       "commentsVisible": false,
       "contentSha256Hex": null,
       "customPlotOptions": {},
       "datasetPreviewNameToCmdIdMap": {},
       "diffDeletes": [],
       "diffInserts": [],
       "displayType": "table",
       "error": null,
       "errorDetails": null,
       "errorSummary": "Command skipped",
       "errorTraceType": "html",
       "finishTime": 0,
       "globalVars": {},
       "guid": "",
       "height": "auto",
       "hideCommandCode": false,
       "hideCommandResult": false,
       "iPythonMetadata": null,
       "inputWidgets": {},
       "isLockedInExamMode": false,
       "latestUser": "a user",
       "latestUserId": null,
       "listResultMetadata": null,
       "metadata": {
        "byteLimit": 2048000,
        "rowLimit": 10000
       },
       "nuid": "46df5590-6e15-4496-8539-62505c7d09e2",
       "origId": 0,
       "parentHierarchy": [],
       "pivotAggregation": null,
       "pivotColumns": null,
       "position": 0.0,
       "resultDbfsErrorMessage": null,
       "resultDbfsStatus": "INLINED_IN_TREE",
       "results": null,
       "showCommandTitle": false,
       "startTime": 0,
       "state": "error",
       "streamStates": {},
       "subcommandOptions": null,
       "submitTime": 1744873171346,
       "subtype": "tableResultSubCmd.dataSummary",
       "tableResultIndex": 0,
       "tableResultSettingsMap": {},
       "useConsistentColors": false,
       "version": "CommandV1",
       "width": "auto",
       "workflows": [],
       "xColumns": null,
       "yColumns": null
      }
     },
     "output_type": "display_data"
    }
   ],
   "source": [
    "from pyspark.sql.types import StructType, StringType, TimestampType\n",
    "from pyspark.sql import SparkSession\n",
    "\n",
    "input_path = \"/databricks-datasets/structured-streaming/events/\"\n",
    "\n",
    "\n",
    "json_schema = (StructType()\n",
    "    .add(\"time\", StringType())\n",
    "    .add(\"action\", StringType())\n",
    "    .add(\"device\", StringType()))\n",
    "\n",
    "static_input_df = spark.read.schema(json_schema).json(input_path)\n",
    "\n",
    "display(static_input_df.limit(10))\n"
   ]
  },
  {
   "cell_type": "markdown",
   "metadata": {
    "application/vnd.databricks.v1+cell": {
     "cellMetadata": {
      "byteLimit": 2048000,
      "rowLimit": 10000
     },
     "inputWidgets": {},
     "nuid": "ae7ef321-8cff-4566-9fe0-37949faa1cde",
     "showTitle": false,
     "tableResultSettingsMap": {},
     "title": ""
    }
   },
   "source": [
    "Policz ilość akcji \"open\" i \"close\" w okienku (window) jedno godzinnym (kompletny folder). "
   ]
  },
  {
   "cell_type": "code",
   "execution_count": 0,
   "metadata": {
    "application/vnd.databricks.v1+cell": {
     "cellMetadata": {
      "byteLimit": 2048000,
      "rowLimit": 10000
     },
     "inputWidgets": {},
     "nuid": "5c743fb7-3873-419a-abb3-32930d3c9113",
     "showTitle": false,
     "tableResultSettingsMap": {},
     "title": ""
    }
   },
   "outputs": [
    {
     "output_type": "display_data",
     "data": {
      "text/html": [
       "<style scoped>\n",
       "  .table-result-container {\n",
       "    max-height: 300px;\n",
       "    overflow: auto;\n",
       "  }\n",
       "  table, th, td {\n",
       "    border: 1px solid black;\n",
       "    border-collapse: collapse;\n",
       "  }\n",
       "  th, td {\n",
       "    padding: 5px;\n",
       "  }\n",
       "  th {\n",
       "    text-align: left;\n",
       "  }\n",
       "</style><div class='table-result-container'><table class='table-result'><thead style='background-color: white'><tr><th>window</th><th>action</th><th>count</th></tr></thead><tbody><tr><td>List(2016-07-26T02:00:00.000+0000, 2016-07-26T03:00:00.000+0000)</td><td>Open</td><td>179</td></tr><tr><td>List(2016-07-26T02:00:00.000+0000, 2016-07-26T03:00:00.000+0000)</td><td>Close</td><td>11</td></tr><tr><td>List(2016-07-26T03:00:00.000+0000, 2016-07-26T04:00:00.000+0000)</td><td>Open</td><td>1001</td></tr><tr><td>List(2016-07-26T03:00:00.000+0000, 2016-07-26T04:00:00.000+0000)</td><td>Close</td><td>344</td></tr><tr><td>List(2016-07-26T04:00:00.000+0000, 2016-07-26T05:00:00.000+0000)</td><td>Open</td><td>999</td></tr><tr><td>List(2016-07-26T04:00:00.000+0000, 2016-07-26T05:00:00.000+0000)</td><td>Close</td><td>815</td></tr><tr><td>List(2016-07-26T05:00:00.000+0000, 2016-07-26T06:00:00.000+0000)</td><td>Close</td><td>1003</td></tr><tr><td>List(2016-07-26T05:00:00.000+0000, 2016-07-26T06:00:00.000+0000)</td><td>Open</td><td>1000</td></tr><tr><td>List(2016-07-26T06:00:00.000+0000, 2016-07-26T07:00:00.000+0000)</td><td>Close</td><td>1011</td></tr><tr><td>List(2016-07-26T06:00:00.000+0000, 2016-07-26T07:00:00.000+0000)</td><td>Open</td><td>993</td></tr></tbody></table></div>"
      ]
     },
     "metadata": {
      "application/vnd.databricks.v1+output": {
       "addedWidgets": {},
       "aggData": [],
       "aggError": "",
       "aggOverflow": false,
       "aggSchema": [],
       "aggSeriesLimitReached": false,
       "aggType": "",
       "arguments": {},
       "columnCustomDisplayInfos": {},
       "data": [
        [
         [
          "2016-07-26T02:00:00.000+0000",
          "2016-07-26T03:00:00.000+0000"
         ],
         "Open",
         179
        ],
        [
         [
          "2016-07-26T02:00:00.000+0000",
          "2016-07-26T03:00:00.000+0000"
         ],
         "Close",
         11
        ],
        [
         [
          "2016-07-26T03:00:00.000+0000",
          "2016-07-26T04:00:00.000+0000"
         ],
         "Open",
         1001
        ],
        [
         [
          "2016-07-26T03:00:00.000+0000",
          "2016-07-26T04:00:00.000+0000"
         ],
         "Close",
         344
        ],
        [
         [
          "2016-07-26T04:00:00.000+0000",
          "2016-07-26T05:00:00.000+0000"
         ],
         "Open",
         999
        ],
        [
         [
          "2016-07-26T04:00:00.000+0000",
          "2016-07-26T05:00:00.000+0000"
         ],
         "Close",
         815
        ],
        [
         [
          "2016-07-26T05:00:00.000+0000",
          "2016-07-26T06:00:00.000+0000"
         ],
         "Close",
         1003
        ],
        [
         [
          "2016-07-26T05:00:00.000+0000",
          "2016-07-26T06:00:00.000+0000"
         ],
         "Open",
         1000
        ],
        [
         [
          "2016-07-26T06:00:00.000+0000",
          "2016-07-26T07:00:00.000+0000"
         ],
         "Close",
         1011
        ],
        [
         [
          "2016-07-26T06:00:00.000+0000",
          "2016-07-26T07:00:00.000+0000"
         ],
         "Open",
         993
        ]
       ],
       "datasetInfos": [],
       "dbfsResultPath": null,
       "isJsonSchema": true,
       "metadata": {},
       "overflow": false,
       "plotOptions": {
        "customPlotOptions": {},
        "displayType": "table",
        "pivotAggregation": null,
        "pivotColumns": null,
        "xColumns": null,
        "yColumns": null
       },
       "removedWidgets": [],
       "schema": [
        {
         "metadata": "{\"spark.timeWindow\":true}",
         "name": "window",
         "type": "{\"type\":\"struct\",\"fields\":[{\"name\":\"start\",\"type\":\"timestamp\",\"nullable\":true,\"metadata\":{}},{\"name\":\"end\",\"type\":\"timestamp\",\"nullable\":true,\"metadata\":{}}]}"
        },
        {
         "metadata": "{}",
         "name": "action",
         "type": "\"string\""
        },
        {
         "metadata": "{}",
         "name": "count",
         "type": "\"long\""
        }
       ],
       "type": "table"
      }
     },
     "output_type": "display_data"
    }
   ],
   "source": [
    "from pyspark.sql.functions import window, col, to_timestamp, from_unixtime\n",
    "\n",
    "df_with_timestamp = static_input_df.withColumn(\n",
    "    \"event_time\", to_timestamp(from_unixtime(col(\"time\").cast(\"long\")))\n",
    ")\n",
    "\n",
    "agg_df = (df_with_timestamp\n",
    "          .groupBy(window(col(\"event_time\"), \"1 hour\"), col(\"action\"))\n",
    "          .count()\n",
    "          .orderBy(\"window\")\n",
    "         )\n",
    "\n",
    "display(agg_df.limit(10))"
   ]
  },
  {
   "cell_type": "markdown",
   "metadata": {
    "application/vnd.databricks.v1+cell": {
     "cellMetadata": {
      "byteLimit": 2048000,
      "rowLimit": 10000
     },
     "inputWidgets": {},
     "nuid": "3dcab722-a1c1-4460-aee5-ae2136e85cdb",
     "showTitle": false,
     "tableResultSettingsMap": {},
     "title": ""
    }
   },
   "source": [
    "Użyj sql i pokaż na wykresie ile było akcji 'open' a ile 'close'."
   ]
  },
  {
   "cell_type": "code",
   "execution_count": 0,
   "metadata": {
    "application/vnd.databricks.v1+cell": {
     "cellMetadata": {
      "byteLimit": 2048000,
      "rowLimit": 10000
     },
     "inputWidgets": {},
     "nuid": "68f7f03c-83d3-4c34-95b3-2cc15ef4cc9d",
     "showTitle": false,
     "tableResultSettingsMap": {},
     "title": ""
    }
   },
   "outputs": [],
   "source": [
    "agg_df.createOrReplaceTempView(\"static_counts\")"
   ]
  },
  {
   "cell_type": "code",
   "execution_count": 0,
   "metadata": {
    "application/vnd.databricks.v1+cell": {
     "cellMetadata": {
      "byteLimit": 2048000,
      "implicitDf": true,
      "rowLimit": 10000
     },
     "inputWidgets": {},
     "nuid": "9c3129e4-994e-45d7-b8b4-765fe898b775",
     "showTitle": false,
     "tableResultSettingsMap": {},
     "title": ""
    }
   },
   "outputs": [
    {
     "output_type": "display_data",
     "data": {
      "text/html": [
       "<style scoped>\n",
       "  .table-result-container {\n",
       "    max-height: 300px;\n",
       "    overflow: auto;\n",
       "  }\n",
       "  table, th, td {\n",
       "    border: 1px solid black;\n",
       "    border-collapse: collapse;\n",
       "  }\n",
       "  th, td {\n",
       "    padding: 5px;\n",
       "  }\n",
       "  th {\n",
       "    text-align: left;\n",
       "  }\n",
       "</style><div class='table-result-container'><table class='table-result'><thead style='background-color: white'><tr><th>action</th><th>total_count</th></tr></thead><tbody><tr><td>Open</td><td>50000</td></tr><tr><td>Close</td><td>50000</td></tr></tbody></table></div>"
      ]
     },
     "metadata": {
      "application/vnd.databricks.v1+output": {
       "addedWidgets": {},
       "aggData": [],
       "aggError": "",
       "aggOverflow": false,
       "aggSchema": [],
       "aggSeriesLimitReached": false,
       "aggType": "",
       "arguments": {},
       "columnCustomDisplayInfos": {},
       "data": [
        [
         "Open",
         50000
        ],
        [
         "Close",
         50000
        ]
       ],
       "datasetInfos": [],
       "dbfsResultPath": null,
       "isJsonSchema": true,
       "metadata": {},
       "overflow": false,
       "plotOptions": {
        "customPlotOptions": {},
        "displayType": "barChart",
        "pivotAggregation": null,
        "pivotColumns": null,
        "xColumns": null,
        "yColumns": null
       },
       "removedWidgets": [],
       "schema": [
        {
         "metadata": "{}",
         "name": "action",
         "type": "\"string\""
        },
        {
         "metadata": "{}",
         "name": "total_count",
         "type": "\"long\""
        }
       ],
       "type": "table"
      }
     },
     "output_type": "display_data"
    }
   ],
   "source": [
    "%sql select action, sum(count) as total_count from static_counts group by action"
   ]
  },
  {
   "cell_type": "markdown",
   "metadata": {
    "application/vnd.databricks.v1+cell": {
     "cellMetadata": {
      "byteLimit": 2048000,
      "rowLimit": 10000
     },
     "inputWidgets": {},
     "nuid": "a5270905-1967-4a37-9e59-24cf3e47c3b1",
     "showTitle": false,
     "tableResultSettingsMap": {},
     "title": ""
    }
   },
   "source": [
    "Użyj sql i pokaż ile było akcji w każdym dniu i godzinie przykład ('Jul-26 09:00')"
   ]
  },
  {
   "cell_type": "code",
   "execution_count": 0,
   "metadata": {
    "application/vnd.databricks.v1+cell": {
     "cellMetadata": {
      "byteLimit": 2048000,
      "implicitDf": true,
      "rowLimit": 10000
     },
     "inputWidgets": {},
     "nuid": "e2d9de6b-d5d9-4702-84f0-03260c53198b",
     "showTitle": false,
     "tableResultSettingsMap": {},
     "title": ""
    }
   },
   "outputs": [
    {
     "output_type": "display_data",
     "data": {
      "text/html": [
       "<style scoped>\n",
       "  .table-result-container {\n",
       "    max-height: 300px;\n",
       "    overflow: auto;\n",
       "  }\n",
       "  table, th, td {\n",
       "    border: 1px solid black;\n",
       "    border-collapse: collapse;\n",
       "  }\n",
       "  th, td {\n",
       "    padding: 5px;\n",
       "  }\n",
       "  th {\n",
       "    text-align: left;\n",
       "  }\n",
       "</style><div class='table-result-container'><table class='table-result'><thead style='background-color: white'><tr><th>action</th><th>time</th><th>count</th></tr></thead><tbody><tr><td>Close</td><td>Jul-26 03:00</td><td>11</td></tr><tr><td>Open</td><td>Jul-26 03:00</td><td>179</td></tr><tr><td>Close</td><td>Jul-26 04:00</td><td>344</td></tr><tr><td>Open</td><td>Jul-26 04:00</td><td>1001</td></tr><tr><td>Close</td><td>Jul-26 05:00</td><td>815</td></tr><tr><td>Open</td><td>Jul-26 05:00</td><td>999</td></tr><tr><td>Close</td><td>Jul-26 06:00</td><td>1003</td></tr><tr><td>Open</td><td>Jul-26 06:00</td><td>1000</td></tr><tr><td>Close</td><td>Jul-26 07:00</td><td>1011</td></tr><tr><td>Open</td><td>Jul-26 07:00</td><td>993</td></tr><tr><td>Close</td><td>Jul-26 08:00</td><td>989</td></tr><tr><td>Open</td><td>Jul-26 08:00</td><td>1008</td></tr><tr><td>Close</td><td>Jul-26 09:00</td><td>985</td></tr><tr><td>Open</td><td>Jul-26 09:00</td><td>996</td></tr><tr><td>Close</td><td>Jul-26 10:00</td><td>983</td></tr><tr><td>Open</td><td>Jul-26 10:00</td><td>1000</td></tr><tr><td>Close</td><td>Jul-26 11:00</td><td>1022</td></tr><tr><td>Open</td><td>Jul-26 11:00</td><td>1007</td></tr><tr><td>Close</td><td>Jul-26 12:00</td><td>1028</td></tr><tr><td>Open</td><td>Jul-26 12:00</td><td>991</td></tr><tr><td>Close</td><td>Jul-26 13:00</td><td>960</td></tr><tr><td>Open</td><td>Jul-26 13:00</td><td>996</td></tr><tr><td>Close</td><td>Jul-26 14:00</td><td>1028</td></tr><tr><td>Open</td><td>Jul-26 14:00</td><td>1006</td></tr><tr><td>Close</td><td>Jul-26 15:00</td><td>994</td></tr><tr><td>Open</td><td>Jul-26 15:00</td><td>991</td></tr><tr><td>Close</td><td>Jul-26 16:00</td><td>988</td></tr><tr><td>Open</td><td>Jul-26 16:00</td><td>1020</td></tr><tr><td>Close</td><td>Jul-26 17:00</td><td>984</td></tr><tr><td>Open</td><td>Jul-26 17:00</td><td>992</td></tr><tr><td>Close</td><td>Jul-26 18:00</td><td>1036</td></tr><tr><td>Open</td><td>Jul-26 18:00</td><td>990</td></tr><tr><td>Close</td><td>Jul-26 19:00</td><td>1001</td></tr><tr><td>Open</td><td>Jul-26 19:00</td><td>1004</td></tr><tr><td>Close</td><td>Jul-26 20:00</td><td>967</td></tr><tr><td>Open</td><td>Jul-26 20:00</td><td>998</td></tr><tr><td>Close</td><td>Jul-26 21:00</td><td>1035</td></tr><tr><td>Open</td><td>Jul-26 21:00</td><td>1010</td></tr><tr><td>Close</td><td>Jul-26 22:00</td><td>995</td></tr><tr><td>Open</td><td>Jul-26 22:00</td><td>998</td></tr><tr><td>Close</td><td>Jul-26 23:00</td><td>1036</td></tr><tr><td>Open</td><td>Jul-26 23:00</td><td>997</td></tr><tr><td>Close</td><td>Jul-27 00:00</td><td>950</td></tr><tr><td>Open</td><td>Jul-27 00:00</td><td>1000</td></tr><tr><td>Close</td><td>Jul-27 01:00</td><td>1008</td></tr><tr><td>Open</td><td>Jul-27 01:00</td><td>998</td></tr><tr><td>Close</td><td>Jul-27 02:00</td><td>1013</td></tr><tr><td>Open</td><td>Jul-27 02:00</td><td>1004</td></tr><tr><td>Close</td><td>Jul-27 03:00</td><td>971</td></tr><tr><td>Open</td><td>Jul-27 03:00</td><td>992</td></tr><tr><td>Close</td><td>Jul-27 04:00</td><td>1025</td></tr><tr><td>Open</td><td>Jul-27 04:00</td><td>1014</td></tr><tr><td>Close</td><td>Jul-27 05:00</td><td>989</td></tr><tr><td>Open</td><td>Jul-27 05:00</td><td>995</td></tr><tr><td>Close</td><td>Jul-27 06:00</td><td>987</td></tr><tr><td>Open</td><td>Jul-27 06:00</td><td>986</td></tr><tr><td>Close</td><td>Jul-27 07:00</td><td>1026</td></tr><tr><td>Open</td><td>Jul-27 07:00</td><td>1016</td></tr><tr><td>Close</td><td>Jul-27 08:00</td><td>982</td></tr><tr><td>Open</td><td>Jul-27 08:00</td><td>998</td></tr><tr><td>Close</td><td>Jul-27 09:00</td><td>1024</td></tr><tr><td>Open</td><td>Jul-27 09:00</td><td>1002</td></tr><tr><td>Close</td><td>Jul-27 10:00</td><td>990</td></tr><tr><td>Open</td><td>Jul-27 10:00</td><td>992</td></tr><tr><td>Close</td><td>Jul-27 11:00</td><td>1001</td></tr><tr><td>Open</td><td>Jul-27 11:00</td><td>1006</td></tr><tr><td>Close</td><td>Jul-27 12:00</td><td>1006</td></tr><tr><td>Open</td><td>Jul-27 12:00</td><td>998</td></tr><tr><td>Close</td><td>Jul-27 13:00</td><td>1035</td></tr><tr><td>Open</td><td>Jul-27 13:00</td><td>994</td></tr><tr><td>Close</td><td>Jul-27 14:00</td><td>986</td></tr><tr><td>Open</td><td>Jul-27 14:00</td><td>1008</td></tr><tr><td>Close</td><td>Jul-27 15:00</td><td>948</td></tr><tr><td>Open</td><td>Jul-27 15:00</td><td>984</td></tr><tr><td>Close</td><td>Jul-27 16:00</td><td>1018</td></tr><tr><td>Open</td><td>Jul-27 16:00</td><td>1017</td></tr><tr><td>Close</td><td>Jul-27 17:00</td><td>970</td></tr><tr><td>Open</td><td>Jul-27 17:00</td><td>992</td></tr><tr><td>Close</td><td>Jul-27 18:00</td><td>1020</td></tr><tr><td>Open</td><td>Jul-27 18:00</td><td>1007</td></tr><tr><td>Close</td><td>Jul-27 19:00</td><td>1036</td></tr><tr><td>Open</td><td>Jul-27 19:00</td><td>995</td></tr><tr><td>Close</td><td>Jul-27 20:00</td><td>969</td></tr><tr><td>Open</td><td>Jul-27 20:00</td><td>1007</td></tr><tr><td>Close</td><td>Jul-27 21:00</td><td>1025</td></tr><tr><td>Open</td><td>Jul-27 21:00</td><td>1005</td></tr><tr><td>Close</td><td>Jul-27 22:00</td><td>979</td></tr><tr><td>Open</td><td>Jul-27 22:00</td><td>998</td></tr><tr><td>Close</td><td>Jul-27 23:00</td><td>996</td></tr><tr><td>Open</td><td>Jul-27 23:00</td><td>986</td></tr><tr><td>Close</td><td>Jul-28 00:00</td><td>1011</td></tr><tr><td>Open</td><td>Jul-28 00:00</td><td>1008</td></tr><tr><td>Close</td><td>Jul-28 01:00</td><td>988</td></tr><tr><td>Open</td><td>Jul-28 01:00</td><td>1000</td></tr><tr><td>Close</td><td>Jul-28 02:00</td><td>1010</td></tr><tr><td>Open</td><td>Jul-28 02:00</td><td>1001</td></tr><tr><td>Close</td><td>Jul-28 03:00</td><td>1007</td></tr><tr><td>Open</td><td>Jul-28 03:00</td><td>1000</td></tr><tr><td>Close</td><td>Jul-28 04:00</td><td>993</td></tr><tr><td>Open</td><td>Jul-28 04:00</td><td>996</td></tr><tr><td>Close</td><td>Jul-28 05:00</td><td>960</td></tr><tr><td>Open</td><td>Jul-28 05:00</td><td>825</td></tr><tr><td>Close</td><td>Jul-28 06:00</td><td>671</td></tr><tr><td>Close</td><td>Jul-28 07:00</td><td>191</td></tr></tbody></table></div>"
      ]
     },
     "metadata": {
      "application/vnd.databricks.v1+output": {
       "addedWidgets": {},
       "aggData": [],
       "aggError": "",
       "aggOverflow": false,
       "aggSchema": [],
       "aggSeriesLimitReached": false,
       "aggType": "",
       "arguments": {},
       "columnCustomDisplayInfos": {},
       "data": [
        [
         "Close",
         "Jul-26 03:00",
         11
        ],
        [
         "Open",
         "Jul-26 03:00",
         179
        ],
        [
         "Close",
         "Jul-26 04:00",
         344
        ],
        [
         "Open",
         "Jul-26 04:00",
         1001
        ],
        [
         "Close",
         "Jul-26 05:00",
         815
        ],
        [
         "Open",
         "Jul-26 05:00",
         999
        ],
        [
         "Close",
         "Jul-26 06:00",
         1003
        ],
        [
         "Open",
         "Jul-26 06:00",
         1000
        ],
        [
         "Close",
         "Jul-26 07:00",
         1011
        ],
        [
         "Open",
         "Jul-26 07:00",
         993
        ],
        [
         "Close",
         "Jul-26 08:00",
         989
        ],
        [
         "Open",
         "Jul-26 08:00",
         1008
        ],
        [
         "Close",
         "Jul-26 09:00",
         985
        ],
        [
         "Open",
         "Jul-26 09:00",
         996
        ],
        [
         "Close",
         "Jul-26 10:00",
         983
        ],
        [
         "Open",
         "Jul-26 10:00",
         1000
        ],
        [
         "Close",
         "Jul-26 11:00",
         1022
        ],
        [
         "Open",
         "Jul-26 11:00",
         1007
        ],
        [
         "Close",
         "Jul-26 12:00",
         1028
        ],
        [
         "Open",
         "Jul-26 12:00",
         991
        ],
        [
         "Close",
         "Jul-26 13:00",
         960
        ],
        [
         "Open",
         "Jul-26 13:00",
         996
        ],
        [
         "Close",
         "Jul-26 14:00",
         1028
        ],
        [
         "Open",
         "Jul-26 14:00",
         1006
        ],
        [
         "Close",
         "Jul-26 15:00",
         994
        ],
        [
         "Open",
         "Jul-26 15:00",
         991
        ],
        [
         "Close",
         "Jul-26 16:00",
         988
        ],
        [
         "Open",
         "Jul-26 16:00",
         1020
        ],
        [
         "Close",
         "Jul-26 17:00",
         984
        ],
        [
         "Open",
         "Jul-26 17:00",
         992
        ],
        [
         "Close",
         "Jul-26 18:00",
         1036
        ],
        [
         "Open",
         "Jul-26 18:00",
         990
        ],
        [
         "Close",
         "Jul-26 19:00",
         1001
        ],
        [
         "Open",
         "Jul-26 19:00",
         1004
        ],
        [
         "Close",
         "Jul-26 20:00",
         967
        ],
        [
         "Open",
         "Jul-26 20:00",
         998
        ],
        [
         "Close",
         "Jul-26 21:00",
         1035
        ],
        [
         "Open",
         "Jul-26 21:00",
         1010
        ],
        [
         "Close",
         "Jul-26 22:00",
         995
        ],
        [
         "Open",
         "Jul-26 22:00",
         998
        ],
        [
         "Close",
         "Jul-26 23:00",
         1036
        ],
        [
         "Open",
         "Jul-26 23:00",
         997
        ],
        [
         "Close",
         "Jul-27 00:00",
         950
        ],
        [
         "Open",
         "Jul-27 00:00",
         1000
        ],
        [
         "Close",
         "Jul-27 01:00",
         1008
        ],
        [
         "Open",
         "Jul-27 01:00",
         998
        ],
        [
         "Close",
         "Jul-27 02:00",
         1013
        ],
        [
         "Open",
         "Jul-27 02:00",
         1004
        ],
        [
         "Close",
         "Jul-27 03:00",
         971
        ],
        [
         "Open",
         "Jul-27 03:00",
         992
        ],
        [
         "Close",
         "Jul-27 04:00",
         1025
        ],
        [
         "Open",
         "Jul-27 04:00",
         1014
        ],
        [
         "Close",
         "Jul-27 05:00",
         989
        ],
        [
         "Open",
         "Jul-27 05:00",
         995
        ],
        [
         "Close",
         "Jul-27 06:00",
         987
        ],
        [
         "Open",
         "Jul-27 06:00",
         986
        ],
        [
         "Close",
         "Jul-27 07:00",
         1026
        ],
        [
         "Open",
         "Jul-27 07:00",
         1016
        ],
        [
         "Close",
         "Jul-27 08:00",
         982
        ],
        [
         "Open",
         "Jul-27 08:00",
         998
        ],
        [
         "Close",
         "Jul-27 09:00",
         1024
        ],
        [
         "Open",
         "Jul-27 09:00",
         1002
        ],
        [
         "Close",
         "Jul-27 10:00",
         990
        ],
        [
         "Open",
         "Jul-27 10:00",
         992
        ],
        [
         "Close",
         "Jul-27 11:00",
         1001
        ],
        [
         "Open",
         "Jul-27 11:00",
         1006
        ],
        [
         "Close",
         "Jul-27 12:00",
         1006
        ],
        [
         "Open",
         "Jul-27 12:00",
         998
        ],
        [
         "Close",
         "Jul-27 13:00",
         1035
        ],
        [
         "Open",
         "Jul-27 13:00",
         994
        ],
        [
         "Close",
         "Jul-27 14:00",
         986
        ],
        [
         "Open",
         "Jul-27 14:00",
         1008
        ],
        [
         "Close",
         "Jul-27 15:00",
         948
        ],
        [
         "Open",
         "Jul-27 15:00",
         984
        ],
        [
         "Close",
         "Jul-27 16:00",
         1018
        ],
        [
         "Open",
         "Jul-27 16:00",
         1017
        ],
        [
         "Close",
         "Jul-27 17:00",
         970
        ],
        [
         "Open",
         "Jul-27 17:00",
         992
        ],
        [
         "Close",
         "Jul-27 18:00",
         1020
        ],
        [
         "Open",
         "Jul-27 18:00",
         1007
        ],
        [
         "Close",
         "Jul-27 19:00",
         1036
        ],
        [
         "Open",
         "Jul-27 19:00",
         995
        ],
        [
         "Close",
         "Jul-27 20:00",
         969
        ],
        [
         "Open",
         "Jul-27 20:00",
         1007
        ],
        [
         "Close",
         "Jul-27 21:00",
         1025
        ],
        [
         "Open",
         "Jul-27 21:00",
         1005
        ],
        [
         "Close",
         "Jul-27 22:00",
         979
        ],
        [
         "Open",
         "Jul-27 22:00",
         998
        ],
        [
         "Close",
         "Jul-27 23:00",
         996
        ],
        [
         "Open",
         "Jul-27 23:00",
         986
        ],
        [
         "Close",
         "Jul-28 00:00",
         1011
        ],
        [
         "Open",
         "Jul-28 00:00",
         1008
        ],
        [
         "Close",
         "Jul-28 01:00",
         988
        ],
        [
         "Open",
         "Jul-28 01:00",
         1000
        ],
        [
         "Close",
         "Jul-28 02:00",
         1010
        ],
        [
         "Open",
         "Jul-28 02:00",
         1001
        ],
        [
         "Close",
         "Jul-28 03:00",
         1007
        ],
        [
         "Open",
         "Jul-28 03:00",
         1000
        ],
        [
         "Close",
         "Jul-28 04:00",
         993
        ],
        [
         "Open",
         "Jul-28 04:00",
         996
        ],
        [
         "Close",
         "Jul-28 05:00",
         960
        ],
        [
         "Open",
         "Jul-28 05:00",
         825
        ],
        [
         "Close",
         "Jul-28 06:00",
         671
        ],
        [
         "Close",
         "Jul-28 07:00",
         191
        ]
       ],
       "datasetInfos": [],
       "dbfsResultPath": null,
       "isJsonSchema": true,
       "metadata": {},
       "overflow": false,
       "plotOptions": {
        "customPlotOptions": {
         "barChart": [
          {
           "key": "grouped",
           "value": true
          },
          {
           "key": "stacked",
           "value": false
          },
          {
           "key": "100_stacked",
           "value": false
          }
         ]
        },
        "displayType": "barChart",
        "pivotAggregation": "sum",
        "pivotColumns": [
         "action"
        ],
        "xColumns": [
         "time"
        ],
        "yColumns": [
         "count"
        ]
       },
       "removedWidgets": [],
       "schema": [
        {
         "metadata": "{}",
         "name": "action",
         "type": "\"string\""
        },
        {
         "metadata": "{}",
         "name": "time",
         "type": "\"string\""
        },
        {
         "metadata": "{}",
         "name": "count",
         "type": "\"long\""
        }
       ],
       "type": "table"
      }
     },
     "output_type": "display_data"
    }
   ],
   "source": [
    "%sql select action, date_format(window.end, \"MMM-dd HH:mm\") as time, count from static_counts order by time, action"
   ]
  },
  {
   "cell_type": "markdown",
   "metadata": {
    "application/vnd.databricks.v1+cell": {
     "cellMetadata": {
      "byteLimit": 2048000,
      "rowLimit": 10000
     },
     "inputWidgets": {},
     "nuid": "8467d6a3-9ac7-4325-a001-bd2661daf946",
     "showTitle": false,
     "tableResultSettingsMap": {},
     "title": ""
    }
   },
   "source": [
    "## Stream Processing \n",
    "Teraz użyj streamu.\n",
    "* Ponieważ będziesz streamować pliki trzeba zasymulować, że jest to normaly stream. Podpowiedź dodaj opcję 'maxFilesPerTrigger'\n",
    "* Użyj 'streamDir' niekompletne pliki"
   ]
  },
  {
   "cell_type": "code",
   "execution_count": 0,
   "metadata": {
    "application/vnd.databricks.v1+cell": {
     "cellMetadata": {
      "byteLimit": 2048000,
      "rowLimit": 10000
     },
     "inputWidgets": {},
     "nuid": "228e9f4f-c18f-48b6-b709-f90b72dec5ec",
     "showTitle": false,
     "tableResultSettingsMap": {},
     "title": ""
    }
   },
   "outputs": [],
   "source": [
    "from pyspark.sql.functions import col, from_unixtime, to_timestamp, window\n",
    "\n",
    "streaming_input_df = (spark.readStream\n",
    "    .schema(json_schema)\n",
    "    .option(\"maxFilesPerTrigger\", 1)   # symulacja\n",
    "    .json(streamDir)\n",
    ")\n",
    "\n",
    "stream_with_timestamp = streaming_input_df.withColumn(\n",
    "    \"event_time\", to_timestamp(from_unixtime(col(\"time\").cast(\"long\")))\n",
    ")\n",
    "\n",
    "stream_counts = (stream_with_timestamp\n",
    "    .groupBy(window(col(\"event_time\"), \"1 hour\"), col(\"action\"))\n",
    "    .count()\n",
    ")\n",
    "\n",
    "\n",
    "query = (stream_counts\n",
    "    .writeStream\n",
    "    .outputMode(\"complete\") \n",
    "    .format(\"memory\")        \n",
    "    .queryName(\"streaming_counts\")\n",
    "    .start()\n",
    ")"
   ]
  },
  {
   "cell_type": "markdown",
   "metadata": {
    "application/vnd.databricks.v1+cell": {
     "cellMetadata": {
      "byteLimit": 2048000,
      "rowLimit": 10000
     },
     "inputWidgets": {},
     "nuid": "5762d1c8-8298-436b-874b-c41325c29945",
     "showTitle": false,
     "tableResultSettingsMap": {},
     "title": ""
    }
   },
   "source": [
    "Sprawdź czy stream działa"
   ]
  },
  {
   "cell_type": "code",
   "execution_count": 0,
   "metadata": {
    "application/vnd.databricks.v1+cell": {
     "cellMetadata": {
      "byteLimit": 2048000,
      "rowLimit": 10000
     },
     "inputWidgets": {},
     "nuid": "df5f06cd-415b-4e9b-821b-1249d0feb4e2",
     "showTitle": false,
     "tableResultSettingsMap": {},
     "title": ""
    }
   },
   "outputs": [
    {
     "output_type": "stream",
     "name": "stdout",
     "output_type": "stream",
     "text": [
      "Out[20]: True"
     ]
    }
   ],
   "source": [
    "stream_counts.isStreaming"
   ]
  },
  {
   "cell_type": "markdown",
   "metadata": {
    "application/vnd.databricks.v1+cell": {
     "cellMetadata": {
      "byteLimit": 2048000,
      "rowLimit": 10000
     },
     "inputWidgets": {},
     "nuid": "e15f04cf-1e0a-4b8b-a80b-c3e7b87c6a32",
     "showTitle": false,
     "tableResultSettingsMap": {},
     "title": ""
    }
   },
   "source": [
    "* Zredukuj partyce shuffle do 4 \n",
    "* Teraz ustaw Sink i uruchom stream\n",
    "* użyj formatu 'memory'\n",
    "* 'outputMode' 'complete'"
   ]
  },
  {
   "cell_type": "code",
   "execution_count": 0,
   "metadata": {
    "application/vnd.databricks.v1+cell": {
     "cellMetadata": {
      "byteLimit": 2048000,
      "rowLimit": 10000
     },
     "inputWidgets": {},
     "nuid": "5582d02f-006a-4a28-bdd2-35f0b40abf8d",
     "showTitle": false,
     "tableResultSettingsMap": {},
     "title": ""
    }
   },
   "outputs": [],
   "source": [
    "from pyspark.sql.functions import col, from_unixtime, to_timestamp, window\n",
    "\n",
    "\n",
    "spark.conf.set(\"spark.sql.shuffle.partitions\", 4)\n",
    "\n",
    "\n",
    "query = (stream_counts\n",
    "    .writeStream\n",
    "    .outputMode(\"complete\")\n",
    "    .format(\"memory\")\n",
    "    .queryName(\"streaming_counts\")\n",
    "    .start()\n",
    ")\n"
   ]
  },
  {
   "cell_type": "markdown",
   "metadata": {
    "application/vnd.databricks.v1+cell": {
     "cellMetadata": {
      "byteLimit": 2048000,
      "rowLimit": 10000
     },
     "inputWidgets": {},
     "nuid": "0aade20d-d62f-49cd-bfe6-d4489cdf5ef5",
     "showTitle": false,
     "tableResultSettingsMap": {},
     "title": ""
    }
   },
   "source": [
    "`query` działa teraz w tle i wczytuje pliki cały czas uaktualnia count. Postęp widać w Dashboard"
   ]
  },
  {
   "cell_type": "code",
   "execution_count": 0,
   "metadata": {
    "application/vnd.databricks.v1+cell": {
     "cellMetadata": {
      "byteLimit": 2048000,
      "rowLimit": 10000
     },
     "inputWidgets": {},
     "nuid": "a6e1de01-ff42-4d8e-94d0-24d2824c9d56",
     "showTitle": false,
     "tableResultSettingsMap": {},
     "title": ""
    }
   },
   "outputs": [
    {
     "output_type": "display_data",
     "data": {
      "text/html": [
       "<style scoped>\n",
       "  .ansiout {\n",
       "    display: block;\n",
       "    unicode-bidi: embed;\n",
       "    white-space: pre-wrap;\n",
       "    word-wrap: break-word;\n",
       "    word-break: break-all;\n",
       "    font-family: \"Menlo\", \"Monaco\", \"Consolas\", \"Ubuntu Mono\", \"Source Code Pro\", monospace;\n",
       "    font-size: 13px;\n",
       "    color: #555;\n",
       "    margin-left: 4px;\n",
       "    line-height: 19px;\n",
       "  }\n",
       "</style>\n",
       "<div class=\"ansiout\"></div>"
      ]
     },
     "metadata": {
      "application/vnd.databricks.v1+output": {
       "addedWidgets": {},
       "arguments": {},
       "data": "<div class=\"ansiout\"></div>",
       "datasetInfos": [],
       "metadata": {
        "isDbfsCommandResult": false
       },
       "removedWidgets": [],
       "type": "html"
      }
     },
     "output_type": "display_data"
    }
   ],
   "source": [
    "%scala\n",
    "Thread.sleep(3000) // lekkie opóźnienie żeby poczekać na wczytanie plików"
   ]
  },
  {
   "cell_type": "markdown",
   "metadata": {
    "application/vnd.databricks.v1+cell": {
     "cellMetadata": {
      "byteLimit": 2048000,
      "rowLimit": 10000
     },
     "inputWidgets": {},
     "nuid": "2794cd50-4920-446c-9e28-021e94c29951",
     "showTitle": false,
     "tableResultSettingsMap": {},
     "title": ""
    }
   },
   "source": [
    "* Użyj sql żeby pokazać ilość akcji w danym dniu i godzinie "
   ]
  },
  {
   "cell_type": "code",
   "execution_count": 0,
   "metadata": {
    "application/vnd.databricks.v1+cell": {
     "cellMetadata": {
      "byteLimit": 2048000,
      "implicitDf": true,
      "rowLimit": 10000
     },
     "inputWidgets": {},
     "nuid": "c688da2a-f534-4026-afd1-80c690e5e315",
     "showTitle": false,
     "tableResultSettingsMap": {},
     "title": ""
    }
   },
   "outputs": [
    {
     "output_type": "display_data",
     "data": {
      "text/html": [
       "<style scoped>\n",
       "  .table-result-container {\n",
       "    max-height: 300px;\n",
       "    overflow: auto;\n",
       "  }\n",
       "  table, th, td {\n",
       "    border: 1px solid black;\n",
       "    border-collapse: collapse;\n",
       "  }\n",
       "  th, td {\n",
       "    padding: 5px;\n",
       "  }\n",
       "  th {\n",
       "    text-align: left;\n",
       "  }\n",
       "</style><div class='table-result-container'><table class='table-result'><thead style='background-color: white'><tr><th>window</th><th>action</th><th>count</th></tr></thead><tbody><tr><td>List(2016-07-26T02:00:00.000+0000, 2016-07-26T03:00:00.000+0000)</td><td>Close</td><td>11</td></tr><tr><td>List(2016-07-26T02:00:00.000+0000, 2016-07-26T03:00:00.000+0000)</td><td>Open</td><td>179</td></tr><tr><td>List(2016-07-26T03:00:00.000+0000, 2016-07-26T04:00:00.000+0000)</td><td>Open</td><td>1001</td></tr><tr><td>List(2016-07-26T03:00:00.000+0000, 2016-07-26T04:00:00.000+0000)</td><td>Close</td><td>344</td></tr><tr><td>List(2016-07-26T04:00:00.000+0000, 2016-07-26T05:00:00.000+0000)</td><td>Open</td><td>999</td></tr><tr><td>List(2016-07-26T04:00:00.000+0000, 2016-07-26T05:00:00.000+0000)</td><td>Close</td><td>815</td></tr><tr><td>List(2016-07-26T05:00:00.000+0000, 2016-07-26T06:00:00.000+0000)</td><td>Close</td><td>1003</td></tr><tr><td>List(2016-07-26T05:00:00.000+0000, 2016-07-26T06:00:00.000+0000)</td><td>Open</td><td>1000</td></tr><tr><td>List(2016-07-26T06:00:00.000+0000, 2016-07-26T07:00:00.000+0000)</td><td>Open</td><td>993</td></tr><tr><td>List(2016-07-26T06:00:00.000+0000, 2016-07-26T07:00:00.000+0000)</td><td>Close</td><td>1011</td></tr><tr><td>List(2016-07-26T07:00:00.000+0000, 2016-07-26T08:00:00.000+0000)</td><td>Close</td><td>989</td></tr><tr><td>List(2016-07-26T07:00:00.000+0000, 2016-07-26T08:00:00.000+0000)</td><td>Open</td><td>1008</td></tr><tr><td>List(2016-07-26T08:00:00.000+0000, 2016-07-26T09:00:00.000+0000)</td><td>Open</td><td>996</td></tr><tr><td>List(2016-07-26T08:00:00.000+0000, 2016-07-26T09:00:00.000+0000)</td><td>Close</td><td>985</td></tr><tr><td>List(2016-07-26T09:00:00.000+0000, 2016-07-26T10:00:00.000+0000)</td><td>Close</td><td>983</td></tr><tr><td>List(2016-07-26T09:00:00.000+0000, 2016-07-26T10:00:00.000+0000)</td><td>Open</td><td>1000</td></tr><tr><td>List(2016-07-26T10:00:00.000+0000, 2016-07-26T11:00:00.000+0000)</td><td>Open</td><td>1007</td></tr><tr><td>List(2016-07-26T10:00:00.000+0000, 2016-07-26T11:00:00.000+0000)</td><td>Close</td><td>1022</td></tr><tr><td>List(2016-07-26T11:00:00.000+0000, 2016-07-26T12:00:00.000+0000)</td><td>Open</td><td>991</td></tr><tr><td>List(2016-07-26T11:00:00.000+0000, 2016-07-26T12:00:00.000+0000)</td><td>Close</td><td>1028</td></tr><tr><td>List(2016-07-26T12:00:00.000+0000, 2016-07-26T13:00:00.000+0000)</td><td>Open</td><td>996</td></tr><tr><td>List(2016-07-26T12:00:00.000+0000, 2016-07-26T13:00:00.000+0000)</td><td>Close</td><td>960</td></tr><tr><td>List(2016-07-26T13:00:00.000+0000, 2016-07-26T14:00:00.000+0000)</td><td>Close</td><td>329</td></tr><tr><td>List(2016-07-26T13:00:00.000+0000, 2016-07-26T14:00:00.000+0000)</td><td>Open</td><td>350</td></tr></tbody></table></div>"
      ]
     },
     "metadata": {
      "application/vnd.databricks.v1+output": {
       "addedWidgets": {},
       "aggData": [],
       "aggError": "",
       "aggOverflow": false,
       "aggSchema": [],
       "aggSeriesLimitReached": false,
       "aggType": "",
       "arguments": {},
       "columnCustomDisplayInfos": {},
       "data": [
        [
         [
          "2016-07-26T02:00:00.000+0000",
          "2016-07-26T03:00:00.000+0000"
         ],
         "Close",
         11
        ],
        [
         [
          "2016-07-26T02:00:00.000+0000",
          "2016-07-26T03:00:00.000+0000"
         ],
         "Open",
         179
        ],
        [
         [
          "2016-07-26T03:00:00.000+0000",
          "2016-07-26T04:00:00.000+0000"
         ],
         "Open",
         1001
        ],
        [
         [
          "2016-07-26T03:00:00.000+0000",
          "2016-07-26T04:00:00.000+0000"
         ],
         "Close",
         344
        ],
        [
         [
          "2016-07-26T04:00:00.000+0000",
          "2016-07-26T05:00:00.000+0000"
         ],
         "Open",
         999
        ],
        [
         [
          "2016-07-26T04:00:00.000+0000",
          "2016-07-26T05:00:00.000+0000"
         ],
         "Close",
         815
        ],
        [
         [
          "2016-07-26T05:00:00.000+0000",
          "2016-07-26T06:00:00.000+0000"
         ],
         "Close",
         1003
        ],
        [
         [
          "2016-07-26T05:00:00.000+0000",
          "2016-07-26T06:00:00.000+0000"
         ],
         "Open",
         1000
        ],
        [
         [
          "2016-07-26T06:00:00.000+0000",
          "2016-07-26T07:00:00.000+0000"
         ],
         "Open",
         993
        ],
        [
         [
          "2016-07-26T06:00:00.000+0000",
          "2016-07-26T07:00:00.000+0000"
         ],
         "Close",
         1011
        ],
        [
         [
          "2016-07-26T07:00:00.000+0000",
          "2016-07-26T08:00:00.000+0000"
         ],
         "Close",
         989
        ],
        [
         [
          "2016-07-26T07:00:00.000+0000",
          "2016-07-26T08:00:00.000+0000"
         ],
         "Open",
         1008
        ],
        [
         [
          "2016-07-26T08:00:00.000+0000",
          "2016-07-26T09:00:00.000+0000"
         ],
         "Open",
         996
        ],
        [
         [
          "2016-07-26T08:00:00.000+0000",
          "2016-07-26T09:00:00.000+0000"
         ],
         "Close",
         985
        ],
        [
         [
          "2016-07-26T09:00:00.000+0000",
          "2016-07-26T10:00:00.000+0000"
         ],
         "Close",
         983
        ],
        [
         [
          "2016-07-26T09:00:00.000+0000",
          "2016-07-26T10:00:00.000+0000"
         ],
         "Open",
         1000
        ],
        [
         [
          "2016-07-26T10:00:00.000+0000",
          "2016-07-26T11:00:00.000+0000"
         ],
         "Open",
         1007
        ],
        [
         [
          "2016-07-26T10:00:00.000+0000",
          "2016-07-26T11:00:00.000+0000"
         ],
         "Close",
         1022
        ],
        [
         [
          "2016-07-26T11:00:00.000+0000",
          "2016-07-26T12:00:00.000+0000"
         ],
         "Open",
         991
        ],
        [
         [
          "2016-07-26T11:00:00.000+0000",
          "2016-07-26T12:00:00.000+0000"
         ],
         "Close",
         1028
        ],
        [
         [
          "2016-07-26T12:00:00.000+0000",
          "2016-07-26T13:00:00.000+0000"
         ],
         "Open",
         996
        ],
        [
         [
          "2016-07-26T12:00:00.000+0000",
          "2016-07-26T13:00:00.000+0000"
         ],
         "Close",
         960
        ],
        [
         [
          "2016-07-26T13:00:00.000+0000",
          "2016-07-26T14:00:00.000+0000"
         ],
         "Close",
         329
        ],
        [
         [
          "2016-07-26T13:00:00.000+0000",
          "2016-07-26T14:00:00.000+0000"
         ],
         "Open",
         350
        ]
       ],
       "datasetInfos": [],
       "dbfsResultPath": null,
       "isJsonSchema": true,
       "metadata": {},
       "overflow": false,
       "plotOptions": {
        "customPlotOptions": {
         "barChart": [
          {
           "key": "grouped",
           "value": true
          },
          {
           "key": "stacked",
           "value": false
          },
          {
           "key": "100_stacked",
           "value": false
          }
         ]
        },
        "displayType": "barChart",
        "pivotAggregation": "sum",
        "pivotColumns": [
         "action"
        ],
        "xColumns": [],
        "yColumns": [
         "count"
        ]
       },
       "removedWidgets": [],
       "schema": [
        {
         "metadata": "{\"spark.timeWindow\":true}",
         "name": "window",
         "type": "{\"type\":\"struct\",\"fields\":[{\"name\":\"start\",\"type\":\"timestamp\",\"nullable\":true,\"metadata\":{}},{\"name\":\"end\",\"type\":\"timestamp\",\"nullable\":true,\"metadata\":{}}]}"
        },
        {
         "metadata": "{}",
         "name": "action",
         "type": "\"string\""
        },
        {
         "metadata": "{}",
         "name": "count",
         "type": "\"long\""
        }
       ],
       "type": "table"
      }
     },
     "output_type": "display_data"
    }
   ],
   "source": [
    "%sql\n",
    "SELECT * FROM streaming_counts\n",
    "ORDER BY window"
   ]
  },
  {
   "cell_type": "markdown",
   "metadata": {
    "application/vnd.databricks.v1+cell": {
     "cellMetadata": {
      "byteLimit": 2048000,
      "rowLimit": 10000
     },
     "inputWidgets": {},
     "nuid": "484dd9d9-edd2-43c4-9a66-05b886e33a16",
     "showTitle": false,
     "tableResultSettingsMap": {},
     "title": ""
    }
   },
   "source": [
    "* Sumy mogą się nie zgadzać ponieważ wcześniej użyłeś niekompletnych danych.\n",
    "* Teraz przekopiuj resztę plików z orginalnego folderu do 'streamDir', sprawdź czy widać zmiany \n"
   ]
  },
  {
   "cell_type": "code",
   "execution_count": 0,
   "metadata": {
    "application/vnd.databricks.v1+cell": {
     "cellMetadata": {
      "byteLimit": 2048000,
      "rowLimit": 10000
     },
     "inputWidgets": {},
     "nuid": "8f0f26ea-26f2-474f-a159-b817af7dec94",
     "showTitle": false,
     "tableResultSettingsMap": {},
     "title": ""
    }
   },
   "outputs": [
    {
     "output_type": "stream",
     "name": "stdout",
     "output_type": "stream",
     "text": [
      "Out[27]: True"
     ]
    }
   ],
   "source": [
    "dbutils.fs.cp(\n",
    "    \"dbfs:/databricks-datasets/structured-streaming/events/\", \n",
    "    \"dbfs:/FileStore/streamDir/\", \n",
    "    recurse=True\n",
    ")"
   ]
  },
  {
   "cell_type": "code",
   "execution_count": 0,
   "metadata": {
    "application/vnd.databricks.v1+cell": {
     "cellMetadata": {
      "byteLimit": 2048000,
      "implicitDf": true,
      "rowLimit": 10000
     },
     "inputWidgets": {},
     "nuid": "cd90c0ff-9bf6-48ac-81ba-f598b54a3566",
     "showTitle": false,
     "tableResultSettingsMap": {},
     "title": ""
    }
   },
   "outputs": [
    {
     "output_type": "display_data",
     "data": {
      "text/html": [
       "<style scoped>\n",
       "  .table-result-container {\n",
       "    max-height: 300px;\n",
       "    overflow: auto;\n",
       "  }\n",
       "  table, th, td {\n",
       "    border: 1px solid black;\n",
       "    border-collapse: collapse;\n",
       "  }\n",
       "  th, td {\n",
       "    padding: 5px;\n",
       "  }\n",
       "  th {\n",
       "    text-align: left;\n",
       "  }\n",
       "</style><div class='table-result-container'><table class='table-result'><thead style='background-color: white'><tr><th>window</th><th>action</th><th>count</th></tr></thead><tbody><tr><td>List(2016-07-26T02:00:00.000+0000, 2016-07-26T03:00:00.000+0000)</td><td>Open</td><td>179</td></tr><tr><td>List(2016-07-26T02:00:00.000+0000, 2016-07-26T03:00:00.000+0000)</td><td>Close</td><td>11</td></tr><tr><td>List(2016-07-26T03:00:00.000+0000, 2016-07-26T04:00:00.000+0000)</td><td>Open</td><td>1001</td></tr><tr><td>List(2016-07-26T03:00:00.000+0000, 2016-07-26T04:00:00.000+0000)</td><td>Close</td><td>344</td></tr><tr><td>List(2016-07-26T04:00:00.000+0000, 2016-07-26T05:00:00.000+0000)</td><td>Close</td><td>815</td></tr><tr><td>List(2016-07-26T04:00:00.000+0000, 2016-07-26T05:00:00.000+0000)</td><td>Open</td><td>999</td></tr><tr><td>List(2016-07-26T05:00:00.000+0000, 2016-07-26T06:00:00.000+0000)</td><td>Close</td><td>1003</td></tr><tr><td>List(2016-07-26T05:00:00.000+0000, 2016-07-26T06:00:00.000+0000)</td><td>Open</td><td>1000</td></tr><tr><td>List(2016-07-26T06:00:00.000+0000, 2016-07-26T07:00:00.000+0000)</td><td>Open</td><td>993</td></tr><tr><td>List(2016-07-26T06:00:00.000+0000, 2016-07-26T07:00:00.000+0000)</td><td>Close</td><td>1011</td></tr><tr><td>List(2016-07-26T07:00:00.000+0000, 2016-07-26T08:00:00.000+0000)</td><td>Open</td><td>1008</td></tr><tr><td>List(2016-07-26T07:00:00.000+0000, 2016-07-26T08:00:00.000+0000)</td><td>Close</td><td>989</td></tr><tr><td>List(2016-07-26T08:00:00.000+0000, 2016-07-26T09:00:00.000+0000)</td><td>Close</td><td>985</td></tr><tr><td>List(2016-07-26T08:00:00.000+0000, 2016-07-26T09:00:00.000+0000)</td><td>Open</td><td>996</td></tr><tr><td>List(2016-07-26T09:00:00.000+0000, 2016-07-26T10:00:00.000+0000)</td><td>Close</td><td>983</td></tr><tr><td>List(2016-07-26T09:00:00.000+0000, 2016-07-26T10:00:00.000+0000)</td><td>Open</td><td>1000</td></tr><tr><td>List(2016-07-26T10:00:00.000+0000, 2016-07-26T11:00:00.000+0000)</td><td>Close</td><td>1022</td></tr><tr><td>List(2016-07-26T10:00:00.000+0000, 2016-07-26T11:00:00.000+0000)</td><td>Open</td><td>1007</td></tr><tr><td>List(2016-07-26T11:00:00.000+0000, 2016-07-26T12:00:00.000+0000)</td><td>Open</td><td>991</td></tr><tr><td>List(2016-07-26T11:00:00.000+0000, 2016-07-26T12:00:00.000+0000)</td><td>Close</td><td>1028</td></tr><tr><td>List(2016-07-26T12:00:00.000+0000, 2016-07-26T13:00:00.000+0000)</td><td>Open</td><td>996</td></tr><tr><td>List(2016-07-26T12:00:00.000+0000, 2016-07-26T13:00:00.000+0000)</td><td>Close</td><td>960</td></tr><tr><td>List(2016-07-26T13:00:00.000+0000, 2016-07-26T14:00:00.000+0000)</td><td>Close</td><td>329</td></tr><tr><td>List(2016-07-26T13:00:00.000+0000, 2016-07-26T14:00:00.000+0000)</td><td>Open</td><td>350</td></tr></tbody></table></div>"
      ]
     },
     "metadata": {
      "application/vnd.databricks.v1+output": {
       "addedWidgets": {},
       "aggData": [],
       "aggError": "",
       "aggOverflow": false,
       "aggSchema": [],
       "aggSeriesLimitReached": false,
       "aggType": "",
       "arguments": {},
       "columnCustomDisplayInfos": {},
       "data": [
        [
         [
          "2016-07-26T02:00:00.000+0000",
          "2016-07-26T03:00:00.000+0000"
         ],
         "Open",
         179
        ],
        [
         [
          "2016-07-26T02:00:00.000+0000",
          "2016-07-26T03:00:00.000+0000"
         ],
         "Close",
         11
        ],
        [
         [
          "2016-07-26T03:00:00.000+0000",
          "2016-07-26T04:00:00.000+0000"
         ],
         "Open",
         1001
        ],
        [
         [
          "2016-07-26T03:00:00.000+0000",
          "2016-07-26T04:00:00.000+0000"
         ],
         "Close",
         344
        ],
        [
         [
          "2016-07-26T04:00:00.000+0000",
          "2016-07-26T05:00:00.000+0000"
         ],
         "Close",
         815
        ],
        [
         [
          "2016-07-26T04:00:00.000+0000",
          "2016-07-26T05:00:00.000+0000"
         ],
         "Open",
         999
        ],
        [
         [
          "2016-07-26T05:00:00.000+0000",
          "2016-07-26T06:00:00.000+0000"
         ],
         "Close",
         1003
        ],
        [
         [
          "2016-07-26T05:00:00.000+0000",
          "2016-07-26T06:00:00.000+0000"
         ],
         "Open",
         1000
        ],
        [
         [
          "2016-07-26T06:00:00.000+0000",
          "2016-07-26T07:00:00.000+0000"
         ],
         "Open",
         993
        ],
        [
         [
          "2016-07-26T06:00:00.000+0000",
          "2016-07-26T07:00:00.000+0000"
         ],
         "Close",
         1011
        ],
        [
         [
          "2016-07-26T07:00:00.000+0000",
          "2016-07-26T08:00:00.000+0000"
         ],
         "Open",
         1008
        ],
        [
         [
          "2016-07-26T07:00:00.000+0000",
          "2016-07-26T08:00:00.000+0000"
         ],
         "Close",
         989
        ],
        [
         [
          "2016-07-26T08:00:00.000+0000",
          "2016-07-26T09:00:00.000+0000"
         ],
         "Close",
         985
        ],
        [
         [
          "2016-07-26T08:00:00.000+0000",
          "2016-07-26T09:00:00.000+0000"
         ],
         "Open",
         996
        ],
        [
         [
          "2016-07-26T09:00:00.000+0000",
          "2016-07-26T10:00:00.000+0000"
         ],
         "Close",
         983
        ],
        [
         [
          "2016-07-26T09:00:00.000+0000",
          "2016-07-26T10:00:00.000+0000"
         ],
         "Open",
         1000
        ],
        [
         [
          "2016-07-26T10:00:00.000+0000",
          "2016-07-26T11:00:00.000+0000"
         ],
         "Close",
         1022
        ],
        [
         [
          "2016-07-26T10:00:00.000+0000",
          "2016-07-26T11:00:00.000+0000"
         ],
         "Open",
         1007
        ],
        [
         [
          "2016-07-26T11:00:00.000+0000",
          "2016-07-26T12:00:00.000+0000"
         ],
         "Open",
         991
        ],
        [
         [
          "2016-07-26T11:00:00.000+0000",
          "2016-07-26T12:00:00.000+0000"
         ],
         "Close",
         1028
        ],
        [
         [
          "2016-07-26T12:00:00.000+0000",
          "2016-07-26T13:00:00.000+0000"
         ],
         "Open",
         996
        ],
        [
         [
          "2016-07-26T12:00:00.000+0000",
          "2016-07-26T13:00:00.000+0000"
         ],
         "Close",
         960
        ],
        [
         [
          "2016-07-26T13:00:00.000+0000",
          "2016-07-26T14:00:00.000+0000"
         ],
         "Close",
         329
        ],
        [
         [
          "2016-07-26T13:00:00.000+0000",
          "2016-07-26T14:00:00.000+0000"
         ],
         "Open",
         350
        ]
       ],
       "datasetInfos": [],
       "dbfsResultPath": null,
       "isJsonSchema": true,
       "metadata": {},
       "overflow": false,
       "plotOptions": {
        "customPlotOptions": {
         "barChart": [
          {
           "key": "grouped",
           "value": true
          },
          {
           "key": "stacked",
           "value": false
          },
          {
           "key": "100_stacked",
           "value": false
          }
         ]
        },
        "displayType": "barChart",
        "pivotAggregation": "sum",
        "pivotColumns": [
         "action"
        ],
        "xColumns": [],
        "yColumns": [
         "count"
        ]
       },
       "removedWidgets": [],
       "schema": [
        {
         "metadata": "{\"spark.timeWindow\":true}",
         "name": "window",
         "type": "{\"type\":\"struct\",\"fields\":[{\"name\":\"start\",\"type\":\"timestamp\",\"nullable\":true,\"metadata\":{}},{\"name\":\"end\",\"type\":\"timestamp\",\"nullable\":true,\"metadata\":{}}]}"
        },
        {
         "metadata": "{}",
         "name": "action",
         "type": "\"string\""
        },
        {
         "metadata": "{}",
         "name": "count",
         "type": "\"long\""
        }
       ],
       "type": "table"
      }
     },
     "output_type": "display_data"
    }
   ],
   "source": [
    "%sql\n",
    "SELECT * FROM streaming_counts\n",
    "ORDER BY window"
   ]
  },
  {
   "cell_type": "markdown",
   "metadata": {
    "application/vnd.databricks.v1+cell": {
     "cellMetadata": {
      "byteLimit": 2048000,
      "rowLimit": 10000
     },
     "inputWidgets": {},
     "nuid": "50c89a6a-f182-4cc8-ac2b-098bf1e2d674",
     "showTitle": false,
     "tableResultSettingsMap": {},
     "title": ""
    }
   },
   "source": [
    "* Zatrzymaj stream"
   ]
  },
  {
   "cell_type": "code",
   "execution_count": 0,
   "metadata": {
    "application/vnd.databricks.v1+cell": {
     "cellMetadata": {
      "byteLimit": 2048000,
      "rowLimit": 10000
     },
     "inputWidgets": {},
     "nuid": "593431a4-59ca-4166-abaa-92c2ae61cb93",
     "showTitle": false,
     "tableResultSettingsMap": {},
     "title": ""
    }
   },
   "outputs": [],
   "source": [
    "query.stop()"
   ]
  }
 ],
 "metadata": {
  "application/vnd.databricks.v1+notebook": {
   "computePreferences": null,
   "dashboards": [],
   "environmentMetadata": null,
   "inputWidgetPreferences": null,
   "language": "python",
   "notebookMetadata": {
    "mostRecentlyExecutedCommandWithImplicitDF": {
     "commandId": -1,
     "dataframes": [
      "_sqldf"
     ]
    },
    "pythonIndentUnit": 2
   },
   "notebookName": "Stream Plików",
   "widgets": {}
  }
 },
 "nbformat": 4,
 "nbformat_minor": 0
}