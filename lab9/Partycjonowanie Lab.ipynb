{
 "cells": [
  {
   "cell_type": "markdown",
   "metadata": {
    "application/vnd.databricks.v1+cell": {
     "cellMetadata": {
      "byteLimit": 2048000,
      "rowLimit": 10000
     },
     "inputWidgets": {},
     "nuid": "09d4d90d-13f1-47eb-95a2-ce2c86a1a1b5",
     "showTitle": false,
     "tableResultSettingsMap": {},
     "title": ""
    }
   },
   "source": [
    "## Jak działa partycjonowanie\n",
    "\n",
    "1. Rozpocznij z 8 partycjami.\n",
    "2. Uruchom kod.\n",
    "3. Otwórz **Spark UI**\n",
    "4. Sprawdź drugi job (czy są jakieś różnice pomięczy drugim)\n",
    "5. Sprawdź **Event Timeline**\n",
    "6. Sprawdzaj czas wykonania.\n",
    "  * Uruchom kilka razy rzeby sprawdzić średni czas wykonania.\n",
    "\n",
    "Powtórz z inną liczbą partycji\n",
    "* 1 partycja\n",
    "* 7 partycja\n",
    "* 9 partycja\n",
    "* 16 partycja\n",
    "* 24 partycja\n",
    "* 96 partycja\n",
    "* 200 partycja\n",
    "* 4000 partycja\n",
    "\n",
    "Zastąp `repartition(n)` z `coalesce(n)` używając:\n",
    "* 6 partycji\n",
    "* 5 partycji\n",
    "* 4 partycji\n",
    "* 3 partycji\n",
    "* 2 partycji\n",
    "* 1 partycji\n",
    "\n",
    "** *Note:* ** *Dane muszą być wystarczająco duże żeby zaobserwować duże różnice z małymi partycjami.*<br/>* To co możesz sprawdzić jak zachowują się małe dane z dużą ilośćia partycji.*"
   ]
  },
  {
   "cell_type": "code",
   "execution_count": 0,
   "metadata": {
    "application/vnd.databricks.v1+cell": {
     "cellMetadata": {
      "byteLimit": 2048000,
      "rowLimit": 10000
     },
     "inputWidgets": {},
     "nuid": "8d32ef69-6979-47ea-9a1c-7e69f1104bb7",
     "showTitle": false,
     "tableResultSettingsMap": {},
     "title": ""
    }
   },
   "outputs": [
    {
     "output_type": "stream",
     "name": "stdout",
     "output_type": "stream",
     "text": [
      "Out[1]: '200'"
     ]
    }
   ],
   "source": [
    "# slots = sc.defaultParallelism\n",
    "spark.conf.get(\"spark.sql.shuffle.partitions\")"
   ]
  },
  {
   "cell_type": "code",
   "execution_count": 0,
   "metadata": {
    "application/vnd.databricks.v1+cell": {
     "cellMetadata": {
      "byteLimit": 2048000,
      "rowLimit": 10000
     },
     "inputWidgets": {},
     "nuid": "00c84ff5-f945-4183-b7c9-fd9fb54523b4",
     "showTitle": false,
     "tableResultSettingsMap": {},
     "title": ""
    }
   },
   "outputs": [
    {
     "output_type": "stream",
     "name": "stdout",
     "output_type": "stream",
     "text": [
      "Out[2]: 1133"
     ]
    }
   ],
   "source": [
    "spark.catalog.clearCache()\n",
    "parquetDir = \"/FileStore/tables/training/wikipedia/pageviews/\"\n",
    "\n",
    "df = (spark.read\n",
    "  .parquet(parquetDir)\n",
    ".repartition(2000)\n",
    "#    .coalesce(6)\n",
    ".groupBy(\"count_views\").sum())\n",
    "\n",
    "\n",
    "df.explain\n",
    "df.count()"
   ]
  },
  {
   "cell_type": "code",
   "execution_count": 0,
   "metadata": {
    "application/vnd.databricks.v1+cell": {
     "cellMetadata": {
      "byteLimit": 2048000,
      "rowLimit": 10000
     },
     "inputWidgets": {},
     "nuid": "25bcb8da-33ec-4bf2-b997-aafb2db24c17",
     "showTitle": false,
     "tableResultSettingsMap": {},
     "title": ""
    }
   },
   "outputs": [
    {
     "output_type": "stream",
     "name": "stdout",
     "output_type": "stream",
     "text": [
      "Out[3]: <bound method RDD.getNumPartitions of MapPartitionsRDD[130] at javaToPython at NativeMethodAccessorImpl.java:0>"
     ]
    }
   ],
   "source": [
    "df.rdd.getNumPartitions"
   ]
  },
  {
   "cell_type": "code",
   "execution_count": 0,
   "metadata": {
    "application/vnd.databricks.v1+cell": {
     "cellMetadata": {
      "byteLimit": 2048000,
      "rowLimit": 10000
     },
     "inputWidgets": {},
     "nuid": "a3c9f95b-b36c-4860-b279-500eb1e8264e",
     "showTitle": false,
     "tableResultSettingsMap": {},
     "title": ""
    }
   },
   "outputs": [
    {
     "output_type": "stream",
     "name": "stdout",
     "output_type": "stream",
     "text": [
      "Czas wykonania: 72.98877906799316\nCzas wykonania: 190.10655570030212\nCzas wykonania: 194.7217893600464\nCzas wykonania: 194.4560730457306\nCzas wykonania: 191.49872970581055\nCzas wykonania: 206.26620197296143\nCzas wykonania: 202.04097819328308\nCzas wykonania: 449.8258807659149\n"
     ]
    }
   ],
   "source": [
    "import time\n",
    "\n",
    "for n in [1, 7, 9, 16, 24, 96, 200, 4000]:\n",
    "    start = time.time()\n",
    "    df = df.repartition(n)\n",
    "    df.write.mode(\"overwrite\").format(\"noop\").save()\n",
    "    print(\"Czas wykonania:\", time.time() - start)\n"
   ]
  },
  {
   "cell_type": "code",
   "execution_count": 0,
   "metadata": {
    "application/vnd.databricks.v1+cell": {
     "cellMetadata": {
      "byteLimit": 2048000,
      "rowLimit": 10000
     },
     "inputWidgets": {},
     "nuid": "f44b6142-d33a-4118-8b1c-71b13a0853a5",
     "showTitle": false,
     "tableResultSettingsMap": {},
     "title": ""
    }
   },
   "outputs": [
    {
     "output_type": "stream",
     "name": "stdout",
     "output_type": "stream",
     "text": [
      "Coalesce(6) - Czas wykonania: 225.24 sek\nCoalesce(5) - Czas wykonania: 345.5 sek\nCoalesce(4) - Czas wykonania: 258.71 sek\nCoalesce(3) - Czas wykonania: 253.49 sek\nCoalesce(2) - Czas wykonania: 255.75 sek\nCoalesce(1) - Czas wykonania: 281.44 sek\n"
     ]
    }
   ],
   "source": [
    "for n in [6, 5, 4, 3, 2, 1]:\n",
    "    start = time.time()\n",
    "    df_small = df.coalesce(n)\n",
    "    df_small.write.mode(\"overwrite\").format(\"noop\").save()\n",
    "    end = time.time()\n",
    "    print(f\"Coalesce({n}) - Czas wykonania: {round(end - start, 2)} sek\")"
   ]
  }
 ],
 "metadata": {
  "application/vnd.databricks.v1+notebook": {
   "computePreferences": null,
   "dashboards": [],
   "environmentMetadata": null,
   "inputWidgetPreferences": null,
   "language": "python",
   "notebookMetadata": {
    "pythonIndentUnit": 2
   },
   "notebookName": "Partycjonowanie Lab",
   "widgets": {}
  }
 },
 "nbformat": 4,
 "nbformat_minor": 0
}